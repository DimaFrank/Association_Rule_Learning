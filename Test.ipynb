{
  "nbformat": 4,
  "nbformat_minor": 0,
  "metadata": {
    "colab": {
      "provenance": [],
      "authorship_tag": "ABX9TyM/FJSP/24gnPAPh9A07sEE",
      "include_colab_link": true
    },
    "kernelspec": {
      "name": "python3",
      "display_name": "Python 3"
    },
    "language_info": {
      "name": "python"
    }
  },
  "cells": [
    {
      "cell_type": "markdown",
      "metadata": {
        "id": "view-in-github",
        "colab_type": "text"
      },
      "source": [
        "<a href=\"https://colab.research.google.com/github/DimaFrank/Association_Rule_Learning/blob/test/Test.ipynb\" target=\"_parent\"><img src=\"https://colab.research.google.com/assets/colab-badge.svg\" alt=\"Open In Colab\"/></a>"
      ]
    },
    {
      "cell_type": "code",
      "source": [
        "!pip install pyspark"
      ],
      "metadata": {
        "colab": {
          "base_uri": "https://localhost:8080/"
        },
        "id": "dZpkMk--GvcO",
        "outputId": "c5ad1708-2a61-4dfd-ca2c-7c88b46c2c49"
      },
      "execution_count": null,
      "outputs": [
        {
          "output_type": "stream",
          "name": "stdout",
          "text": [
            "Looking in indexes: https://pypi.org/simple, https://us-python.pkg.dev/colab-wheels/public/simple/\n",
            "Collecting pyspark\n",
            "  Downloading pyspark-3.3.1.tar.gz (281.4 MB)\n",
            "\u001b[2K     \u001b[90m━━━━━━━━━━━━━━━━━━━━━━━━━━━━━━━━━━━━━━━\u001b[0m \u001b[32m281.4/281.4 MB\u001b[0m \u001b[31m3.9 MB/s\u001b[0m eta \u001b[36m0:00:00\u001b[0m\n",
            "\u001b[?25h  Preparing metadata (setup.py) ... \u001b[?25l\u001b[?25hdone\n",
            "Collecting py4j==0.10.9.5\n",
            "  Downloading py4j-0.10.9.5-py2.py3-none-any.whl (199 kB)\n",
            "\u001b[2K     \u001b[90m━━━━━━━━━━━━━━━━━━━━━━━━━━━━━━━━━━━━━━\u001b[0m \u001b[32m199.7/199.7 KB\u001b[0m \u001b[31m11.0 MB/s\u001b[0m eta \u001b[36m0:00:00\u001b[0m\n",
            "\u001b[?25hBuilding wheels for collected packages: pyspark\n",
            "  Building wheel for pyspark (setup.py) ... \u001b[?25l\u001b[?25hdone\n",
            "  Created wheel for pyspark: filename=pyspark-3.3.1-py2.py3-none-any.whl size=281845512 sha256=0c7c545eecfb10f5b7e24fc3f34ce8421849cef405aaf7531d778b21bb6c95ec\n",
            "  Stored in directory: /root/.cache/pip/wheels/43/dc/11/ec201cd671da62fa9c5cc77078235e40722170ceba231d7598\n",
            "Successfully built pyspark\n",
            "Installing collected packages: py4j, pyspark\n",
            "Successfully installed py4j-0.10.9.5 pyspark-3.3.1\n"
          ]
        }
      ]
    },
    {
      "cell_type": "code",
      "execution_count": null,
      "metadata": {
        "id": "_l8HsKQeGmCX"
      },
      "outputs": [],
      "source": [
        "from pyspark.sql.types import *\n",
        "from pyspark.sql import Row\n",
        "from pyspark.sql.functions import array, col, concat_ws, udf, array_remove, size, window, to_timestamp, date_format, concat, lit, collect_list, desc, sort_array, array_contains, array_intersect\n",
        "from pyspark.sql import SparkSession \n",
        "import itertools"
      ]
    },
    {
      "cell_type": "markdown",
      "source": [
        "Resource:\n",
        "\n",
        "https://www.softwaretestinghelp.com/apriori-algorithm/"
      ],
      "metadata": {
        "id": "tAmi45tkbF7M"
      }
    },
    {
      "cell_type": "code",
      "source": [
        "spark = SparkSession.builder.master(\"local[*]\").appName(\"user_ct_test\").getOrCreate()\n",
        "sc = spark.sparkContext"
      ],
      "metadata": {
        "id": "jwy-ox42HN6u"
      },
      "execution_count": null,
      "outputs": []
    },
    {
      "cell_type": "code",
      "source": [
        "# TABLE-1\n",
        "rdd = spark.sparkContext.parallelize(\n",
        "    [Row(\"T1\", ['I1', 'I2', 'I3']),\n",
        "     Row(\"T2\", ['I4', 'I3', 'I2']),\n",
        "     Row(\"T3\", ['I4', 'I5']), \n",
        "     Row(\"T4\", ['I1', 'I2', 'I4']),\n",
        "     Row(\"T5\", ['I1', 'I2', 'I3', 'I5']),\n",
        "     Row(\"T6\", ['I1', 'I2', 'I3', 'I4']),   \n",
        "     ]\n",
        ")\n",
        "schema = StructType([\n",
        "    StructField(\"Tid\", StringType(), True),\n",
        "    StructField(\"Basket\", ArrayType(StringType(), True), True)\n",
        "])\n",
        "df = spark.createDataFrame(rdd, schema)\n",
        "df = df.withColumn('size',size(col('Basket')))\n",
        "df.show(10)"
      ],
      "metadata": {
        "colab": {
          "base_uri": "https://localhost:8080/"
        },
        "id": "B_H7V1BuGuly",
        "outputId": "e33afe20-7ba5-48a6-e287-2f07bf0b79b9"
      },
      "execution_count": null,
      "outputs": [
        {
          "output_type": "stream",
          "name": "stdout",
          "text": [
            "+---+----------------+----+\n",
            "|Tid|          Basket|size|\n",
            "+---+----------------+----+\n",
            "| T1|    [I1, I2, I3]|   3|\n",
            "| T2|    [I4, I3, I2]|   3|\n",
            "| T3|        [I4, I5]|   2|\n",
            "| T4|    [I1, I2, I4]|   3|\n",
            "| T5|[I1, I2, I3, I5]|   4|\n",
            "| T6|[I1, I2, I3, I4]|   4|\n",
            "+---+----------------+----+\n",
            "\n"
          ]
        }
      ]
    },
    {
      "cell_type": "code",
      "source": [
        "df_test = df.select(\"Basket\",sort_array(\"Basket\",asc=True).alias('array_sorted'))\n",
        "df_test.show()"
      ],
      "metadata": {
        "colab": {
          "base_uri": "https://localhost:8080/"
        },
        "id": "nuNQ8UFwINDC",
        "outputId": "59ebf68b-8676-454e-e13c-b906699efaf7"
      },
      "execution_count": null,
      "outputs": [
        {
          "output_type": "stream",
          "name": "stdout",
          "text": [
            "+----------------+----------------+\n",
            "|          Basket|    array_sorted|\n",
            "+----------------+----------------+\n",
            "|    [I1, I2, I3]|    [I1, I2, I3]|\n",
            "|    [I4, I3, I2]|    [I2, I3, I4]|\n",
            "|        [I4, I5]|        [I4, I5]|\n",
            "|    [I1, I2, I4]|    [I1, I2, I4]|\n",
            "|[I1, I2, I3, I5]|[I1, I2, I3, I5]|\n",
            "|[I1, I2, I3, I4]|[I1, I2, I3, I4]|\n",
            "+----------------+----------------+\n",
            "\n"
          ]
        }
      ]
    },
    {
      "cell_type": "code",
      "source": [
        "min_sup=3"
      ],
      "metadata": {
        "id": "JYvntACd0YbF"
      },
      "execution_count": null,
      "outputs": []
    },
    {
      "cell_type": "code",
      "source": [
        "# TABLE-2\n",
        "import pyspark.sql.functions as F\n",
        "\n",
        "F1 = (df_test\n",
        "           .withColumn(\"explode\", F.explode(\"array_sorted\"))\n",
        "           .groupBy(\"explode\")\n",
        "           .count()\n",
        "           .orderBy(F.desc(\"count\")))\n",
        "F1.show()"
      ],
      "metadata": {
        "colab": {
          "base_uri": "https://localhost:8080/"
        },
        "id": "sdNmAafB0o5_",
        "outputId": "6bf36025-93d2-4d13-e230-f7e4fb664f64"
      },
      "execution_count": null,
      "outputs": [
        {
          "output_type": "stream",
          "name": "stdout",
          "text": [
            "+-------+-----+\n",
            "|explode|count|\n",
            "+-------+-----+\n",
            "|     I2|    5|\n",
            "|     I4|    4|\n",
            "|     I3|    4|\n",
            "|     I1|    4|\n",
            "|     I5|    2|\n",
            "+-------+-----+\n",
            "\n"
          ]
        }
      ]
    },
    {
      "cell_type": "code",
      "source": [
        "# TABLE-3\n",
        "F2 = F1.filter(col('count')>=min_sup)\n",
        "F2.show()"
      ],
      "metadata": {
        "colab": {
          "base_uri": "https://localhost:8080/"
        },
        "id": "L5lvSZap0a1R",
        "outputId": "0b920b60-6ac7-4d49-9121-13ae8279053f"
      },
      "execution_count": null,
      "outputs": [
        {
          "output_type": "stream",
          "name": "stdout",
          "text": [
            "+-------+-----+\n",
            "|explode|count|\n",
            "+-------+-----+\n",
            "|     I2|    5|\n",
            "|     I4|    4|\n",
            "|     I1|    4|\n",
            "|     I3|    4|\n",
            "+-------+-----+\n",
            "\n"
          ]
        }
      ]
    },
    {
      "cell_type": "code",
      "source": [
        "# All possible combinations\n",
        "\n",
        "lst = [str(i.explode) for i in F2.select(\"explode\").collect()]\n",
        "print(lst)\n",
        "print('All Combinations: \\n')\n",
        "\n",
        "def create_possible_combinations(all_items, k):\n",
        "    # This functions gets a list of items and k, and returns all possible k-item combinations.\n",
        "    # all_items --> <list>\n",
        "    # k         --> <int>\n",
        "    res_tmp = set([])\n",
        "    for subset in itertools.combinations(all_items, k):       \n",
        "       res_tmp.add((subset))\n",
        "\n",
        "    res_lst = list(res_tmp)\n",
        "    result = [list(res_lst[i]) for i in range(len(res_lst))]\n",
        "\n",
        "    return result\n",
        "\n",
        "\n",
        "create_possible_combinations(lst,2)"
      ],
      "metadata": {
        "colab": {
          "base_uri": "https://localhost:8080/"
        },
        "id": "j_7IP3gf1HGE",
        "outputId": "76ea7eea-187b-4869-ff11-7312a760f51e"
      },
      "execution_count": null,
      "outputs": [
        {
          "output_type": "stream",
          "name": "stdout",
          "text": [
            "['I2', 'I4', 'I3', 'I1']\n",
            "All Combinations: \n",
            "\n"
          ]
        },
        {
          "output_type": "execute_result",
          "data": {
            "text/plain": [
              "[['I2', 'I1'],\n",
              " ['I2', 'I4'],\n",
              " ['I3', 'I1'],\n",
              " ['I4', 'I3'],\n",
              " ['I2', 'I3'],\n",
              " ['I4', 'I1']]"
            ]
          },
          "metadata": {},
          "execution_count": 301
        }
      ]
    },
    {
      "cell_type": "code",
      "source": [
        "# Creating an empty DataFrame\n",
        "emp_RDD = spark.sparkContext.emptyRDD()\n",
        "columns1 = StructType([StructField('Item', ArrayType(StringType()), False),\n",
        "                       StructField('count', LongType(), False)])\n",
        "first_df = spark.createDataFrame(data=emp_RDD,\n",
        "                                         schema=columns1)\n",
        "\n",
        "\n",
        "for row in create_possible_combinations(lst,2):\n",
        "    # print(row)\n",
        "    res=df_test.withColumn(\"NewColumn\", F.array([F.lit(x) for x in row]))\n",
        "    res= res.select('array_sorted', size(array_intersect(res.array_sorted, res.NewColumn)).alias('Intersect'))\n",
        "    res = res.filter(col('Intersect')>=2).count()\n",
        "    # print(row, 'res=', res)\n",
        "    columns=['Item','count']\n",
        "    newRow = spark.createDataFrame([(row, res)], columns)\n",
        "    first_df = first_df.union(newRow).filter(col('count')>=min_sup)\n",
        "    \n",
        "\n",
        "first_df.show()  "
      ],
      "metadata": {
        "colab": {
          "base_uri": "https://localhost:8080/"
        },
        "id": "magqwgmw1ZGG",
        "outputId": "86fc0145-755f-4e01-ef7e-9dd64754f2b4"
      },
      "execution_count": null,
      "outputs": [
        {
          "output_type": "stream",
          "name": "stdout",
          "text": [
            "+--------+-----+\n",
            "|    Item|count|\n",
            "+--------+-----+\n",
            "|[I2, I1]|    4|\n",
            "|[I2, I4]|    3|\n",
            "|[I3, I1]|    3|\n",
            "|[I2, I3]|    4|\n",
            "+--------+-----+\n",
            "\n"
          ]
        }
      ]
    },
    {
      "cell_type": "code",
      "source": [
        "for row in create_possible_combinations(lst,3):\n",
        "    # print(row)\n",
        "    res=df_test.withColumn(\"NewColumn\", F.array([F.lit(x) for x in row]))\n",
        "    res= res.select('array_sorted', size(array_intersect(res.array_sorted, res.NewColumn)).alias('Intersect'))\n",
        "    res = res.filter(col('Intersect')>=3).count()\n",
        "    # print(row, 'res=', res)\n",
        "    columns=['Item','count']\n",
        "    newRow = spark.createDataFrame([(row, res)], columns)\n",
        "    first_df = first_df.union(newRow).filter(col('count')>=min_sup)\n",
        "\n",
        "\n",
        "first_df.show()  "
      ],
      "metadata": {
        "colab": {
          "base_uri": "https://localhost:8080/"
        },
        "id": "is4DWHZk1ZN1",
        "outputId": "f035a5ae-d8fa-49b2-e4af-23c915f4f6a1"
      },
      "execution_count": null,
      "outputs": [
        {
          "output_type": "stream",
          "name": "stdout",
          "text": [
            "+------------+-----+\n",
            "|        Item|count|\n",
            "+------------+-----+\n",
            "|    [I2, I1]|    4|\n",
            "|    [I2, I4]|    3|\n",
            "|    [I3, I1]|    3|\n",
            "|    [I2, I3]|    4|\n",
            "|[I2, I3, I1]|    3|\n",
            "+------------+-----+\n",
            "\n"
          ]
        }
      ]
    },
    {
      "cell_type": "code",
      "source": [],
      "metadata": {
        "id": "-VTHhlzZf8DO"
      },
      "execution_count": null,
      "outputs": []
    },
    {
      "cell_type": "code",
      "source": [],
      "metadata": {
        "id": "YfBxL2JB1ZQf"
      },
      "execution_count": null,
      "outputs": []
    },
    {
      "cell_type": "code",
      "source": [],
      "metadata": {
        "id": "9Zrpg2nVdY7C"
      },
      "execution_count": null,
      "outputs": []
    },
    {
      "cell_type": "code",
      "source": [],
      "metadata": {
        "id": "QLJtele4dY9p"
      },
      "execution_count": null,
      "outputs": []
    },
    {
      "cell_type": "code",
      "source": [],
      "metadata": {
        "id": "5zxSLM4odZAF"
      },
      "execution_count": null,
      "outputs": []
    },
    {
      "cell_type": "code",
      "source": [],
      "metadata": {
        "id": "rSX4_5mb1ZS0"
      },
      "execution_count": null,
      "outputs": []
    },
    {
      "cell_type": "code",
      "source": [
        "df_test = df_test.groupBy('array_sorted').count().orderBy(col(\"count\").desc())\n",
        "df_test.show(10)"
      ],
      "metadata": {
        "colab": {
          "base_uri": "https://localhost:8080/"
        },
        "id": "7fPOcnNsHoD9",
        "outputId": "321519a5-8c4b-4110-b959-98f77b4ff433"
      },
      "execution_count": null,
      "outputs": [
        {
          "output_type": "stream",
          "name": "stdout",
          "text": [
            "+----------------+-----+\n",
            "|    array_sorted|count|\n",
            "+----------------+-----+\n",
            "|        [I4, I5]|    1|\n",
            "|    [I1, I2, I3]|    1|\n",
            "|    [I2, I3, I4]|    1|\n",
            "|[I1, I2, I3, I4]|    1|\n",
            "|[I1, I2, I3, I5]|    1|\n",
            "|    [I1, I2, I4]|    1|\n",
            "+----------------+-----+\n",
            "\n"
          ]
        }
      ]
    },
    {
      "cell_type": "code",
      "source": [
        "df_test.printSchema()"
      ],
      "metadata": {
        "colab": {
          "base_uri": "https://localhost:8080/"
        },
        "id": "npvd-UlgW1gf",
        "outputId": "441c8a57-0493-48af-9da8-b4accedf5fdd"
      },
      "execution_count": null,
      "outputs": [
        {
          "output_type": "stream",
          "name": "stdout",
          "text": [
            "root\n",
            " |-- array_sorted: array (nullable = true)\n",
            " |    |-- element: string (containsNull = true)\n",
            " |-- count: long (nullable = false)\n",
            "\n"
          ]
        }
      ]
    },
    {
      "cell_type": "code",
      "source": [
        "# Get the fist two elements \n",
        "split_row = udf(lambda row: row[:2])\n",
        "\n",
        "def array_size(x):\n",
        "  if size(x)>0:\n",
        "    return 1\n",
        "  return 0\n",
        "\n",
        "array_size_UDF = udf(lambda z: array_size(z))"
      ],
      "metadata": {
        "id": "BLS7tO__wSM1"
      },
      "execution_count": null,
      "outputs": []
    },
    {
      "cell_type": "code",
      "source": [
        "df_test.show()"
      ],
      "metadata": {
        "colab": {
          "base_uri": "https://localhost:8080/"
        },
        "id": "1HgzvNLkMYRt",
        "outputId": "65997055-1354-4e6f-ea62-7b4402535359"
      },
      "execution_count": null,
      "outputs": [
        {
          "output_type": "stream",
          "name": "stdout",
          "text": [
            "+----------------+-----+\n",
            "|    array_sorted|count|\n",
            "+----------------+-----+\n",
            "|        [I4, I5]|    1|\n",
            "|    [I1, I2, I3]|    1|\n",
            "|    [I2, I3, I4]|    1|\n",
            "|[I1, I2, I3, I4]|    1|\n",
            "|[I1, I2, I3, I5]|    1|\n",
            "|    [I1, I2, I4]|    1|\n",
            "+----------------+-----+\n",
            "\n"
          ]
        }
      ]
    },
    {
      "cell_type": "code",
      "source": [
        "def create_item_sets(dataset, items_col, display=False, k=0):\n",
        "  #This function creates sets of n items from a given data and column. Where: n = 1,2....N\n",
        "  array = dataset.withColumn('size',size(col(items_col)))\n",
        "  collection = []\n",
        "  max_items = array.agg({\"size\": \"max\"}).collect()[0][0]\n",
        "  min_items = array.agg({\"size\": \"min\"}).collect()[0][0]\n",
        "  for n in range(min_items, max_items+1):\n",
        "    tmp = dataset.filter(size(col(items_col))==n).select(items_col)\n",
        "    collection.append(tmp)\n",
        "    if display==True:\n",
        "      tmp.show()\n",
        "\n",
        "  return collection[k]\n",
        "\n",
        "\n",
        "create_item_sets(df_test,'array_sorted', display=True)"
      ],
      "metadata": {
        "colab": {
          "base_uri": "https://localhost:8080/"
        },
        "id": "LjJH35ysIMky",
        "outputId": "753d14d6-18dc-4bec-b183-2fac0d686369"
      },
      "execution_count": null,
      "outputs": [
        {
          "output_type": "stream",
          "name": "stdout",
          "text": [
            "+------------+\n",
            "|array_sorted|\n",
            "+------------+\n",
            "|    [I4, I5]|\n",
            "+------------+\n",
            "\n",
            "+------------+\n",
            "|array_sorted|\n",
            "+------------+\n",
            "|[I1, I2, I3]|\n",
            "|[I2, I3, I4]|\n",
            "|[I1, I2, I4]|\n",
            "+------------+\n",
            "\n",
            "+----------------+\n",
            "|    array_sorted|\n",
            "+----------------+\n",
            "|[I1, I2, I3, I4]|\n",
            "|[I1, I2, I3, I5]|\n",
            "+----------------+\n",
            "\n"
          ]
        },
        {
          "output_type": "execute_result",
          "data": {
            "text/plain": [
              "DataFrame[array_sorted: array<string>]"
            ]
          },
          "metadata": {},
          "execution_count": 299
        }
      ]
    },
    {
      "cell_type": "code",
      "source": [
        "for row in create_item_sets(df_test,'array_sorted')[1].rdd.toLocalIterator():\n",
        "    row = row.array_sorted\n",
        "    print(row)\n",
        "    res=df_test.withColumn(\"NewColumn\", F.array([F.lit(x) for x in row]))\n",
        "    # df_test.select(\"array_sorted\",array_intersect('array_sorted',StringType(row))).show()\n",
        "    res= res.select('array_sorted', size(array_intersect(res.array_sorted, res.NewColumn)).alias('Intersect'))\n",
        "    res = res.filter(col('Intersect')>=3).count()\n",
        "    print(res)\n"
      ],
      "metadata": {
        "colab": {
          "base_uri": "https://localhost:8080/"
        },
        "id": "0QHuLw4avrMw",
        "outputId": "66fd4e90-375a-4229-a289-4dade67a0c12"
      },
      "execution_count": null,
      "outputs": [
        {
          "output_type": "stream",
          "name": "stdout",
          "text": [
            "['I1', 'I2', 'I3']\n",
            "3\n",
            "['I2', 'I3', 'I4']\n",
            "2\n",
            "['I1', 'I2', 'I4']\n",
            "2\n"
          ]
        }
      ]
    },
    {
      "cell_type": "code",
      "source": [],
      "metadata": {
        "id": "-Hb2LBSKMazT"
      },
      "execution_count": null,
      "outputs": []
    },
    {
      "cell_type": "code",
      "source": [
        "# All possible combinations\n",
        "import itertools\n",
        "\n",
        "stuff = ['I1', 'I2', 'I3', 'I4', 'I5']\n",
        "for L in range(len(stuff) + 1):\n",
        "    for subset in itertools.combinations(stuff, L):       \n",
        "        print(list(subset))"
      ],
      "metadata": {
        "colab": {
          "base_uri": "https://localhost:8080/"
        },
        "id": "ttdS4m5mYFkA",
        "outputId": "aca51a01-2154-482e-beae-c2cc53aa2507"
      },
      "execution_count": null,
      "outputs": [
        {
          "output_type": "stream",
          "name": "stdout",
          "text": [
            "[]\n",
            "['I1']\n",
            "['I2']\n",
            "['I3']\n",
            "['I4']\n",
            "['I5']\n",
            "['I1', 'I2']\n",
            "['I1', 'I3']\n",
            "['I1', 'I4']\n",
            "['I1', 'I5']\n",
            "['I2', 'I3']\n",
            "['I2', 'I4']\n",
            "['I2', 'I5']\n",
            "['I3', 'I4']\n",
            "['I3', 'I5']\n",
            "['I4', 'I5']\n"
          ]
        }
      ]
    },
    {
      "cell_type": "code",
      "source": [],
      "metadata": {
        "id": "xhhJwlSB1AEE"
      },
      "execution_count": null,
      "outputs": []
    }
  ]
}