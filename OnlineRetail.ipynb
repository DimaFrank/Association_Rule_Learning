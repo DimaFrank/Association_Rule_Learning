{
  "nbformat": 4,
  "nbformat_minor": 0,
  "metadata": {
    "colab": {
      "provenance": [],
      "authorship_tag": "ABX9TyOE8fdSwyvUT64QEl8xoD6k",
      "include_colab_link": true
    },
    "kernelspec": {
      "name": "python3",
      "display_name": "Python 3"
    },
    "language_info": {
      "name": "python"
    }
  },
  "cells": [
    {
      "cell_type": "markdown",
      "metadata": {
        "id": "view-in-github",
        "colab_type": "text"
      },
      "source": [
        "<a href=\"https://colab.research.google.com/github/DimaFrank/Association_Rule_Learning/blob/main/OnlineRetail.ipynb\" target=\"_parent\"><img src=\"https://colab.research.google.com/assets/colab-badge.svg\" alt=\"Open In Colab\"/></a>"
      ]
    },
    {
      "cell_type": "code",
      "source": [
        "!pip install opendatasets"
      ],
      "metadata": {
        "colab": {
          "base_uri": "https://localhost:8080/"
        },
        "id": "CSUuGDNpu2lc",
        "outputId": "59a75576-0a07-47e1-c4e3-99936bca3b15"
      },
      "execution_count": null,
      "outputs": [
        {
          "output_type": "stream",
          "name": "stdout",
          "text": [
            "Looking in indexes: https://pypi.org/simple, https://us-python.pkg.dev/colab-wheels/public/simple/\n",
            "Collecting opendatasets\n",
            "  Downloading opendatasets-0.1.22-py3-none-any.whl (15 kB)\n",
            "Requirement already satisfied: kaggle in /usr/local/lib/python3.8/dist-packages (from opendatasets) (1.5.12)\n",
            "Requirement already satisfied: tqdm in /usr/local/lib/python3.8/dist-packages (from opendatasets) (4.64.1)\n",
            "Requirement already satisfied: click in /usr/local/lib/python3.8/dist-packages (from opendatasets) (7.1.2)\n",
            "Requirement already satisfied: certifi in /usr/local/lib/python3.8/dist-packages (from kaggle->opendatasets) (2022.12.7)\n",
            "Requirement already satisfied: urllib3 in /usr/local/lib/python3.8/dist-packages (from kaggle->opendatasets) (1.24.3)\n",
            "Requirement already satisfied: python-slugify in /usr/local/lib/python3.8/dist-packages (from kaggle->opendatasets) (7.0.0)\n",
            "Requirement already satisfied: python-dateutil in /usr/local/lib/python3.8/dist-packages (from kaggle->opendatasets) (2.8.2)\n",
            "Requirement already satisfied: six>=1.10 in /usr/local/lib/python3.8/dist-packages (from kaggle->opendatasets) (1.15.0)\n",
            "Requirement already satisfied: requests in /usr/local/lib/python3.8/dist-packages (from kaggle->opendatasets) (2.23.0)\n",
            "Requirement already satisfied: text-unidecode>=1.3 in /usr/local/lib/python3.8/dist-packages (from python-slugify->kaggle->opendatasets) (1.3)\n",
            "Requirement already satisfied: idna<3,>=2.5 in /usr/local/lib/python3.8/dist-packages (from requests->kaggle->opendatasets) (2.10)\n",
            "Requirement already satisfied: chardet<4,>=3.0.2 in /usr/local/lib/python3.8/dist-packages (from requests->kaggle->opendatasets) (3.0.4)\n",
            "Installing collected packages: opendatasets\n",
            "Successfully installed opendatasets-0.1.22\n"
          ]
        }
      ]
    },
    {
      "cell_type": "code",
      "source": [
        "!pip install -q kaggle"
      ],
      "metadata": {
        "id": "Se_BrhZhwUAm"
      },
      "execution_count": null,
      "outputs": []
    },
    {
      "cell_type": "code",
      "source": [
        "from google.colab import files\n",
        "files.upload()"
      ],
      "metadata": {
        "colab": {
          "base_uri": "https://localhost:8080/",
          "height": 90
        },
        "id": "taVHZVD0wGrd",
        "outputId": "b5dd4548-082e-4042-9343-7a17a1fcd4b0"
      },
      "execution_count": null,
      "outputs": [
        {
          "output_type": "display_data",
          "data": {
            "text/plain": [
              "<IPython.core.display.HTML object>"
            ],
            "text/html": [
              "\n",
              "     <input type=\"file\" id=\"files-de782bf4-f28e-4f83-a79e-7bb7a0c58c42\" name=\"files[]\" multiple disabled\n",
              "        style=\"border:none\" />\n",
              "     <output id=\"result-de782bf4-f28e-4f83-a79e-7bb7a0c58c42\">\n",
              "      Upload widget is only available when the cell has been executed in the\n",
              "      current browser session. Please rerun this cell to enable.\n",
              "      </output>\n",
              "      <script>// Copyright 2017 Google LLC\n",
              "//\n",
              "// Licensed under the Apache License, Version 2.0 (the \"License\");\n",
              "// you may not use this file except in compliance with the License.\n",
              "// You may obtain a copy of the License at\n",
              "//\n",
              "//      http://www.apache.org/licenses/LICENSE-2.0\n",
              "//\n",
              "// Unless required by applicable law or agreed to in writing, software\n",
              "// distributed under the License is distributed on an \"AS IS\" BASIS,\n",
              "// WITHOUT WARRANTIES OR CONDITIONS OF ANY KIND, either express or implied.\n",
              "// See the License for the specific language governing permissions and\n",
              "// limitations under the License.\n",
              "\n",
              "/**\n",
              " * @fileoverview Helpers for google.colab Python module.\n",
              " */\n",
              "(function(scope) {\n",
              "function span(text, styleAttributes = {}) {\n",
              "  const element = document.createElement('span');\n",
              "  element.textContent = text;\n",
              "  for (const key of Object.keys(styleAttributes)) {\n",
              "    element.style[key] = styleAttributes[key];\n",
              "  }\n",
              "  return element;\n",
              "}\n",
              "\n",
              "// Max number of bytes which will be uploaded at a time.\n",
              "const MAX_PAYLOAD_SIZE = 100 * 1024;\n",
              "\n",
              "function _uploadFiles(inputId, outputId) {\n",
              "  const steps = uploadFilesStep(inputId, outputId);\n",
              "  const outputElement = document.getElementById(outputId);\n",
              "  // Cache steps on the outputElement to make it available for the next call\n",
              "  // to uploadFilesContinue from Python.\n",
              "  outputElement.steps = steps;\n",
              "\n",
              "  return _uploadFilesContinue(outputId);\n",
              "}\n",
              "\n",
              "// This is roughly an async generator (not supported in the browser yet),\n",
              "// where there are multiple asynchronous steps and the Python side is going\n",
              "// to poll for completion of each step.\n",
              "// This uses a Promise to block the python side on completion of each step,\n",
              "// then passes the result of the previous step as the input to the next step.\n",
              "function _uploadFilesContinue(outputId) {\n",
              "  const outputElement = document.getElementById(outputId);\n",
              "  const steps = outputElement.steps;\n",
              "\n",
              "  const next = steps.next(outputElement.lastPromiseValue);\n",
              "  return Promise.resolve(next.value.promise).then((value) => {\n",
              "    // Cache the last promise value to make it available to the next\n",
              "    // step of the generator.\n",
              "    outputElement.lastPromiseValue = value;\n",
              "    return next.value.response;\n",
              "  });\n",
              "}\n",
              "\n",
              "/**\n",
              " * Generator function which is called between each async step of the upload\n",
              " * process.\n",
              " * @param {string} inputId Element ID of the input file picker element.\n",
              " * @param {string} outputId Element ID of the output display.\n",
              " * @return {!Iterable<!Object>} Iterable of next steps.\n",
              " */\n",
              "function* uploadFilesStep(inputId, outputId) {\n",
              "  const inputElement = document.getElementById(inputId);\n",
              "  inputElement.disabled = false;\n",
              "\n",
              "  const outputElement = document.getElementById(outputId);\n",
              "  outputElement.innerHTML = '';\n",
              "\n",
              "  const pickedPromise = new Promise((resolve) => {\n",
              "    inputElement.addEventListener('change', (e) => {\n",
              "      resolve(e.target.files);\n",
              "    });\n",
              "  });\n",
              "\n",
              "  const cancel = document.createElement('button');\n",
              "  inputElement.parentElement.appendChild(cancel);\n",
              "  cancel.textContent = 'Cancel upload';\n",
              "  const cancelPromise = new Promise((resolve) => {\n",
              "    cancel.onclick = () => {\n",
              "      resolve(null);\n",
              "    };\n",
              "  });\n",
              "\n",
              "  // Wait for the user to pick the files.\n",
              "  const files = yield {\n",
              "    promise: Promise.race([pickedPromise, cancelPromise]),\n",
              "    response: {\n",
              "      action: 'starting',\n",
              "    }\n",
              "  };\n",
              "\n",
              "  cancel.remove();\n",
              "\n",
              "  // Disable the input element since further picks are not allowed.\n",
              "  inputElement.disabled = true;\n",
              "\n",
              "  if (!files) {\n",
              "    return {\n",
              "      response: {\n",
              "        action: 'complete',\n",
              "      }\n",
              "    };\n",
              "  }\n",
              "\n",
              "  for (const file of files) {\n",
              "    const li = document.createElement('li');\n",
              "    li.append(span(file.name, {fontWeight: 'bold'}));\n",
              "    li.append(span(\n",
              "        `(${file.type || 'n/a'}) - ${file.size} bytes, ` +\n",
              "        `last modified: ${\n",
              "            file.lastModifiedDate ? file.lastModifiedDate.toLocaleDateString() :\n",
              "                                    'n/a'} - `));\n",
              "    const percent = span('0% done');\n",
              "    li.appendChild(percent);\n",
              "\n",
              "    outputElement.appendChild(li);\n",
              "\n",
              "    const fileDataPromise = new Promise((resolve) => {\n",
              "      const reader = new FileReader();\n",
              "      reader.onload = (e) => {\n",
              "        resolve(e.target.result);\n",
              "      };\n",
              "      reader.readAsArrayBuffer(file);\n",
              "    });\n",
              "    // Wait for the data to be ready.\n",
              "    let fileData = yield {\n",
              "      promise: fileDataPromise,\n",
              "      response: {\n",
              "        action: 'continue',\n",
              "      }\n",
              "    };\n",
              "\n",
              "    // Use a chunked sending to avoid message size limits. See b/62115660.\n",
              "    let position = 0;\n",
              "    do {\n",
              "      const length = Math.min(fileData.byteLength - position, MAX_PAYLOAD_SIZE);\n",
              "      const chunk = new Uint8Array(fileData, position, length);\n",
              "      position += length;\n",
              "\n",
              "      const base64 = btoa(String.fromCharCode.apply(null, chunk));\n",
              "      yield {\n",
              "        response: {\n",
              "          action: 'append',\n",
              "          file: file.name,\n",
              "          data: base64,\n",
              "        },\n",
              "      };\n",
              "\n",
              "      let percentDone = fileData.byteLength === 0 ?\n",
              "          100 :\n",
              "          Math.round((position / fileData.byteLength) * 100);\n",
              "      percent.textContent = `${percentDone}% done`;\n",
              "\n",
              "    } while (position < fileData.byteLength);\n",
              "  }\n",
              "\n",
              "  // All done.\n",
              "  yield {\n",
              "    response: {\n",
              "      action: 'complete',\n",
              "    }\n",
              "  };\n",
              "}\n",
              "\n",
              "scope.google = scope.google || {};\n",
              "scope.google.colab = scope.google.colab || {};\n",
              "scope.google.colab._files = {\n",
              "  _uploadFiles,\n",
              "  _uploadFilesContinue,\n",
              "};\n",
              "})(self);\n",
              "</script> "
            ]
          },
          "metadata": {}
        },
        {
          "output_type": "stream",
          "name": "stdout",
          "text": [
            "Saving kaggle.json to kaggle.json\n"
          ]
        },
        {
          "output_type": "execute_result",
          "data": {
            "text/plain": [
              "{'kaggle.json': b'{\"username\":\"dimafrank\",\"key\":\"e7786e191009a5f2647b768669ed5b0c\"}'}"
            ]
          },
          "metadata": {},
          "execution_count": 3
        }
      ]
    },
    {
      "cell_type": "code",
      "source": [
        "!mkdir -p ~/.kaggle\n",
        "!cp kaggle.json ~/.kaggle/"
      ],
      "metadata": {
        "id": "i_NEyhyEwcwa"
      },
      "execution_count": null,
      "outputs": []
    },
    {
      "cell_type": "code",
      "source": [
        "import opendatasets as od"
      ],
      "metadata": {
        "id": "fg9UWjf5sTg6"
      },
      "execution_count": null,
      "outputs": []
    },
    {
      "cell_type": "code",
      "source": [
        "od.download(\n",
        "    \"https://www.kaggle.com/datasets/vijayuv/onlineretail\")"
      ],
      "metadata": {
        "colab": {
          "base_uri": "https://localhost:8080/"
        },
        "id": "A-RT1I8HuCZ5",
        "outputId": "610c490e-f848-4c8e-8372-afff5da2e548"
      },
      "execution_count": null,
      "outputs": [
        {
          "output_type": "stream",
          "name": "stdout",
          "text": [
            "Downloading onlineretail.zip to ./onlineretail\n"
          ]
        },
        {
          "output_type": "stream",
          "name": "stderr",
          "text": [
            "100%|██████████| 7.20M/7.20M [00:00<00:00, 54.5MB/s]"
          ]
        },
        {
          "output_type": "stream",
          "name": "stdout",
          "text": [
            "\n"
          ]
        },
        {
          "output_type": "stream",
          "name": "stderr",
          "text": [
            "\n"
          ]
        }
      ]
    },
    {
      "cell_type": "code",
      "source": [
        "!pip install pyspark"
      ],
      "metadata": {
        "colab": {
          "base_uri": "https://localhost:8080/"
        },
        "id": "Zo1SMisfBQmz",
        "outputId": "5ce0c1b3-3622-47ba-dcaf-076e15bfa311"
      },
      "execution_count": null,
      "outputs": [
        {
          "output_type": "stream",
          "name": "stdout",
          "text": [
            "Looking in indexes: https://pypi.org/simple, https://us-python.pkg.dev/colab-wheels/public/simple/\n",
            "Collecting pyspark\n",
            "  Downloading pyspark-3.3.1.tar.gz (281.4 MB)\n",
            "\u001b[K     |████████████████████████████████| 281.4 MB 46 kB/s \n",
            "\u001b[?25hCollecting py4j==0.10.9.5\n",
            "  Downloading py4j-0.10.9.5-py2.py3-none-any.whl (199 kB)\n",
            "\u001b[K     |████████████████████████████████| 199 kB 55.4 MB/s \n",
            "\u001b[?25hBuilding wheels for collected packages: pyspark\n",
            "  Building wheel for pyspark (setup.py) ... \u001b[?25l\u001b[?25hdone\n",
            "  Created wheel for pyspark: filename=pyspark-3.3.1-py2.py3-none-any.whl size=281845512 sha256=92548fe6d23f4836f4a5fcbb7cae1233aa7b3c35e69334fd5e7dca22d4212635\n",
            "  Stored in directory: /root/.cache/pip/wheels/43/dc/11/ec201cd671da62fa9c5cc77078235e40722170ceba231d7598\n",
            "Successfully built pyspark\n",
            "Installing collected packages: py4j, pyspark\n",
            "Successfully installed py4j-0.10.9.5 pyspark-3.3.1\n"
          ]
        }
      ]
    },
    {
      "cell_type": "code",
      "source": [
        "import pyspark as spark\n",
        "from google.colab import drive\n",
        "from pyspark.sql import SparkSession\n",
        "from pyspark.sql.types import IntegerType\n",
        "from pyspark.sql.functions import array, col, concat_ws, udf, array_remove, size"
      ],
      "metadata": {
        "id": "TEPtSz1owkOZ"
      },
      "execution_count": null,
      "outputs": []
    },
    {
      "cell_type": "code",
      "source": [
        "drive.mount('/content/drive')\n",
        "!wget --quiet --show-progress https://drive.google.com/drive/u/0/folders/1zKTXVP8ncsRRXgtFxA6MvL-lWirAoc6a"
      ],
      "metadata": {
        "colab": {
          "base_uri": "https://localhost:8080/"
        },
        "id": "T9N38G2OxMG0",
        "outputId": "3ac68653-6353-4e10-f300-ac4d162f9917"
      },
      "execution_count": null,
      "outputs": [
        {
          "output_type": "stream",
          "name": "stdout",
          "text": [
            "Mounted at /content/drive\n"
          ]
        }
      ]
    },
    {
      "cell_type": "code",
      "source": [
        "SparkSession = SparkSession.builder.appName(\"Colab\").getOrCreate()"
      ],
      "metadata": {
        "id": "9WkR0tVWxPNg"
      },
      "execution_count": null,
      "outputs": []
    },
    {
      "cell_type": "code",
      "source": [
        "df = SparkSession.read.csv('./onlineretail/OnlineRetail.csv',header='true')"
      ],
      "metadata": {
        "id": "N9DEDsWRxR2G"
      },
      "execution_count": 71,
      "outputs": []
    },
    {
      "cell_type": "code",
      "source": [
        "df.show(10)"
      ],
      "metadata": {
        "colab": {
          "base_uri": "https://localhost:8080/"
        },
        "id": "c0zUcHErxnXw",
        "outputId": "9609d538-c6da-429e-feee-1f88c0385505"
      },
      "execution_count": 72,
      "outputs": [
        {
          "output_type": "stream",
          "name": "stdout",
          "text": [
            "+---------+---------+--------------------+--------+--------------+---------+----------+--------------+\n",
            "|InvoiceNo|StockCode|         Description|Quantity|   InvoiceDate|UnitPrice|CustomerID|       Country|\n",
            "+---------+---------+--------------------+--------+--------------+---------+----------+--------------+\n",
            "|   536365|   85123A|WHITE HANGING HEA...|       6|12/1/2010 8:26|     2.55|     17850|United Kingdom|\n",
            "|   536365|    71053| WHITE METAL LANTERN|       6|12/1/2010 8:26|     3.39|     17850|United Kingdom|\n",
            "|   536365|   84406B|CREAM CUPID HEART...|       8|12/1/2010 8:26|     2.75|     17850|United Kingdom|\n",
            "|   536365|   84029G|KNITTED UNION FLA...|       6|12/1/2010 8:26|     3.39|     17850|United Kingdom|\n",
            "|   536365|   84029E|RED WOOLLY HOTTIE...|       6|12/1/2010 8:26|     3.39|     17850|United Kingdom|\n",
            "|   536365|    22752|SET 7 BABUSHKA NE...|       2|12/1/2010 8:26|     7.65|     17850|United Kingdom|\n",
            "|   536365|    21730|GLASS STAR FROSTE...|       6|12/1/2010 8:26|     4.25|     17850|United Kingdom|\n",
            "|   536366|    22633|HAND WARMER UNION...|       6|12/1/2010 8:28|     1.85|     17850|United Kingdom|\n",
            "|   536366|    22632|HAND WARMER RED P...|       6|12/1/2010 8:28|     1.85|     17850|United Kingdom|\n",
            "|   536367|    84879|ASSORTED COLOUR B...|      32|12/1/2010 8:34|     1.69|     13047|United Kingdom|\n",
            "+---------+---------+--------------------+--------+--------------+---------+----------+--------------+\n",
            "only showing top 10 rows\n",
            "\n"
          ]
        }
      ]
    },
    {
      "cell_type": "code",
      "source": [
        "df.printSchema()"
      ],
      "metadata": {
        "colab": {
          "base_uri": "https://localhost:8080/"
        },
        "id": "ZROYP-bUyTiC",
        "outputId": "c725acda-b6b5-488e-b519-a3080aaee4eb"
      },
      "execution_count": null,
      "outputs": [
        {
          "output_type": "stream",
          "name": "stdout",
          "text": [
            "root\n",
            " |-- InvoiceNo: string (nullable = true)\n",
            " |-- StockCode: string (nullable = true)\n",
            " |-- Description: string (nullable = true)\n",
            " |-- Quantity: string (nullable = true)\n",
            " |-- InvoiceDate: string (nullable = true)\n",
            " |-- UnitPrice: string (nullable = true)\n",
            " |-- CustomerID: string (nullable = true)\n",
            " |-- Country: string (nullable = true)\n",
            "\n"
          ]
        }
      ]
    },
    {
      "cell_type": "code",
      "source": [
        "class UserSessionBuilder:\n",
        " \n",
        "    def __init__(self, datafile, userid, transactions, items, support=0.4, confidence=0.8):\n",
        "        # datafile      --> Expects to get PySpark DataFrame\n",
        "        # userid        --> Name of a column that holds UserID.\n",
        "        # items         --> Name of a column that holds Items in a given dataset\n",
        "        # transactions  --> Name of a column that holds Transaction ID in a given dataset\n",
        "        # support       --> Default Treshold is 0.2\n",
        "        # confidence    --> Required confidence level (Default is 0.8)\n",
        "\n",
        "        self.datafile=datafile\n",
        "        self.userid=userid\n",
        "        self.transactions=transactions\n",
        "        self.items=items\n",
        "        self.support=support\n",
        "        self.confidence=confidence\n",
        "\n",
        "\n",
        "    def create_support(self):\n",
        "        self.datafile.createOrReplaceTempView(\"temp\")\n",
        "        query = '''\n",
        "                WITH SOURCE as (\n",
        "                                SELECT d.*, REPLACE({ITEMS}, ' ', '_') as ITEMS                                                  \n",
        "                                FROM {data} as d\n",
        "                                WHERE {ITEMS} <> 'null'\n",
        "                                ),\n",
        "\n",
        "                    TOTAL as ( select count(distinct ITEMS) from SOURCE ),          \n",
        "\n",
        "                    SUPPORT_ITEM_SET1 (\n",
        "                          SELECT *, CNT/ALL_CNT as SUPPORT \n",
        "                          FROM(\n",
        "                              SELECT ITEMS, count(*) as CNT, (select * from TOTAL) as ALL_CNT \n",
        "                              FROM SOURCE\n",
        "                              GROUP BY ITEMS\n",
        "                              ) as tab1\n",
        "                          WHERE (CNT/ALL_CNT) > {min_support}\n",
        "                          ORDER BY SUPPORT DESC\n",
        "                                      )\n",
        "                                    \n",
        "                    SELECT *\n",
        "                    FROM SOURCE\n",
        "                    WHERE ITEMS in (SELECT ITEMS FROM SUPPORT_ITEM_SET1)\n",
        "\n",
        "              '''.format(data='temp', ITEMS=self.items, min_support=self.support)\n",
        "\n",
        "        SparkSession.sql(query).createOrReplaceTempView(\"support\")\n",
        "        return SparkSession.sql(query)\n",
        "\n",
        "\n",
        "    def create_basket(self):\n",
        "        global item_mapping \n",
        "        basket = self.create_support()\n",
        "        basket = basket.groupBy(['{}'.format(self.userid),'{}'.format(self.transactions) ]).pivot('{}'.format(self.items)).count().fillna(value=0).sort(col(\"CustomerID\").desc())\n",
        "        new_col_names = [self.userid,self.transactions] + ['ITEM{i}'.format(i=i) for i in range(len(basket.schema.names)-1) if i>=1]  \n",
        "        item_mapping = {new_col_names[i]: basket.schema.names[i] for i in range(len(basket.schema.names)) if i>=2}\n",
        "        basket = basket.toDF(*new_col_names)\n",
        "        basket = basket.select(\"{}\".format(self.userid),\"{}\".format(self.transactions), array(*new_col_names[2:]).alias(\"Basket\")) \n",
        "        basket = basket.withColumn(\n",
        "                \"BasketBinaryVector\",\n",
        "                   spark.sql.functions.expr(\"\"\"transform(\n",
        "                              Basket, \n",
        "                              (x, i) -> CASE WHEN x > 0 THEN 1\n",
        "                                            ELSE x\n",
        "                                        END\n",
        "                          )\n",
        "                      \"\"\")\n",
        "                  )\n",
        "        \n",
        "        basket = basket.withColumn(\n",
        "                \"BasketVector\",\n",
        "                   spark.sql.functions.expr(\"\"\"transform(\n",
        "                              Basket, \n",
        "                              (x, i) -> CASE WHEN x > 0 THEN concat(\"ITEM\",i+1)\n",
        "                                            ELSE \"\"\n",
        "                                        END\n",
        "                          )\n",
        "                      \"\"\")\n",
        "                  )\n",
        "        \n",
        "        basket = basket.select(self.userid, self.transactions, \"Basket\", \"BasketBinaryVector\" ,array_remove('BasketVector',\"\"))\n",
        "        basket = basket.withColumn(\"size\", size(col(\"array_remove(BasketVector, )\"))).withColumnRenamed(\"array_remove(BasketVector, )\", \"BasketClean\")\n",
        "        basket.createOrReplaceTempView(\"basket\")\n",
        "        return basket\n",
        "\n",
        "\n",
        "    def create_item_sets(self, display=False):\n",
        "        global max_item_set\n",
        "        basket = self.create_basket()\n",
        "        max_item_set = SparkSession.sql(\"SELECT MAX(size) FROM basket\").collect()[0][0]\n",
        "        i=1\n",
        "        while i<=max_item_set:         \n",
        "          temp = SparkSession.sql('''\n",
        "                                  SELECT {USER}, BasketClean, count(*) as CNT\n",
        "                                  FROM basket \n",
        "                                  WHERE size == {SIZE} and {USER} != 'null'\n",
        "                                  GROUP BY {USER}, BasketClean   \n",
        "                                  ORDER BY CNT DESC   \n",
        "                                  '''.format(USER=self.userid,SIZE=i))\n",
        "\n",
        "          temp.createOrReplaceTempView(\"item_set_{n}\".format(n=i))  \n",
        "          if display:\n",
        "            temp.show(5)  \n",
        "\n",
        "          i+=1\n",
        "\n",
        "      \n",
        "    def fit(self):\n",
        "      self.create_item_sets()\n",
        "      Sx = ['ITEM1', 'ITEM3']\n",
        "      user = '14096'\n",
        "\n",
        "      temp = SparkSession.sql('''\n",
        "                              SELECT *\n",
        "                              FROM item_set_{set_size}                                             \n",
        "                              WHERE {USER_ID}=={USER}\n",
        "\n",
        "                              '''.format(USER_ID=self.userid, USER=user, set_size=len(Sx)))\n",
        "\n",
        "      temp.createOrReplaceTempView(\"item_set_{n}_test\".format(n=len(Sx)))  \n",
        "\n",
        "      return temp\n",
        "\n",
        "\n",
        "\n",
        "    def get_mapping(self):\n",
        "       self.create_basket()\n",
        "       return item_mapping\n",
        "\n"
      ],
      "metadata": {
        "id": "2NnuQ4gczWMA"
      },
      "execution_count": 149,
      "outputs": []
    },
    {
      "cell_type": "code",
      "source": [
        "class RuleMining:\n",
        "\n",
        "   def __init__(self, data, Sx, Sy, confidence=0.8):\n",
        "      self.data=data\n",
        "      self.Sx=Sx\n",
        "      self.Sy=Sy\n",
        "      self.confidence=confidence\n",
        "  "
      ],
      "metadata": {
        "id": "gmejXNsYnzNp"
      },
      "execution_count": 68,
      "outputs": []
    },
    {
      "cell_type": "code",
      "source": [
        "UserSessionBuilder(df, 'CustomerID', 'InvoiceNo', 'Description').create_support().show(10)"
      ],
      "metadata": {
        "colab": {
          "base_uri": "https://localhost:8080/"
        },
        "id": "3rs5cz5vz4Ok",
        "outputId": "c054b00e-df34-4e7f-b743-ec43cb2cde35"
      },
      "execution_count": 96,
      "outputs": [
        {
          "output_type": "stream",
          "name": "stdout",
          "text": [
            "+---------+---------+--------------------+--------+---------------+---------+----------+--------------+--------------------+\n",
            "|InvoiceNo|StockCode|         Description|Quantity|    InvoiceDate|UnitPrice|CustomerID|       Country|               ITEMS|\n",
            "+---------+---------+--------------------+--------+---------------+---------+----------+--------------+--------------------+\n",
            "|   536365|   85123A|WHITE HANGING HEA...|       6| 12/1/2010 8:26|     2.55|     17850|United Kingdom|WHITE_HANGING_HEA...|\n",
            "|   536373|   85123A|WHITE HANGING HEA...|       6| 12/1/2010 9:02|     2.55|     17850|United Kingdom|WHITE_HANGING_HEA...|\n",
            "|   536375|   85123A|WHITE HANGING HEA...|       6| 12/1/2010 9:32|     2.55|     17850|United Kingdom|WHITE_HANGING_HEA...|\n",
            "|   536386|   85099B|JUMBO BAG RED RET...|     100| 12/1/2010 9:57|     1.65|     16029|United Kingdom|JUMBO_BAG_RED_RET...|\n",
            "|   536390|   85123A|WHITE HANGING HEA...|      64|12/1/2010 10:19|     2.55|     17511|United Kingdom|WHITE_HANGING_HEA...|\n",
            "|   536390|   85099B|JUMBO BAG RED RET...|     100|12/1/2010 10:19|     1.65|     17511|United Kingdom|JUMBO_BAG_RED_RET...|\n",
            "|   536394|   85123A|WHITE HANGING HEA...|      32|12/1/2010 10:39|     2.55|     13408|United Kingdom|WHITE_HANGING_HEA...|\n",
            "|   536396|   85123A|WHITE HANGING HEA...|       6|12/1/2010 10:51|     2.55|     17850|United Kingdom|WHITE_HANGING_HEA...|\n",
            "|   536401|   85123A|WHITE HANGING HEA...|       4|12/1/2010 11:21|     2.95|     15862|United Kingdom|WHITE_HANGING_HEA...|\n",
            "|   536406|   85123A|WHITE HANGING HEA...|       8|12/1/2010 11:33|     2.55|     17850|United Kingdom|WHITE_HANGING_HEA...|\n",
            "+---------+---------+--------------------+--------+---------------+---------+----------+--------------+--------------------+\n",
            "only showing top 10 rows\n",
            "\n"
          ]
        }
      ]
    },
    {
      "cell_type": "code",
      "source": [
        "UserSessionBuilder(df, 'CustomerID', 'InvoiceNo', 'Description').create_basket().show(10)"
      ],
      "metadata": {
        "colab": {
          "base_uri": "https://localhost:8080/"
        },
        "id": "2_7a2ahhY4E6",
        "outputId": "630a5cf5-60da-44b6-b2a9-7ac67f3f732d"
      },
      "execution_count": 133,
      "outputs": [
        {
          "output_type": "stream",
          "name": "stdout",
          "text": [
            "+----------+---------+------------+------------------+--------------+----+\n",
            "|CustomerID|InvoiceNo|      Basket|BasketBinaryVector|   BasketClean|size|\n",
            "+----------+---------+------------+------------------+--------------+----+\n",
            "|     18283|   578262|[1, 0, 0, 0]|      [1, 0, 0, 0]|       [ITEM1]|   1|\n",
            "|     18283|   556731|[1, 0, 0, 1]|      [1, 0, 0, 1]|[ITEM1, ITEM4]|   2|\n",
            "|     18283|   557956|[2, 0, 0, 1]|      [1, 0, 0, 1]|[ITEM1, ITEM4]|   2|\n",
            "|     18283|   565579|[1, 0, 0, 0]|      [1, 0, 0, 0]|       [ITEM1]|   1|\n",
            "|     18283|   545079|[0, 0, 0, 1]|      [0, 0, 0, 1]|       [ITEM4]|   1|\n",
            "|     18283|   575668|[1, 0, 0, 0]|      [1, 0, 0, 0]|       [ITEM1]|   1|\n",
            "|     18283|   550957|[1, 0, 0, 0]|      [1, 0, 0, 0]|       [ITEM1]|   1|\n",
            "|     18283|   579673|[1, 0, 0, 0]|      [1, 0, 0, 0]|       [ITEM1]|   1|\n",
            "|     18283|   540350|[1, 0, 0, 0]|      [1, 0, 0, 0]|       [ITEM1]|   1|\n",
            "|     18283|   560025|[1, 0, 0, 1]|      [1, 0, 0, 1]|[ITEM1, ITEM4]|   2|\n",
            "+----------+---------+------------+------------------+--------------+----+\n",
            "only showing top 10 rows\n",
            "\n"
          ]
        }
      ]
    },
    {
      "cell_type": "code",
      "source": [
        "UserSessionBuilder(df, 'CustomerID', 'InvoiceNo', 'Description').create_item_sets(display=True)"
      ],
      "metadata": {
        "colab": {
          "base_uri": "https://localhost:8080/"
        },
        "id": "CybEtHw5c-s4",
        "outputId": "561631b1-6933-4fe1-8808-1644849950e5"
      },
      "execution_count": 151,
      "outputs": [
        {
          "output_type": "stream",
          "name": "stdout",
          "text": [
            "+----------+-----------+---+\n",
            "|CustomerID|BasketClean|CNT|\n",
            "+----------+-----------+---+\n",
            "|     14911|    [ITEM3]| 46|\n",
            "|     14911|    [ITEM4]| 25|\n",
            "|     15311|    [ITEM1]| 20|\n",
            "|     12471|    [ITEM3]| 20|\n",
            "|     15465|    [ITEM3]| 20|\n",
            "+----------+-----------+---+\n",
            "only showing top 5 rows\n",
            "\n",
            "+----------+--------------+---+\n",
            "|CustomerID|   BasketClean|CNT|\n",
            "+----------+--------------+---+\n",
            "|     16458|[ITEM1, ITEM4]| 10|\n",
            "|     13777|[ITEM1, ITEM4]|  9|\n",
            "|     13263|[ITEM3, ITEM4]|  7|\n",
            "|     17675|[ITEM2, ITEM4]|  7|\n",
            "|     13097|[ITEM2, ITEM3]|  6|\n",
            "+----------+--------------+---+\n",
            "only showing top 5 rows\n",
            "\n",
            "+----------+--------------------+---+\n",
            "|CustomerID|         BasketClean|CNT|\n",
            "+----------+--------------------+---+\n",
            "|     13081|[ITEM2, ITEM3, IT...|  5|\n",
            "|     17675|[ITEM1, ITEM2, IT...|  3|\n",
            "|     17652|[ITEM1, ITEM2, IT...|  3|\n",
            "|     13334|[ITEM1, ITEM2, IT...|  3|\n",
            "|     14096|[ITEM1, ITEM3, IT...|  3|\n",
            "+----------+--------------------+---+\n",
            "only showing top 5 rows\n",
            "\n",
            "+----------+--------------------+---+\n",
            "|CustomerID|         BasketClean|CNT|\n",
            "+----------+--------------------+---+\n",
            "|     13134|[ITEM1, ITEM2, IT...|  1|\n",
            "|     12843|[ITEM1, ITEM2, IT...|  1|\n",
            "|     14096|[ITEM1, ITEM2, IT...|  1|\n",
            "+----------+--------------------+---+\n",
            "\n"
          ]
        }
      ]
    },
    {
      "cell_type": "code",
      "source": [
        "UserSessionBuilder(df, 'CustomerID', 'InvoiceNo', 'Description').fit().show(5)"
      ],
      "metadata": {
        "colab": {
          "base_uri": "https://localhost:8080/"
        },
        "id": "xNpfXJsQOkBC",
        "outputId": "d6b356c8-07cf-4e41-f0d2-8000bcc823a8"
      },
      "execution_count": 152,
      "outputs": [
        {
          "output_type": "stream",
          "name": "stdout",
          "text": [
            "+----------+--------------+---+\n",
            "|CustomerID|   BasketClean|CNT|\n",
            "+----------+--------------+---+\n",
            "|     14096|[ITEM3, ITEM4]|  2|\n",
            "|     14096|[ITEM1, ITEM3]|  1|\n",
            "+----------+--------------+---+\n",
            "\n"
          ]
        }
      ]
    },
    {
      "cell_type": "code",
      "source": [
        "UserSessionBuilder(df, 'CustomerID', 'InvoiceNo', 'Description').get_mapping()"
      ],
      "metadata": {
        "id": "uMx82paxfBrU",
        "colab": {
          "base_uri": "https://localhost:8080/"
        },
        "outputId": "c0b8e729-fa18-43f2-9b25-d433f469c6dc"
      },
      "execution_count": 153,
      "outputs": [
        {
          "output_type": "execute_result",
          "data": {
            "text/plain": [
              "{'ITEM1': 'JUMBO BAG RED RETROSPOT',\n",
              " 'ITEM2': 'PARTY BUNTING',\n",
              " 'ITEM3': 'REGENCY CAKESTAND 3 TIER',\n",
              " 'ITEM4': 'WHITE HANGING HEART T-LIGHT HOLDER'}"
            ]
          },
          "metadata": {},
          "execution_count": 153
        }
      ]
    },
    {
      "cell_type": "code",
      "source": [
        "241/871"
      ],
      "metadata": {
        "colab": {
          "base_uri": "https://localhost:8080/"
        },
        "id": "5u0JfbGsl-am",
        "outputId": "a9290137-8aae-409c-dac5-d13f59081294"
      },
      "execution_count": 141,
      "outputs": [
        {
          "output_type": "execute_result",
          "data": {
            "text/plain": [
              "0.2766934557979334"
            ]
          },
          "metadata": {},
          "execution_count": 141
        }
      ]
    },
    {
      "cell_type": "code",
      "source": [],
      "metadata": {
        "id": "q6luZot7mPlV"
      },
      "execution_count": null,
      "outputs": []
    }
  ]
}