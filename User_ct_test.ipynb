{
  "nbformat": 4,
  "nbformat_minor": 0,
  "metadata": {
    "colab": {
      "provenance": [],
      "collapsed_sections": [
        "uMS2WaxiWGPf"
      ],
      "authorship_tag": "ABX9TyMzMRsR5PV5u/9C/G70mOlf",
      "include_colab_link": true
    },
    "kernelspec": {
      "name": "python3",
      "display_name": "Python 3"
    },
    "language_info": {
      "name": "python"
    }
  },
  "cells": [
    {
      "cell_type": "markdown",
      "metadata": {
        "id": "view-in-github",
        "colab_type": "text"
      },
      "source": [
        "<a href=\"https://colab.research.google.com/github/DimaFrank/Association_Rule_Learning/blob/logs/User_ct_test.ipynb\" target=\"_parent\"><img src=\"https://colab.research.google.com/assets/colab-badge.svg\" alt=\"Open In Colab\"/></a>"
      ]
    },
    {
      "cell_type": "code",
      "execution_count": 1,
      "metadata": {
        "colab": {
          "base_uri": "https://localhost:8080/"
        },
        "id": "bes6UXEGsD_p",
        "outputId": "6439ee1b-b8b5-43b5-bb92-6f4f9f616884"
      },
      "outputs": [
        {
          "output_type": "stream",
          "name": "stdout",
          "text": [
            "Looking in indexes: https://pypi.org/simple, https://us-python.pkg.dev/colab-wheels/public/simple/\n",
            "Collecting pyspark\n",
            "  Downloading pyspark-3.3.1.tar.gz (281.4 MB)\n",
            "\u001b[2K     \u001b[90m━━━━━━━━━━━━━━━━━━━━━━━━━━━━━━━━━━━━━━━\u001b[0m \u001b[32m281.4/281.4 MB\u001b[0m \u001b[31m3.0 MB/s\u001b[0m eta \u001b[36m0:00:00\u001b[0m\n",
            "\u001b[?25h  Preparing metadata (setup.py) ... \u001b[?25l\u001b[?25hdone\n",
            "Collecting py4j==0.10.9.5\n",
            "  Downloading py4j-0.10.9.5-py2.py3-none-any.whl (199 kB)\n",
            "\u001b[2K     \u001b[90m━━━━━━━━━━━━━━━━━━━━━━━━━━━━━━━━━━━━━━\u001b[0m \u001b[32m199.7/199.7 KB\u001b[0m \u001b[31m23.3 MB/s\u001b[0m eta \u001b[36m0:00:00\u001b[0m\n",
            "\u001b[?25hBuilding wheels for collected packages: pyspark\n",
            "  Building wheel for pyspark (setup.py) ... \u001b[?25l\u001b[?25hdone\n",
            "  Created wheel for pyspark: filename=pyspark-3.3.1-py2.py3-none-any.whl size=281845512 sha256=5d0d63a8ea5df21ed655e7df1e6f86366f3c486786d5a0589605f2e76899e3d2\n",
            "  Stored in directory: /root/.cache/pip/wheels/43/dc/11/ec201cd671da62fa9c5cc77078235e40722170ceba231d7598\n",
            "Successfully built pyspark\n",
            "Installing collected packages: py4j, pyspark\n",
            "Successfully installed py4j-0.10.9.5 pyspark-3.3.1\n"
          ]
        }
      ],
      "source": [
        "!pip install pyspark"
      ]
    },
    {
      "cell_type": "code",
      "source": [
        "import pyspark as spark\n",
        "from google.colab import drive\n",
        "\n",
        "from pyspark.sql import SparkSession\n",
        "from pyspark.sql.types import IntegerType\n",
        "from pyspark.sql.functions import array, col, concat_ws, udf, array_remove, size, window, to_timestamp, date_format, concat, lit"
      ],
      "metadata": {
        "id": "rfclGSnAsJla"
      },
      "execution_count": 2,
      "outputs": []
    },
    {
      "cell_type": "code",
      "source": [
        "drive.mount('/content/drive')\n",
        "!wget --quiet --show-progress https://drive.google.com/drive/u/0/folders/1zKTXVP8ncsRRXgtFxA6MvL-lWirAoc6a"
      ],
      "metadata": {
        "colab": {
          "base_uri": "https://localhost:8080/"
        },
        "id": "ERZ05k7asMvd",
        "outputId": "10ee755a-5c96-42cf-bf62-f0765492e463"
      },
      "execution_count": 7,
      "outputs": [
        {
          "output_type": "stream",
          "name": "stdout",
          "text": [
            "Mounted at /content/drive\n"
          ]
        }
      ]
    },
    {
      "cell_type": "markdown",
      "source": [
        "### Get Data:"
      ],
      "metadata": {
        "id": "uMS2WaxiWGPf"
      }
    },
    {
      "cell_type": "code",
      "source": [
        "spark = SparkSession.builder.master(\"local[*]\").appName(\"user_ct_test\").getOrCreate()\n",
        "sc = spark.sparkContext"
      ],
      "metadata": {
        "id": "yXJOe4yMsVIQ"
      },
      "execution_count": 8,
      "outputs": []
    },
    {
      "cell_type": "code",
      "source": [
        "!ls /content/drive/MyDrive/ColabDatasets/"
      ],
      "metadata": {
        "colab": {
          "base_uri": "https://localhost:8080/"
        },
        "id": "VNjSPlEfscjB",
        "outputId": "0a5fc78c-7213-4c24-89ea-aa8588b8f328"
      },
      "execution_count": 18,
      "outputs": [
        {
          "output_type": "stream",
          "name": "stdout",
          "text": [
            "Italy_Earthquakes\t\t Retail_Store_Sales_Transactions.zip\n",
            "ItalyEarthquakes.zip\t\t rts22_test.csv\n",
            "Retail_Store_Sales_Transactions  user-ct-test-collection-01.txt.gz\n"
          ]
        }
      ]
    },
    {
      "cell_type": "code",
      "source": [
        "FILE_PATH = \"/content/drive/MyDrive/ColabDatasets/user-ct-test-collection-01.txt.gz\""
      ],
      "metadata": {
        "id": "qEkKu4RhsXmu"
      },
      "execution_count": 10,
      "outputs": []
    },
    {
      "cell_type": "code",
      "source": [
        "data = spark.sparkContext.textFile(FILE_PATH)\n",
        "type(data)"
      ],
      "metadata": {
        "colab": {
          "base_uri": "https://localhost:8080/"
        },
        "id": "kELvLHqJsvFB",
        "outputId": "d26aca6e-ef98-4c71-cb9b-53b172128809"
      },
      "execution_count": 11,
      "outputs": [
        {
          "output_type": "execute_result",
          "data": {
            "text/plain": [
              "pyspark.rdd.RDD"
            ]
          },
          "metadata": {},
          "execution_count": 11
        }
      ]
    },
    {
      "cell_type": "code",
      "source": [
        "print(\"initial partition count:\"+str(data.getNumPartitions()))"
      ],
      "metadata": {
        "colab": {
          "base_uri": "https://localhost:8080/"
        },
        "id": "hk5AWhYyszCx",
        "outputId": "e4a9a686-7003-4a19-d071-d4e2dfbb7b4b"
      },
      "execution_count": 12,
      "outputs": [
        {
          "output_type": "stream",
          "name": "stdout",
          "text": [
            "initial partition count:1\n"
          ]
        }
      ]
    },
    {
      "cell_type": "code",
      "source": [
        "data.take(5)"
      ],
      "metadata": {
        "colab": {
          "base_uri": "https://localhost:8080/"
        },
        "id": "6MW_GZU5s1Xp",
        "outputId": "70038228-d68e-49b2-d941-818d5cb7982c"
      },
      "execution_count": 13,
      "outputs": [
        {
          "output_type": "execute_result",
          "data": {
            "text/plain": [
              "['AnonID\\tQuery\\tQueryTime\\tItemRank\\tClickURL',\n",
              " '142\\trentdirect.com\\t2006-03-01 07:17:12\\t\\t',\n",
              " '142\\twww.prescriptionfortime.com\\t2006-03-12 12:31:06\\t\\t',\n",
              " '142\\tstaple.com\\t2006-03-17 21:19:29\\t\\t',\n",
              " '142\\tstaple.com\\t2006-03-17 21:19:45\\t\\t']"
            ]
          },
          "metadata": {},
          "execution_count": 13
        }
      ]
    },
    {
      "cell_type": "code",
      "source": [
        "data.count()"
      ],
      "metadata": {
        "colab": {
          "base_uri": "https://localhost:8080/"
        },
        "id": "e1ly1ZVFs3fh",
        "outputId": "9ac716dd-56d1-4490-cc53-472730bd79c3"
      },
      "execution_count": 14,
      "outputs": [
        {
          "output_type": "execute_result",
          "data": {
            "text/plain": [
              "3558412"
            ]
          },
          "metadata": {},
          "execution_count": 14
        }
      ]
    },
    {
      "cell_type": "code",
      "source": [
        "header = data.first()\n",
        "data = data.filter(lambda row: row != header) # filter out the header"
      ],
      "metadata": {
        "id": "5lbU2eczs91R"
      },
      "execution_count": 15,
      "outputs": []
    },
    {
      "cell_type": "code",
      "source": [
        "data.take(5)"
      ],
      "metadata": {
        "colab": {
          "base_uri": "https://localhost:8080/"
        },
        "id": "H4EkKD1FtOR5",
        "outputId": "f9188148-bc4e-4745-f9c2-7ad827122baa"
      },
      "execution_count": 16,
      "outputs": [
        {
          "output_type": "execute_result",
          "data": {
            "text/plain": [
              "['142\\trentdirect.com\\t2006-03-01 07:17:12\\t\\t',\n",
              " '142\\twww.prescriptionfortime.com\\t2006-03-12 12:31:06\\t\\t',\n",
              " '142\\tstaple.com\\t2006-03-17 21:19:29\\t\\t',\n",
              " '142\\tstaple.com\\t2006-03-17 21:19:45\\t\\t',\n",
              " '142\\twww.newyorklawyersite.com\\t2006-03-18 08:02:58\\t\\t']"
            ]
          },
          "metadata": {},
          "execution_count": 16
        }
      ]
    },
    {
      "cell_type": "code",
      "source": [
        "header.split('\\t')"
      ],
      "metadata": {
        "colab": {
          "base_uri": "https://localhost:8080/"
        },
        "id": "CD2EnSEVtLu6",
        "outputId": "f2329953-afd4-4a6e-fc92-945780904250"
      },
      "execution_count": 17,
      "outputs": [
        {
          "output_type": "execute_result",
          "data": {
            "text/plain": [
              "['AnonID', 'Query', 'QueryTime', 'ItemRank', 'ClickURL']"
            ]
          },
          "metadata": {},
          "execution_count": 17
        }
      ]
    },
    {
      "cell_type": "markdown",
      "source": [
        "### Generic RDD parser implementation"
      ],
      "metadata": {
        "id": "Ylm_u2gzWUcH"
      }
    },
    {
      "cell_type": "code",
      "source": [
        "from ast import Raise\n",
        "import os.path\n",
        "from os import path\n",
        "\n",
        "class GenericParser:\n",
        "  # dataset: <str> Full path to the dataset in Drive.\n",
        "\n",
        "  global col_list, header\n",
        "\n",
        "  def __init__(self, dataset):\n",
        "    if isinstance(dataset, str):\n",
        "       if path.exists(dataset)==True:\n",
        "         self.dataset=dataset\n",
        "       else:\n",
        "         raise Exception(\"The specified path does not exist!\")       \n",
        "    else: \n",
        "      raise Exception(\"<str> variable should be provided as dataset argument!\")\n",
        "\n",
        "  def GetColNames(self):\n",
        "     rdd_temp = spark.sparkContext.textFile(self.dataset)\n",
        "     header=rdd_temp.first()\n",
        "     col_list=header.split('\\t')\n",
        "     col_list=[el.upper() for el in col_list]\n",
        "     return col_list\n",
        "\n",
        "  # cols: <list>/<str> Column name/s to select from the data.\n",
        "  def GetData(self, cols):\n",
        "     rdd = spark.sparkContext.textFile(self.dataset) \n",
        "     if isinstance(cols,list)==True:          \n",
        "        col_list=self.GetColNames()\n",
        "        rdd = rdd.filter(lambda row: row != header)\n",
        "        for i in range(len(col_list)):\n",
        "            if col_list[i] not in [el.upper() for el in cols]:\n",
        "                break\n",
        "            else:\n",
        "                indexes=[]\n",
        "                for i in range(len(cols)):\n",
        "                    element = col_list.index(cols[i].upper())\n",
        "                    indexes.append(element)\n",
        "\n",
        "                return rdd.map(lambda r: r.split('\\t')).map(lambda r: [r[i] for i in indexes])\n",
        "\n",
        "     elif isinstance(cols,str):\n",
        "         col_list=self.GetColNames()\n",
        "         index = col_list.index(cols.upper())       \n",
        "         return rdd.map(lambda r: r.split('\\t')).map(lambda r: r[index]) \n"
      ],
      "metadata": {
        "id": "1K-mRTJIvzWc"
      },
      "execution_count": 19,
      "outputs": []
    },
    {
      "cell_type": "markdown",
      "source": [
        "### Extracting and cleaning user sessions"
      ],
      "metadata": {
        "id": "-22SZHlqWcOz"
      }
    },
    {
      "cell_type": "code",
      "source": [
        "RDD_Column = GenericParser(FILE_PATH).GetColNames()\n",
        "RDD_Column"
      ],
      "metadata": {
        "colab": {
          "base_uri": "https://localhost:8080/"
        },
        "id": "pVc47woEuDnr",
        "outputId": "fbddbd71-dd32-4c6c-9aa4-d94548d7861b"
      },
      "execution_count": 20,
      "outputs": [
        {
          "output_type": "execute_result",
          "data": {
            "text/plain": [
              "['ANONID', 'QUERY', 'QUERYTIME', 'ITEMRANK', 'CLICKURL']"
            ]
          },
          "metadata": {},
          "execution_count": 20
        }
      ]
    },
    {
      "cell_type": "code",
      "source": [
        "df = GenericParser(FILE_PATH).GetData(RDD_Column).toDF(RDD_Column)\n",
        "type(df)"
      ],
      "metadata": {
        "colab": {
          "base_uri": "https://localhost:8080/"
        },
        "id": "g3uitTVjvzT8",
        "outputId": "098c7bf3-18f4-4c2f-b825-233353f7e9f1"
      },
      "execution_count": 28,
      "outputs": [
        {
          "output_type": "execute_result",
          "data": {
            "text/plain": [
              "pyspark.sql.dataframe.DataFrame"
            ]
          },
          "metadata": {},
          "execution_count": 28
        }
      ]
    },
    {
      "cell_type": "code",
      "source": [
        "df.show(15)"
      ],
      "metadata": {
        "colab": {
          "base_uri": "https://localhost:8080/"
        },
        "id": "PtZJZbu2v0G7",
        "outputId": "b68b6d20-272a-4f83-e937-fce1bdf520b4"
      },
      "execution_count": 29,
      "outputs": [
        {
          "output_type": "stream",
          "name": "stdout",
          "text": [
            "+------+--------------------+-------------------+--------+--------------------+\n",
            "|ANONID|               QUERY|          QUERYTIME|ITEMRANK|            CLICKURL|\n",
            "+------+--------------------+-------------------+--------+--------------------+\n",
            "|   142|      rentdirect.com|2006-03-01 07:17:12|        |                    |\n",
            "|   142|www.prescriptionf...|2006-03-12 12:31:06|        |                    |\n",
            "|   142|          staple.com|2006-03-17 21:19:29|        |                    |\n",
            "|   142|          staple.com|2006-03-17 21:19:45|        |                    |\n",
            "|   142|www.newyorklawyer...|2006-03-18 08:02:58|        |                    |\n",
            "|   142|www.newyorklawyer...|2006-03-18 08:03:09|        |                    |\n",
            "|   142|     westchester.gov|2006-03-20 03:55:57|       1|http://www.westch...|\n",
            "|   142|       space.comhttp|2006-03-24 20:51:24|        |                    |\n",
            "|   142|                dfdf|2006-03-24 22:23:07|        |                    |\n",
            "|   142|                dfdf|2006-03-24 22:23:14|        |                    |\n",
            "|   142|         vaniqa.comh|2006-03-25 23:27:12|        |                    |\n",
            "|   142| www.collegeucla.edu|2006-04-03 21:12:14|        |                    |\n",
            "|   142|          www.elaorg|2006-04-03 21:25:20|        |                    |\n",
            "|   142|        207 ad2d 530|2006-04-08 01:31:04|        |                    |\n",
            "|   142|        207 ad2d 530|2006-04-08 01:31:14|       1|http://www.courts...|\n",
            "+------+--------------------+-------------------+--------+--------------------+\n",
            "only showing top 15 rows\n",
            "\n"
          ]
        }
      ]
    },
    {
      "cell_type": "code",
      "source": [
        "df_clean = df.filter(\"CLICKURL != ''\")\n",
        "df_clean.show(10)"
      ],
      "metadata": {
        "colab": {
          "base_uri": "https://localhost:8080/"
        },
        "id": "m0kmFdYgRHTA",
        "outputId": "9817d546-1723-4a7c-c2c7-0c362ff20812"
      },
      "execution_count": 30,
      "outputs": [
        {
          "output_type": "stream",
          "name": "stdout",
          "text": [
            "+------+--------------------+-------------------+--------+--------------------+\n",
            "|ANONID|               QUERY|          QUERYTIME|ITEMRANK|            CLICKURL|\n",
            "+------+--------------------+-------------------+--------+--------------------+\n",
            "|   142|     westchester.gov|2006-03-20 03:55:57|       1|http://www.westch...|\n",
            "|   142|        207 ad2d 530|2006-04-08 01:31:14|       1|http://www.courts...|\n",
            "|   142|            vera.org|2006-04-08 08:38:42|       1| http://www.vera.org|\n",
            "|   217|             lottery|2006-03-01 11:58:51|       1|http://www.calott...|\n",
            "|   217|             lottery|2006-03-01 11:58:51|       1|http://www.calott...|\n",
            "|   217|      ameriprise.com|2006-03-01 14:06:23|       1|http://www.amerip...|\n",
            "|   217|          mizuno.com|2006-03-07 22:41:17|       1|http://www.mizuno...|\n",
            "|   217|asiansexygoddess.com|2006-03-16 14:31:36|       1|http://www.asians...|\n",
            "|   217|bestasiancompany.com|2006-03-20 15:15:43|       1|http://www.bestas...|\n",
            "|   217|             lottery|2006-03-27 14:10:38|       1|http://www.calott...|\n",
            "+------+--------------------+-------------------+--------+--------------------+\n",
            "only showing top 10 rows\n",
            "\n"
          ]
        }
      ]
    },
    {
      "cell_type": "code",
      "source": [
        "df_clean = df_clean.withColumn(\"_QUERY_TIME_\",to_timestamp(\"QUERYTIME\"))\n",
        "df_clean.show(10)"
      ],
      "metadata": {
        "colab": {
          "base_uri": "https://localhost:8080/"
        },
        "id": "hVWxk43VVRQV",
        "outputId": "c15faa91-0019-4015-cc10-e8f96ab97241"
      },
      "execution_count": 31,
      "outputs": [
        {
          "output_type": "stream",
          "name": "stdout",
          "text": [
            "+------+--------------------+-------------------+--------+--------------------+-------------------+\n",
            "|ANONID|               QUERY|          QUERYTIME|ITEMRANK|            CLICKURL|       _QUERY_TIME_|\n",
            "+------+--------------------+-------------------+--------+--------------------+-------------------+\n",
            "|   142|     westchester.gov|2006-03-20 03:55:57|       1|http://www.westch...|2006-03-20 03:55:57|\n",
            "|   142|        207 ad2d 530|2006-04-08 01:31:14|       1|http://www.courts...|2006-04-08 01:31:14|\n",
            "|   142|            vera.org|2006-04-08 08:38:42|       1| http://www.vera.org|2006-04-08 08:38:42|\n",
            "|   217|             lottery|2006-03-01 11:58:51|       1|http://www.calott...|2006-03-01 11:58:51|\n",
            "|   217|             lottery|2006-03-01 11:58:51|       1|http://www.calott...|2006-03-01 11:58:51|\n",
            "|   217|      ameriprise.com|2006-03-01 14:06:23|       1|http://www.amerip...|2006-03-01 14:06:23|\n",
            "|   217|          mizuno.com|2006-03-07 22:41:17|       1|http://www.mizuno...|2006-03-07 22:41:17|\n",
            "|   217|asiansexygoddess.com|2006-03-16 14:31:36|       1|http://www.asians...|2006-03-16 14:31:36|\n",
            "|   217|bestasiancompany.com|2006-03-20 15:15:43|       1|http://www.bestas...|2006-03-20 15:15:43|\n",
            "|   217|             lottery|2006-03-27 14:10:38|       1|http://www.calott...|2006-03-27 14:10:38|\n",
            "+------+--------------------+-------------------+--------+--------------------+-------------------+\n",
            "only showing top 10 rows\n",
            "\n"
          ]
        }
      ]
    },
    {
      "cell_type": "code",
      "source": [
        "df_clean.printSchema()"
      ],
      "metadata": {
        "colab": {
          "base_uri": "https://localhost:8080/"
        },
        "id": "XNxZOmwuVd8n",
        "outputId": "823d4183-0a74-42aa-ff12-1805dff7b2c2"
      },
      "execution_count": 32,
      "outputs": [
        {
          "output_type": "stream",
          "name": "stdout",
          "text": [
            "root\n",
            " |-- ANONID: string (nullable = true)\n",
            " |-- QUERY: string (nullable = true)\n",
            " |-- QUERYTIME: string (nullable = true)\n",
            " |-- ITEMRANK: string (nullable = true)\n",
            " |-- CLICKURL: string (nullable = true)\n",
            " |-- _QUERY_TIME_: timestamp (nullable = true)\n",
            "\n"
          ]
        }
      ]
    },
    {
      "cell_type": "code",
      "source": [
        "df_clean.count()"
      ],
      "metadata": {
        "colab": {
          "base_uri": "https://localhost:8080/"
        },
        "id": "pBABR_LqSMc1",
        "outputId": "c0fbeae4-23a5-4357-86d7-b0336c64b495"
      },
      "execution_count": 33,
      "outputs": [
        {
          "output_type": "execute_result",
          "data": {
            "text/plain": [
              "1890568"
            ]
          },
          "metadata": {},
          "execution_count": 33
        }
      ]
    },
    {
      "cell_type": "code",
      "source": [
        "df_grouped = df_clean.groupBy(\"ANONID\", window(\"QUERYTIME\", \"10 minutes\")).count()\n",
        "df_grouped.show(5)"
      ],
      "metadata": {
        "colab": {
          "base_uri": "https://localhost:8080/"
        },
        "id": "xDER3XqHPCxr",
        "outputId": "92c48b9a-1ece-40fb-ac9e-3f8083c248ca"
      },
      "execution_count": 34,
      "outputs": [
        {
          "output_type": "stream",
          "name": "stdout",
          "text": [
            "+------+--------------------+-----+\n",
            "|ANONID|              window|count|\n",
            "+------+--------------------+-----+\n",
            "|  2722|{2006-03-23 11:50...|    1|\n",
            "|  2722|{2006-04-06 07:10...|    1|\n",
            "|  2722|{2006-05-14 22:50...|    2|\n",
            "|  2722|{2006-05-25 00:10...|    1|\n",
            "|  4781|{2006-03-10 12:00...|    1|\n",
            "+------+--------------------+-----+\n",
            "only showing top 5 rows\n",
            "\n"
          ]
        }
      ]
    },
    {
      "cell_type": "code",
      "source": [
        "df_grouped.printSchema()"
      ],
      "metadata": {
        "colab": {
          "base_uri": "https://localhost:8080/"
        },
        "id": "kP9jv8yBPyvh",
        "outputId": "951b2fff-94b6-4379-f889-e9c624ee5b99"
      },
      "execution_count": 36,
      "outputs": [
        {
          "output_type": "stream",
          "name": "stdout",
          "text": [
            "root\n",
            " |-- ANONID: string (nullable = true)\n",
            " |-- window: struct (nullable = false)\n",
            " |    |-- start: timestamp (nullable = true)\n",
            " |    |-- end: timestamp (nullable = true)\n",
            " |-- count: long (nullable = false)\n",
            "\n"
          ]
        }
      ]
    },
    {
      "cell_type": "code",
      "source": [
        "df_grouped.count()"
      ],
      "metadata": {
        "colab": {
          "base_uri": "https://localhost:8080/"
        },
        "id": "ApkG4MlZQIEE",
        "outputId": "61d39782-d680-4391-fcfa-a9bed00cb3ff"
      },
      "execution_count": 37,
      "outputs": [
        {
          "output_type": "execute_result",
          "data": {
            "text/plain": [
              "976288"
            ]
          },
          "metadata": {},
          "execution_count": 37
        }
      ]
    },
    {
      "cell_type": "code",
      "source": [
        "df_clean.printSchema()"
      ],
      "metadata": {
        "id": "6BlMM-gC1XJM",
        "colab": {
          "base_uri": "https://localhost:8080/"
        },
        "outputId": "6980edc3-3010-4ff7-eccd-2d75c1ab957f"
      },
      "execution_count": 38,
      "outputs": [
        {
          "output_type": "stream",
          "name": "stdout",
          "text": [
            "root\n",
            " |-- ANONID: string (nullable = true)\n",
            " |-- QUERY: string (nullable = true)\n",
            " |-- QUERYTIME: string (nullable = true)\n",
            " |-- ITEMRANK: string (nullable = true)\n",
            " |-- CLICKURL: string (nullable = true)\n",
            " |-- _QUERY_TIME_: timestamp (nullable = true)\n",
            "\n"
          ]
        }
      ]
    },
    {
      "cell_type": "code",
      "source": [
        "df_clean.createOrReplaceTempView(\"df_clean\")\n",
        "df_grouped.createOrReplaceTempView(\"df_grouped\")"
      ],
      "metadata": {
        "id": "BceFtpFUXwvH"
      },
      "execution_count": 39,
      "outputs": []
    },
    {
      "cell_type": "code",
      "source": [
        "spark.sql('select * from df_clean').show(10)\n",
        "                                      "
      ],
      "metadata": {
        "colab": {
          "base_uri": "https://localhost:8080/"
        },
        "id": "3MYbf7mWVG8m",
        "outputId": "c1d7ae4b-fdea-4ead-df4f-d1d05abe35c7"
      },
      "execution_count": 40,
      "outputs": [
        {
          "output_type": "stream",
          "name": "stdout",
          "text": [
            "+------+--------------------+-------------------+--------+--------------------+-------------------+\n",
            "|ANONID|               QUERY|          QUERYTIME|ITEMRANK|            CLICKURL|       _QUERY_TIME_|\n",
            "+------+--------------------+-------------------+--------+--------------------+-------------------+\n",
            "|   142|     westchester.gov|2006-03-20 03:55:57|       1|http://www.westch...|2006-03-20 03:55:57|\n",
            "|   142|        207 ad2d 530|2006-04-08 01:31:14|       1|http://www.courts...|2006-04-08 01:31:14|\n",
            "|   142|            vera.org|2006-04-08 08:38:42|       1| http://www.vera.org|2006-04-08 08:38:42|\n",
            "|   217|             lottery|2006-03-01 11:58:51|       1|http://www.calott...|2006-03-01 11:58:51|\n",
            "|   217|             lottery|2006-03-01 11:58:51|       1|http://www.calott...|2006-03-01 11:58:51|\n",
            "|   217|      ameriprise.com|2006-03-01 14:06:23|       1|http://www.amerip...|2006-03-01 14:06:23|\n",
            "|   217|          mizuno.com|2006-03-07 22:41:17|       1|http://www.mizuno...|2006-03-07 22:41:17|\n",
            "|   217|asiansexygoddess.com|2006-03-16 14:31:36|       1|http://www.asians...|2006-03-16 14:31:36|\n",
            "|   217|bestasiancompany.com|2006-03-20 15:15:43|       1|http://www.bestas...|2006-03-20 15:15:43|\n",
            "|   217|             lottery|2006-03-27 14:10:38|       1|http://www.calott...|2006-03-27 14:10:38|\n",
            "+------+--------------------+-------------------+--------+--------------------+-------------------+\n",
            "only showing top 10 rows\n",
            "\n"
          ]
        }
      ]
    },
    {
      "cell_type": "code",
      "source": [
        "spark.sql('select * from df_grouped').show(10)"
      ],
      "metadata": {
        "colab": {
          "base_uri": "https://localhost:8080/"
        },
        "id": "CVjVy5bdYbrM",
        "outputId": "536b3f81-d64e-4472-9bfe-dae84d564aad"
      },
      "execution_count": 41,
      "outputs": [
        {
          "output_type": "stream",
          "name": "stdout",
          "text": [
            "+------+--------------------+-----+\n",
            "|ANONID|              window|count|\n",
            "+------+--------------------+-----+\n",
            "|  2722|{2006-03-23 11:50...|    1|\n",
            "|  2722|{2006-04-06 07:10...|    1|\n",
            "|  2722|{2006-05-14 22:50...|    2|\n",
            "|  2722|{2006-05-25 00:10...|    1|\n",
            "|  4781|{2006-03-10 12:00...|    1|\n",
            "|  4781|{2006-04-15 09:50...|    2|\n",
            "|  4781|{2006-05-09 16:30...|    3|\n",
            "|  6497|{2006-04-06 01:50...|    1|\n",
            "|  7005|{2006-04-19 11:10...|    1|\n",
            "|  8400|{2006-03-11 14:40...|    2|\n",
            "+------+--------------------+-----+\n",
            "only showing top 10 rows\n",
            "\n"
          ]
        }
      ]
    },
    {
      "cell_type": "code",
      "source": [
        "df_joined = df_clean.join(df_grouped,((df_clean.ANONID == df_grouped.ANONID) & (df_clean._QUERY_TIME_.between(df_grouped.window.start,df_grouped.window.end))),'left_outer').drop(df_grouped.ANONID)\n",
        "df_joined.show(10)"
      ],
      "metadata": {
        "colab": {
          "base_uri": "https://localhost:8080/"
        },
        "id": "aczsuO_Fb5w2",
        "outputId": "cb01eecd-afb4-40ed-91f8-7648ad50cda6"
      },
      "execution_count": 42,
      "outputs": [
        {
          "output_type": "stream",
          "name": "stdout",
          "text": [
            "+--------------------+-------------------+--------+--------------------+-------------------+------+--------------------+-----+\n",
            "|               QUERY|          QUERYTIME|ITEMRANK|            CLICKURL|       _QUERY_TIME_|ANONID|              window|count|\n",
            "+--------------------+-------------------+--------+--------------------+-------------------+------+--------------------+-----+\n",
            "|     westchester.gov|2006-03-20 03:55:57|       1|http://www.westch...|2006-03-20 03:55:57|   142|{2006-03-20 03:50...|    1|\n",
            "|        207 ad2d 530|2006-04-08 01:31:14|       1|http://www.courts...|2006-04-08 01:31:14|   142|{2006-04-08 01:30...|    1|\n",
            "|            vera.org|2006-04-08 08:38:42|       1| http://www.vera.org|2006-04-08 08:38:42|   142|{2006-04-08 08:30...|    1|\n",
            "|             lottery|2006-03-01 11:58:51|       1|http://www.calott...|2006-03-01 11:58:51|   217|{2006-03-01 11:50...|    2|\n",
            "|             lottery|2006-03-01 11:58:51|       1|http://www.calott...|2006-03-01 11:58:51|   217|{2006-03-01 11:50...|    2|\n",
            "|      ameriprise.com|2006-03-01 14:06:23|       1|http://www.amerip...|2006-03-01 14:06:23|   217|{2006-03-01 14:00...|    1|\n",
            "|          mizuno.com|2006-03-07 22:41:17|       1|http://www.mizuno...|2006-03-07 22:41:17|   217|{2006-03-07 22:40...|    1|\n",
            "|asiansexygoddess.com|2006-03-16 14:31:36|       1|http://www.asians...|2006-03-16 14:31:36|   217|{2006-03-16 14:30...|    1|\n",
            "|bestasiancompany.com|2006-03-20 15:15:43|       1|http://www.bestas...|2006-03-20 15:15:43|   217|{2006-03-20 15:10...|    1|\n",
            "|             lottery|2006-03-27 14:10:38|       1|http://www.calott...|2006-03-27 14:10:38|   217|{2006-03-27 14:10...|    1|\n",
            "+--------------------+-------------------+--------+--------------------+-------------------+------+--------------------+-----+\n",
            "only showing top 10 rows\n",
            "\n"
          ]
        }
      ]
    },
    {
      "cell_type": "code",
      "source": [
        "df_joined.count()"
      ],
      "metadata": {
        "colab": {
          "base_uri": "https://localhost:8080/"
        },
        "id": "Mf1DZBQ1dKPh",
        "outputId": "ad0f97ac-9d06-4ecb-a513-47edb78b5495"
      },
      "execution_count": 43,
      "outputs": [
        {
          "output_type": "execute_result",
          "data": {
            "text/plain": [
              "1891306"
            ]
          },
          "metadata": {},
          "execution_count": 43
        }
      ]
    },
    {
      "cell_type": "code",
      "source": [
        "min_support = 20\n",
        "df_joined.createOrReplaceTempView('df_joined')\n",
        "query1 = spark.sql('''\n",
        "                    SELECT ANONID, window, count(*) as cnt\n",
        "                    FROM df_joined \n",
        "                    GROUP BY ANONID, window\n",
        "                    HAVING cnt > {min_supp}\n",
        "                    ORDER BY cnt DESC\n",
        "                   '''.format(min_supp=min_support))\n",
        "query1.show(15)"
      ],
      "metadata": {
        "colab": {
          "base_uri": "https://localhost:8080/"
        },
        "id": "3DhlZUOYkWJF",
        "outputId": "b95ac1af-33bd-4fa8-cfbc-57bcdaf45c6b"
      },
      "execution_count": 44,
      "outputs": [
        {
          "output_type": "stream",
          "name": "stdout",
          "text": [
            "+--------+--------------------+---+\n",
            "|  ANONID|              window|cnt|\n",
            "+--------+--------------------+---+\n",
            "| 3010310|{2006-03-28 18:40...|141|\n",
            "|15164617|{2006-04-27 11:50...| 88|\n",
            "|  607863|{2006-04-18 08:10...| 84|\n",
            "| 3362728|{2006-03-23 18:00...| 56|\n",
            "|  963132|{2006-05-21 12:50...| 56|\n",
            "| 3241737|{2006-05-06 20:10...| 51|\n",
            "| 8695017|{2006-04-02 19:50...| 51|\n",
            "|12025009|{2006-03-20 20:20...| 49|\n",
            "| 2023782|{2006-03-17 17:30...| 45|\n",
            "| 3241737|{2006-04-26 18:30...| 43|\n",
            "| 3639132|{2006-03-04 18:10...| 42|\n",
            "| 5808557|{2006-03-28 17:10...| 41|\n",
            "| 5808557|{2006-05-03 17:10...| 40|\n",
            "| 3241737|{2006-04-27 20:40...| 39|\n",
            "| 3241737|{2006-04-25 21:20...| 37|\n",
            "+--------+--------------------+---+\n",
            "only showing top 15 rows\n",
            "\n"
          ]
        }
      ]
    },
    {
      "cell_type": "code",
      "source": [
        "query1.count()"
      ],
      "metadata": {
        "colab": {
          "base_uri": "https://localhost:8080/"
        },
        "id": "CyyCaQjbnQXT",
        "outputId": "5998b888-6dfe-43ec-d774-7e76aaffa924"
      },
      "execution_count": 45,
      "outputs": [
        {
          "output_type": "execute_result",
          "data": {
            "text/plain": [
              "176"
            ]
          },
          "metadata": {},
          "execution_count": 45
        }
      ]
    },
    {
      "cell_type": "code",
      "source": [
        "W = df_joined.select(\"ANONID\", df_joined.window.start.cast(\"string\").alias(\"start\"),\n",
        "                               df_joined.window.end.cast(\"string\").alias(\"end\"),\n",
        "                               \"CLICKURL\" )\n",
        "\n",
        "W = W.select(\"ANONID\",concat(W.start, lit(\"  \"), W.end).alias(\"Interval\"),\"CLICKURL\")\n",
        "W.show(truncate=False)"
      ],
      "metadata": {
        "colab": {
          "base_uri": "https://localhost:8080/"
        },
        "id": "HwEoAmJzpIco",
        "outputId": "d8b7786d-7a24-4b3e-c029-2db48f65b2a0"
      },
      "execution_count": 46,
      "outputs": [
        {
          "output_type": "stream",
          "name": "stdout",
          "text": [
            "+------+----------------------------------------+--------------------------------+\n",
            "|ANONID|Interval                                |CLICKURL                        |\n",
            "+------+----------------------------------------+--------------------------------+\n",
            "|1268  |2006-03-01 17:30:00  2006-03-01 17:40:00|http://www.blanketsnmore.com    |\n",
            "|1268  |2006-03-21 17:50:00  2006-03-21 18:00:00|http://www.osteen-schatzberg.com|\n",
            "|1268  |2006-03-21 17:50:00  2006-03-21 18:00:00|http://www.osteen-schatzberg.com|\n",
            "|1268  |2006-05-11 02:10:00  2006-05-11 02:20:00|http://www.niddk.nih.gov        |\n",
            "|1326  |2006-03-21 11:50:00  2006-03-21 12:00:00|http://www.wonderlandtheatre.com|\n",
            "|1326  |2006-03-29 17:10:00  2006-03-29 17:20:00|http://www.everyboat.com        |\n",
            "|1326  |2006-04-01 17:50:00  2006-04-01 18:00:00|http://www.imdb.com             |\n",
            "|142   |2006-03-20 03:50:00  2006-03-20 04:00:00|http://www.westchestergov.com   |\n",
            "|142   |2006-04-08 01:30:00  2006-04-08 01:40:00|http://www.courts.state.ny.us   |\n",
            "|142   |2006-04-08 08:30:00  2006-04-08 08:40:00|http://www.vera.org             |\n",
            "|217   |2006-03-01 11:50:00  2006-03-01 12:00:00|http://www.calottery.com        |\n",
            "|217   |2006-03-01 11:50:00  2006-03-01 12:00:00|http://www.calottery.com        |\n",
            "|217   |2006-03-01 14:00:00  2006-03-01 14:10:00|http://www.ameriprise.com       |\n",
            "|217   |2006-03-07 22:40:00  2006-03-07 22:50:00|http://www.mizuno.com           |\n",
            "|217   |2006-03-16 14:30:00  2006-03-16 14:40:00|http://www.asiansexygoddess.com |\n",
            "|217   |2006-03-20 15:10:00  2006-03-20 15:20:00|http://www.bestasiancompany.com |\n",
            "|217   |2006-03-27 14:10:00  2006-03-27 14:20:00|http://www.calottery.com        |\n",
            "|217   |2006-03-27 16:30:00  2006-03-27 16:40:00|http://www.calottery.com        |\n",
            "|217   |2006-03-31 14:30:00  2006-03-31 14:40:00|http://www.ask.com              |\n",
            "|217   |2006-05-18 18:20:00  2006-05-18 18:30:00|http://www.theonering.net       |\n",
            "+------+----------------------------------------+--------------------------------+\n",
            "only showing top 20 rows\n",
            "\n"
          ]
        }
      ]
    },
    {
      "cell_type": "code",
      "source": [
        "W.printSchema()"
      ],
      "metadata": {
        "colab": {
          "base_uri": "https://localhost:8080/"
        },
        "id": "8NbpazxwszM7",
        "outputId": "c245749e-b9b5-4d19-9f1d-dcc338d4065b"
      },
      "execution_count": 47,
      "outputs": [
        {
          "output_type": "stream",
          "name": "stdout",
          "text": [
            "root\n",
            " |-- ANONID: string (nullable = true)\n",
            " |-- Interval: string (nullable = true)\n",
            " |-- CLICKURL: string (nullable = true)\n",
            "\n"
          ]
        }
      ]
    },
    {
      "cell_type": "code",
      "source": [
        "W.createOrReplaceTempView('W')\n",
        "query = '''\n",
        "        WITH SOURCE as (\n",
        "                        SELECT d.*, REPLACE({ITEMS}, ' ', '_') as ITEMS                                                  \n",
        "                        FROM {data} as d\n",
        "                        ),\n",
        "\n",
        "            TOTAL as ( select count(distinct ITEMS) from SOURCE ),          \n",
        "\n",
        "            SUPPORT_ITEM_SET1 (\n",
        "                  SELECT *, CNT/ALL_CNT as SUPPORT \n",
        "                  FROM(\n",
        "                      SELECT ITEMS, count(*) as CNT, (select * from TOTAL) as ALL_CNT \n",
        "                      FROM SOURCE\n",
        "                      GROUP BY ITEMS\n",
        "                      ) as tab1\n",
        "                  WHERE (CNT/ALL_CNT) > {min_support}\n",
        "                  ORDER BY SUPPORT DESC\n",
        "                              )\n",
        "\n",
        "            SELECT a.*\n",
        "            FROM SOURCE as a\n",
        "            INNER JOIN SUPPORT_ITEM_SET1 as b\n",
        "            ON a.ITEMS = b.ITEMS\n",
        "           \n",
        "\n",
        "            '''.format(data='W', ITEMS=\"CLICKURL\", min_support=0.05)\n",
        "\n",
        "      #       SELECT *\n",
        "      #       FROM SOURCE\n",
        "      #       WHERE ITEMS in (SELECT ITEMS FROM SUPPORT_ITEM_SET1)\n",
        "\n",
        "      #  '''.format(data='W', ITEMS=\"CLICKURL\", min_support=0.01)\n",
        "\n",
        "\n",
        "query1 = spark.sql(query)\n",
        "query1.show(10)"
      ],
      "metadata": {
        "colab": {
          "base_uri": "https://localhost:8080/"
        },
        "id": "YPkAgPrmxGdM",
        "outputId": "bca35947-4f56-49df-bccf-1a44e2b1c1ed"
      },
      "execution_count": 71,
      "outputs": [
        {
          "output_type": "stream",
          "name": "stdout",
          "text": [
            "+--------+--------------------+--------------------+--------------------+\n",
            "|  ANONID|            Interval|            CLICKURL|               ITEMS|\n",
            "+--------+--------------------+--------------------+--------------------+\n",
            "|10001760|2006-03-16 23:10:...|http://www.google...|http://www.google...|\n",
            "|10001760|2006-03-16 23:40:...|http://www.google...|http://www.google...|\n",
            "|10001760|2006-03-18 02:50:...|http://www.google...|http://www.google...|\n",
            "|10001760|2006-05-18 23:50:...|http://www.google...|http://www.google...|\n",
            "|10001760|2006-05-21 18:50:...|http://www.google...|http://www.google...|\n",
            "|10007061|2006-05-04 17:00:...|http://www.google...|http://www.google...|\n",
            "| 1002092|2006-03-04 16:40:...|http://www.google...|http://www.google...|\n",
            "|  100218|2006-03-31 13:30:...|http://www.google...|http://www.google...|\n",
            "|  100218|2006-03-31 13:40:...|http://www.google...|http://www.google...|\n",
            "|  100218|2006-05-19 17:50:...|http://www.google...|http://www.google...|\n",
            "+--------+--------------------+--------------------+--------------------+\n",
            "only showing top 10 rows\n",
            "\n"
          ]
        }
      ]
    },
    {
      "cell_type": "code",
      "source": [
        "query1.count()"
      ],
      "metadata": {
        "colab": {
          "base_uri": "https://localhost:8080/"
        },
        "id": "qMOkBabal8Of",
        "outputId": "bd787cd7-9772-44ad-a07c-3bfce7e2ff61"
      },
      "execution_count": 69,
      "outputs": [
        {
          "output_type": "execute_result",
          "data": {
            "text/plain": [
              "139998"
            ]
          },
          "metadata": {},
          "execution_count": 69
        }
      ]
    },
    {
      "cell_type": "code",
      "source": [
        "data_final = df_joined.groupBy(['ANONID','Interval']).pivot('CLICKURL').count()\n",
        "data_final.show(10)"
      ],
      "metadata": {
        "id": "HC0hOgqmjwOQ",
        "colab": {
          "base_uri": "https://localhost:8080/",
          "height": 328
        },
        "outputId": "1f48a9ea-794d-4698-f1c8-d0168ce6beaf"
      },
      "execution_count": 70,
      "outputs": [
        {
          "output_type": "error",
          "ename": "AnalysisException",
          "evalue": "ignored",
          "traceback": [
            "\u001b[0;31m---------------------------------------------------------------------------\u001b[0m",
            "\u001b[0;31mAnalysisException\u001b[0m                         Traceback (most recent call last)",
            "\u001b[0;32m<ipython-input-70-5c2b848ef3e9>\u001b[0m in \u001b[0;36m<module>\u001b[0;34m\u001b[0m\n\u001b[0;32m----> 1\u001b[0;31m \u001b[0mdata_final\u001b[0m \u001b[0;34m=\u001b[0m \u001b[0mdf_joined\u001b[0m\u001b[0;34m.\u001b[0m\u001b[0mgroupBy\u001b[0m\u001b[0;34m(\u001b[0m\u001b[0;34m[\u001b[0m\u001b[0;34m'ANONID'\u001b[0m\u001b[0;34m,\u001b[0m\u001b[0;34m'Interval'\u001b[0m\u001b[0;34m]\u001b[0m\u001b[0;34m)\u001b[0m\u001b[0;34m.\u001b[0m\u001b[0mpivot\u001b[0m\u001b[0;34m(\u001b[0m\u001b[0;34m'CLICKURL'\u001b[0m\u001b[0;34m)\u001b[0m\u001b[0;34m.\u001b[0m\u001b[0mcount\u001b[0m\u001b[0;34m(\u001b[0m\u001b[0;34m)\u001b[0m\u001b[0;34m\u001b[0m\u001b[0;34m\u001b[0m\u001b[0m\n\u001b[0m\u001b[1;32m      2\u001b[0m \u001b[0mdata_final\u001b[0m\u001b[0;34m.\u001b[0m\u001b[0mshow\u001b[0m\u001b[0;34m(\u001b[0m\u001b[0;36m10\u001b[0m\u001b[0;34m)\u001b[0m\u001b[0;34m\u001b[0m\u001b[0;34m\u001b[0m\u001b[0m\n",
            "\u001b[0;32m/usr/local/lib/python3.8/dist-packages/pyspark/sql/group.py\u001b[0m in \u001b[0;36mpivot\u001b[0;34m(self, pivot_col, values)\u001b[0m\n\u001b[1;32m    275\u001b[0m         \"\"\"\n\u001b[1;32m    276\u001b[0m         \u001b[0;32mif\u001b[0m \u001b[0mvalues\u001b[0m \u001b[0;32mis\u001b[0m \u001b[0;32mNone\u001b[0m\u001b[0;34m:\u001b[0m\u001b[0;34m\u001b[0m\u001b[0;34m\u001b[0m\u001b[0m\n\u001b[0;32m--> 277\u001b[0;31m             \u001b[0mjgd\u001b[0m \u001b[0;34m=\u001b[0m \u001b[0mself\u001b[0m\u001b[0;34m.\u001b[0m\u001b[0m_jgd\u001b[0m\u001b[0;34m.\u001b[0m\u001b[0mpivot\u001b[0m\u001b[0;34m(\u001b[0m\u001b[0mpivot_col\u001b[0m\u001b[0;34m)\u001b[0m\u001b[0;34m\u001b[0m\u001b[0;34m\u001b[0m\u001b[0m\n\u001b[0m\u001b[1;32m    278\u001b[0m         \u001b[0;32melse\u001b[0m\u001b[0;34m:\u001b[0m\u001b[0;34m\u001b[0m\u001b[0;34m\u001b[0m\u001b[0m\n\u001b[1;32m    279\u001b[0m             \u001b[0mjgd\u001b[0m \u001b[0;34m=\u001b[0m \u001b[0mself\u001b[0m\u001b[0;34m.\u001b[0m\u001b[0m_jgd\u001b[0m\u001b[0;34m.\u001b[0m\u001b[0mpivot\u001b[0m\u001b[0;34m(\u001b[0m\u001b[0mpivot_col\u001b[0m\u001b[0;34m,\u001b[0m \u001b[0mvalues\u001b[0m\u001b[0;34m)\u001b[0m\u001b[0;34m\u001b[0m\u001b[0;34m\u001b[0m\u001b[0m\n",
            "\u001b[0;32m/usr/local/lib/python3.8/dist-packages/py4j/java_gateway.py\u001b[0m in \u001b[0;36m__call__\u001b[0;34m(self, *args)\u001b[0m\n\u001b[1;32m   1319\u001b[0m \u001b[0;34m\u001b[0m\u001b[0m\n\u001b[1;32m   1320\u001b[0m         \u001b[0manswer\u001b[0m \u001b[0;34m=\u001b[0m \u001b[0mself\u001b[0m\u001b[0;34m.\u001b[0m\u001b[0mgateway_client\u001b[0m\u001b[0;34m.\u001b[0m\u001b[0msend_command\u001b[0m\u001b[0;34m(\u001b[0m\u001b[0mcommand\u001b[0m\u001b[0;34m)\u001b[0m\u001b[0;34m\u001b[0m\u001b[0;34m\u001b[0m\u001b[0m\n\u001b[0;32m-> 1321\u001b[0;31m         return_value = get_return_value(\n\u001b[0m\u001b[1;32m   1322\u001b[0m             answer, self.gateway_client, self.target_id, self.name)\n\u001b[1;32m   1323\u001b[0m \u001b[0;34m\u001b[0m\u001b[0m\n",
            "\u001b[0;32m/usr/local/lib/python3.8/dist-packages/pyspark/sql/utils.py\u001b[0m in \u001b[0;36mdeco\u001b[0;34m(*a, **kw)\u001b[0m\n\u001b[1;32m    194\u001b[0m                 \u001b[0;31m# Hide where the exception came from that shows a non-Pythonic\u001b[0m\u001b[0;34m\u001b[0m\u001b[0;34m\u001b[0m\u001b[0;34m\u001b[0m\u001b[0m\n\u001b[1;32m    195\u001b[0m                 \u001b[0;31m# JVM exception message.\u001b[0m\u001b[0;34m\u001b[0m\u001b[0;34m\u001b[0m\u001b[0;34m\u001b[0m\u001b[0m\n\u001b[0;32m--> 196\u001b[0;31m                 \u001b[0;32mraise\u001b[0m \u001b[0mconverted\u001b[0m \u001b[0;32mfrom\u001b[0m \u001b[0;32mNone\u001b[0m\u001b[0;34m\u001b[0m\u001b[0;34m\u001b[0m\u001b[0m\n\u001b[0m\u001b[1;32m    197\u001b[0m             \u001b[0;32melse\u001b[0m\u001b[0;34m:\u001b[0m\u001b[0;34m\u001b[0m\u001b[0;34m\u001b[0m\u001b[0m\n\u001b[1;32m    198\u001b[0m                 \u001b[0;32mraise\u001b[0m\u001b[0;34m\u001b[0m\u001b[0;34m\u001b[0m\u001b[0m\n",
            "\u001b[0;31mAnalysisException\u001b[0m:  The pivot column CLICKURL has more than 10000 distinct values, this could indicate an error. If this was intended, set spark.sql.pivotMaxValues to at least the number of distinct values of the pivot column.        "
          ]
        }
      ]
    },
    {
      "cell_type": "code",
      "source": [],
      "metadata": {
        "id": "E8y4NGMsoLVw"
      },
      "execution_count": null,
      "outputs": []
    }
  ]
}