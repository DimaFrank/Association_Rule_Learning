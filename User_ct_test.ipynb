{
  "nbformat": 4,
  "nbformat_minor": 0,
  "metadata": {
    "colab": {
      "provenance": [],
      "collapsed_sections": [
        "uMS2WaxiWGPf",
        "Ylm_u2gzWUcH"
      ],
      "machine_shape": "hm",
      "authorship_tag": "ABX9TyNmu1JZXht21oclS/cCX5X+",
      "include_colab_link": true
    },
    "kernelspec": {
      "name": "python3",
      "display_name": "Python 3"
    },
    "language_info": {
      "name": "python"
    },
    "gpuClass": "premium"
  },
  "cells": [
    {
      "cell_type": "markdown",
      "metadata": {
        "id": "view-in-github",
        "colab_type": "text"
      },
      "source": [
        "<a href=\"https://colab.research.google.com/github/DimaFrank/Association_Rule_Learning/blob/logs/User_ct_test.ipynb\" target=\"_parent\"><img src=\"https://colab.research.google.com/assets/colab-badge.svg\" alt=\"Open In Colab\"/></a>"
      ]
    },
    {
      "cell_type": "code",
      "execution_count": 1,
      "metadata": {
        "id": "bes6UXEGsD_p",
        "colab": {
          "base_uri": "https://localhost:8080/"
        },
        "outputId": "eb9dd467-6496-4344-c0c7-c27c541065f5"
      },
      "outputs": [
        {
          "output_type": "stream",
          "name": "stdout",
          "text": [
            "Looking in indexes: https://pypi.org/simple, https://us-python.pkg.dev/colab-wheels/public/simple/\n",
            "Collecting pyspark\n",
            "  Downloading pyspark-3.3.1.tar.gz (281.4 MB)\n",
            "\u001b[2K     \u001b[90m━━━━━━━━━━━━━━━━━━━━━━━━━━━━━━━━━━━━━━━\u001b[0m \u001b[32m281.4/281.4 MB\u001b[0m \u001b[31m4.0 MB/s\u001b[0m eta \u001b[36m0:00:00\u001b[0m\n",
            "\u001b[?25h  Preparing metadata (setup.py) ... \u001b[?25l\u001b[?25hdone\n",
            "Collecting py4j==0.10.9.5\n",
            "  Downloading py4j-0.10.9.5-py2.py3-none-any.whl (199 kB)\n",
            "\u001b[2K     \u001b[90m━━━━━━━━━━━━━━━━━━━━━━━━━━━━━━━━━━━━━━\u001b[0m \u001b[32m199.7/199.7 KB\u001b[0m \u001b[31m11.0 MB/s\u001b[0m eta \u001b[36m0:00:00\u001b[0m\n",
            "\u001b[?25hBuilding wheels for collected packages: pyspark\n",
            "  Building wheel for pyspark (setup.py) ... \u001b[?25l\u001b[?25hdone\n",
            "  Created wheel for pyspark: filename=pyspark-3.3.1-py2.py3-none-any.whl size=281845512 sha256=2041b7db1906cb6e3c267a9721cd6d6d2ed1ea629fe2542a843529afd7ad48bd\n",
            "  Stored in directory: /root/.cache/pip/wheels/43/dc/11/ec201cd671da62fa9c5cc77078235e40722170ceba231d7598\n",
            "Successfully built pyspark\n",
            "Installing collected packages: py4j, pyspark\n",
            "Successfully installed py4j-0.10.9.5 pyspark-3.3.1\n"
          ]
        }
      ],
      "source": [
        "!pip install pyspark"
      ]
    },
    {
      "cell_type": "code",
      "source": [
        "import pyspark as spark\n",
        "from google.colab import drive\n",
        "\n",
        "from pyspark.sql import SparkSession\n",
        "from pyspark.sql.types import IntegerType\n",
        "from pyspark.sql.functions import array, col, concat_ws, udf, array_remove, size, window, to_timestamp, date_format, concat, lit, collect_list, desc, sort_array, array_intersect, array_union\n",
        "from pyspark.sql.types import StructType,StructField, StringType, IntegerType, ArrayType, LongType\n",
        "import pyspark.sql.functions as F\n",
        "import itertools"
      ],
      "metadata": {
        "id": "rfclGSnAsJla"
      },
      "execution_count": 2,
      "outputs": []
    },
    {
      "cell_type": "code",
      "source": [
        "!nvidia-smi"
      ],
      "metadata": {
        "id": "r6WhUJaooEpj",
        "colab": {
          "base_uri": "https://localhost:8080/"
        },
        "outputId": "2c489d6a-a9ba-4942-94cf-038b2663dbd3"
      },
      "execution_count": 3,
      "outputs": [
        {
          "output_type": "stream",
          "name": "stdout",
          "text": [
            "Sun Jan 22 09:13:46 2023       \n",
            "+-----------------------------------------------------------------------------+\n",
            "| NVIDIA-SMI 460.32.03    Driver Version: 460.32.03    CUDA Version: 11.2     |\n",
            "|-------------------------------+----------------------+----------------------+\n",
            "| GPU  Name        Persistence-M| Bus-Id        Disp.A | Volatile Uncorr. ECC |\n",
            "| Fan  Temp  Perf  Pwr:Usage/Cap|         Memory-Usage | GPU-Util  Compute M. |\n",
            "|                               |                      |               MIG M. |\n",
            "|===============================+======================+======================|\n",
            "|   0  Tesla T4            Off  | 00000000:00:04.0 Off |                    0 |\n",
            "| N/A   42C    P0    28W /  70W |      0MiB / 15109MiB |      0%      Default |\n",
            "|                               |                      |                  N/A |\n",
            "+-------------------------------+----------------------+----------------------+\n",
            "                                                                               \n",
            "+-----------------------------------------------------------------------------+\n",
            "| Processes:                                                                  |\n",
            "|  GPU   GI   CI        PID   Type   Process name                  GPU Memory |\n",
            "|        ID   ID                                                   Usage      |\n",
            "|=============================================================================|\n",
            "|  No running processes found                                                 |\n",
            "+-----------------------------------------------------------------------------+\n"
          ]
        }
      ]
    },
    {
      "cell_type": "code",
      "source": [
        "drive.mount('/content/drive')\n",
        "!wget --quiet --show-progress https://drive.google.com/drive/u/0/folders/1zKTXVP8ncsRRXgtFxA6MvL-lWirAoc6a"
      ],
      "metadata": {
        "id": "ERZ05k7asMvd",
        "colab": {
          "base_uri": "https://localhost:8080/"
        },
        "outputId": "798add92-39ef-47a2-c0d4-f9a1b3be8c90"
      },
      "execution_count": 4,
      "outputs": [
        {
          "output_type": "stream",
          "name": "stdout",
          "text": [
            "Mounted at /content/drive\n"
          ]
        }
      ]
    },
    {
      "cell_type": "markdown",
      "source": [
        "### Get Data:"
      ],
      "metadata": {
        "id": "uMS2WaxiWGPf"
      }
    },
    {
      "cell_type": "code",
      "source": [
        "# Set the number of partitions\n",
        "num_partitions = 20\n",
        "\n",
        "# Set the number of executors\n",
        "num_executors = 10\n",
        "\n",
        "# Set the executor memory\n",
        "executor_memory = \"4g\"\n",
        "\n",
        "# Configure Spark\n",
        "conf = (spark.SparkConf().setAppName(\"Apriori\")\n",
        "                 .set(\"spark.default.parallelism\", num_partitions)\n",
        "                 .set(\"spark.executor.instances\", num_executors)\n",
        "                 .set(\"spark.executor.memory\", executor_memory))\n",
        "sc = spark.SparkContext(conf=conf)"
      ],
      "metadata": {
        "id": "KWkPXMtCoV4D"
      },
      "execution_count": 5,
      "outputs": []
    },
    {
      "cell_type": "code",
      "source": [
        "spark = SparkSession.builder.master(\"local[*]\").appName(\"user_ct_test\").getOrCreate()\n",
        "sc = spark.sparkContext"
      ],
      "metadata": {
        "id": "yXJOe4yMsVIQ"
      },
      "execution_count": 6,
      "outputs": []
    },
    {
      "cell_type": "code",
      "source": [
        "!ls /content/drive/MyDrive/ColabDatasets/"
      ],
      "metadata": {
        "id": "VNjSPlEfscjB",
        "colab": {
          "base_uri": "https://localhost:8080/"
        },
        "outputId": "b20b86e6-703e-44d1-9ee4-0e85ef7520c1"
      },
      "execution_count": 7,
      "outputs": [
        {
          "output_type": "stream",
          "name": "stdout",
          "text": [
            "Italy_Earthquakes\t\t Retail_Store_Sales_Transactions.zip\n",
            "ItalyEarthquakes.zip\t\t rts22_test.csv\n",
            "Retail_Store_Sales_Transactions  user-ct-test-collection-01.txt.gz\n"
          ]
        }
      ]
    },
    {
      "cell_type": "code",
      "source": [
        "FILE_PATH = \"/content/drive/MyDrive/ColabDatasets/user-ct-test-collection-01.txt.gz\""
      ],
      "metadata": {
        "id": "qEkKu4RhsXmu"
      },
      "execution_count": 8,
      "outputs": []
    },
    {
      "cell_type": "code",
      "source": [
        "data = spark.sparkContext.textFile(FILE_PATH)\n",
        "type(data)"
      ],
      "metadata": {
        "id": "kELvLHqJsvFB",
        "colab": {
          "base_uri": "https://localhost:8080/"
        },
        "outputId": "39b220ed-dfaf-427e-ff2d-7bb648191f84"
      },
      "execution_count": 9,
      "outputs": [
        {
          "output_type": "execute_result",
          "data": {
            "text/plain": [
              "pyspark.rdd.RDD"
            ]
          },
          "metadata": {},
          "execution_count": 9
        }
      ]
    },
    {
      "cell_type": "code",
      "source": [
        "print(\"initial partition count:\"+str(data.getNumPartitions()))"
      ],
      "metadata": {
        "id": "hk5AWhYyszCx",
        "colab": {
          "base_uri": "https://localhost:8080/"
        },
        "outputId": "5b217398-789e-4fde-ff8d-641f63d47cb1"
      },
      "execution_count": 10,
      "outputs": [
        {
          "output_type": "stream",
          "name": "stdout",
          "text": [
            "initial partition count:1\n"
          ]
        }
      ]
    },
    {
      "cell_type": "code",
      "source": [
        "data.take(5)"
      ],
      "metadata": {
        "id": "6MW_GZU5s1Xp",
        "colab": {
          "base_uri": "https://localhost:8080/"
        },
        "outputId": "423fb40e-26e3-4dd9-b75e-ead1ca833474"
      },
      "execution_count": 11,
      "outputs": [
        {
          "output_type": "execute_result",
          "data": {
            "text/plain": [
              "['AnonID\\tQuery\\tQueryTime\\tItemRank\\tClickURL',\n",
              " '142\\trentdirect.com\\t2006-03-01 07:17:12\\t\\t',\n",
              " '142\\twww.prescriptionfortime.com\\t2006-03-12 12:31:06\\t\\t',\n",
              " '142\\tstaple.com\\t2006-03-17 21:19:29\\t\\t',\n",
              " '142\\tstaple.com\\t2006-03-17 21:19:45\\t\\t']"
            ]
          },
          "metadata": {},
          "execution_count": 11
        }
      ]
    },
    {
      "cell_type": "code",
      "source": [
        "data.count()"
      ],
      "metadata": {
        "id": "e1ly1ZVFs3fh",
        "colab": {
          "base_uri": "https://localhost:8080/"
        },
        "outputId": "1f2f13e3-7aaa-4821-eb1f-da251c2597ce"
      },
      "execution_count": 12,
      "outputs": [
        {
          "output_type": "execute_result",
          "data": {
            "text/plain": [
              "3558412"
            ]
          },
          "metadata": {},
          "execution_count": 12
        }
      ]
    },
    {
      "cell_type": "markdown",
      "source": [
        "***Remove the headers from the data and store them separately.***"
      ],
      "metadata": {
        "id": "fAw_6EgMqvlf"
      }
    },
    {
      "cell_type": "code",
      "source": [
        "header = data.first()\n",
        "data = data.filter(lambda row: row != header) # filter out the header"
      ],
      "metadata": {
        "id": "5lbU2eczs91R"
      },
      "execution_count": 13,
      "outputs": []
    },
    {
      "cell_type": "code",
      "source": [
        "data.take(5)"
      ],
      "metadata": {
        "id": "H4EkKD1FtOR5",
        "colab": {
          "base_uri": "https://localhost:8080/"
        },
        "outputId": "7fffb875-ee1f-4d86-b560-852ec3fbb80f"
      },
      "execution_count": 14,
      "outputs": [
        {
          "output_type": "execute_result",
          "data": {
            "text/plain": [
              "['142\\trentdirect.com\\t2006-03-01 07:17:12\\t\\t',\n",
              " '142\\twww.prescriptionfortime.com\\t2006-03-12 12:31:06\\t\\t',\n",
              " '142\\tstaple.com\\t2006-03-17 21:19:29\\t\\t',\n",
              " '142\\tstaple.com\\t2006-03-17 21:19:45\\t\\t',\n",
              " '142\\twww.newyorklawyersite.com\\t2006-03-18 08:02:58\\t\\t']"
            ]
          },
          "metadata": {},
          "execution_count": 14
        }
      ]
    },
    {
      "cell_type": "code",
      "source": [
        "header.split('\\t')"
      ],
      "metadata": {
        "id": "CD2EnSEVtLu6",
        "colab": {
          "base_uri": "https://localhost:8080/"
        },
        "outputId": "22ee83c3-bc2d-4f77-d554-46684cbb62bc"
      },
      "execution_count": 15,
      "outputs": [
        {
          "output_type": "execute_result",
          "data": {
            "text/plain": [
              "['AnonID', 'Query', 'QueryTime', 'ItemRank', 'ClickURL']"
            ]
          },
          "metadata": {},
          "execution_count": 15
        }
      ]
    },
    {
      "cell_type": "markdown",
      "source": [
        "### Generic RDD parser implementation"
      ],
      "metadata": {
        "id": "Ylm_u2gzWUcH"
      }
    },
    {
      "cell_type": "markdown",
      "source": [
        "<ol>\n",
        "  <li>\n",
        "  The following class implements generic Pyspark parser. \n",
        "  The object of this parser gets the file path as input and creates RDD with specified delimiter.\n",
        "  </li>\n",
        "  <li>The method GetData select only specified columns from parsed object.</li>\n",
        "  <li>The method GetColumns return the column names as list of strings from parsed object.</li>\n",
        "</ol>"
      ],
      "metadata": {
        "id": "EMAbv8ZMrNJo"
      }
    },
    {
      "cell_type": "code",
      "source": [
        "from ast import Raise\n",
        "import os.path\n",
        "from os import path\n",
        "\n",
        "class GenericParser:\n",
        "  # dataset: <str> Full path to the dataset in Drive.\n",
        "\n",
        "  global col_list, header\n",
        "\n",
        "  def __init__(self, dataset):\n",
        "    if isinstance(dataset, str):\n",
        "       if path.exists(dataset)==True:\n",
        "         self.dataset=dataset\n",
        "       else:\n",
        "         raise Exception(\"The specified path does not exist!\")       \n",
        "    else: \n",
        "      raise Exception(\"<str> variable should be provided as dataset argument!\")\n",
        "\n",
        "  def GetColNames(self):\n",
        "     rdd_temp = spark.sparkContext.textFile(self.dataset)\n",
        "     header=rdd_temp.first()\n",
        "     col_list=header.split('\\t')\n",
        "     col_list=[el.upper() for el in col_list]\n",
        "     return col_list\n",
        "\n",
        "  # cols: <list>/<str> Column name/s to select from the data.\n",
        "  def GetData(self, cols):\n",
        "     rdd = spark.sparkContext.textFile(self.dataset) \n",
        "     if isinstance(cols,list)==True:          \n",
        "        col_list=self.GetColNames()\n",
        "        rdd = rdd.filter(lambda row: row != header)\n",
        "        for i in range(len(col_list)):\n",
        "            if col_list[i] not in [el.upper() for el in cols]:\n",
        "                break\n",
        "            else:\n",
        "                indexes=[]\n",
        "                for i in range(len(cols)):\n",
        "                    element = col_list.index(cols[i].upper())\n",
        "                    indexes.append(element)\n",
        "\n",
        "                return rdd.map(lambda r: r.split('\\t')).map(lambda r: [r[i] for i in indexes])\n",
        "\n",
        "     elif isinstance(cols,str):\n",
        "         col_list=self.GetColNames()\n",
        "         index = col_list.index(cols.upper())       \n",
        "         return rdd.map(lambda r: r.split('\\t')).map(lambda r: r[index]) \n"
      ],
      "metadata": {
        "id": "1K-mRTJIvzWc"
      },
      "execution_count": 16,
      "outputs": []
    },
    {
      "cell_type": "markdown",
      "source": [
        "### Extracting and cleaning user sessions"
      ],
      "metadata": {
        "id": "-22SZHlqWcOz"
      }
    },
    {
      "cell_type": "markdown",
      "source": [
        "In this part I will create User sessions.\n",
        "\n",
        "Each session is 10 min long. \n",
        "\n",
        "All the URl's visited by the user during a session\n",
        "are grouped into arrays of items.\n"
      ],
      "metadata": {
        "id": "x54-HzDef-vK"
      }
    },
    {
      "cell_type": "markdown",
      "source": [
        "![Screenshot - 21_01 002.png](data:image/png;base64,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)"
      ],
      "metadata": {
        "id": "GgtUCMUTfzfY"
      }
    },
    {
      "cell_type": "code",
      "source": [
        "RDD_Column = GenericParser(FILE_PATH).GetColNames()\n",
        "RDD_Column"
      ],
      "metadata": {
        "id": "pVc47woEuDnr",
        "colab": {
          "base_uri": "https://localhost:8080/"
        },
        "outputId": "2adea056-9b1b-40e1-f948-7138238147ef"
      },
      "execution_count": 17,
      "outputs": [
        {
          "output_type": "execute_result",
          "data": {
            "text/plain": [
              "['ANONID', 'QUERY', 'QUERYTIME', 'ITEMRANK', 'CLICKURL']"
            ]
          },
          "metadata": {},
          "execution_count": 17
        }
      ]
    },
    {
      "cell_type": "code",
      "source": [
        "df = GenericParser(FILE_PATH).GetData(RDD_Column).toDF(RDD_Column)\n",
        "type(df)"
      ],
      "metadata": {
        "id": "g3uitTVjvzT8",
        "colab": {
          "base_uri": "https://localhost:8080/"
        },
        "outputId": "7527f44a-9a99-4359-948d-c810c163a4f1"
      },
      "execution_count": 18,
      "outputs": [
        {
          "output_type": "execute_result",
          "data": {
            "text/plain": [
              "pyspark.sql.dataframe.DataFrame"
            ]
          },
          "metadata": {},
          "execution_count": 18
        }
      ]
    },
    {
      "cell_type": "code",
      "source": [
        "df.show(15)"
      ],
      "metadata": {
        "id": "PtZJZbu2v0G7",
        "colab": {
          "base_uri": "https://localhost:8080/"
        },
        "outputId": "d304b6d1-2a3e-4e70-b6cb-f22728dcd819"
      },
      "execution_count": 19,
      "outputs": [
        {
          "output_type": "stream",
          "name": "stdout",
          "text": [
            "+------+--------------------+-------------------+--------+--------------------+\n",
            "|ANONID|               QUERY|          QUERYTIME|ITEMRANK|            CLICKURL|\n",
            "+------+--------------------+-------------------+--------+--------------------+\n",
            "|   142|      rentdirect.com|2006-03-01 07:17:12|        |                    |\n",
            "|   142|www.prescriptionf...|2006-03-12 12:31:06|        |                    |\n",
            "|   142|          staple.com|2006-03-17 21:19:29|        |                    |\n",
            "|   142|          staple.com|2006-03-17 21:19:45|        |                    |\n",
            "|   142|www.newyorklawyer...|2006-03-18 08:02:58|        |                    |\n",
            "|   142|www.newyorklawyer...|2006-03-18 08:03:09|        |                    |\n",
            "|   142|     westchester.gov|2006-03-20 03:55:57|       1|http://www.westch...|\n",
            "|   142|       space.comhttp|2006-03-24 20:51:24|        |                    |\n",
            "|   142|                dfdf|2006-03-24 22:23:07|        |                    |\n",
            "|   142|                dfdf|2006-03-24 22:23:14|        |                    |\n",
            "|   142|         vaniqa.comh|2006-03-25 23:27:12|        |                    |\n",
            "|   142| www.collegeucla.edu|2006-04-03 21:12:14|        |                    |\n",
            "|   142|          www.elaorg|2006-04-03 21:25:20|        |                    |\n",
            "|   142|        207 ad2d 530|2006-04-08 01:31:04|        |                    |\n",
            "|   142|        207 ad2d 530|2006-04-08 01:31:14|       1|http://www.courts...|\n",
            "+------+--------------------+-------------------+--------+--------------------+\n",
            "only showing top 15 rows\n",
            "\n"
          ]
        }
      ]
    },
    {
      "cell_type": "code",
      "source": [
        "df_clean = df.filter(\"CLICKURL != ''\")\n",
        "df_clean.show(10)"
      ],
      "metadata": {
        "id": "m0kmFdYgRHTA",
        "colab": {
          "base_uri": "https://localhost:8080/"
        },
        "outputId": "80ff402f-edfa-43ab-c4c5-55a572885df2"
      },
      "execution_count": 20,
      "outputs": [
        {
          "output_type": "stream",
          "name": "stdout",
          "text": [
            "+------+--------------------+-------------------+--------+--------------------+\n",
            "|ANONID|               QUERY|          QUERYTIME|ITEMRANK|            CLICKURL|\n",
            "+------+--------------------+-------------------+--------+--------------------+\n",
            "|   142|     westchester.gov|2006-03-20 03:55:57|       1|http://www.westch...|\n",
            "|   142|        207 ad2d 530|2006-04-08 01:31:14|       1|http://www.courts...|\n",
            "|   142|            vera.org|2006-04-08 08:38:42|       1| http://www.vera.org|\n",
            "|   217|             lottery|2006-03-01 11:58:51|       1|http://www.calott...|\n",
            "|   217|             lottery|2006-03-01 11:58:51|       1|http://www.calott...|\n",
            "|   217|      ameriprise.com|2006-03-01 14:06:23|       1|http://www.amerip...|\n",
            "|   217|          mizuno.com|2006-03-07 22:41:17|       1|http://www.mizuno...|\n",
            "|   217|asiansexygoddess.com|2006-03-16 14:31:36|       1|http://www.asians...|\n",
            "|   217|bestasiancompany.com|2006-03-20 15:15:43|       1|http://www.bestas...|\n",
            "|   217|             lottery|2006-03-27 14:10:38|       1|http://www.calott...|\n",
            "+------+--------------------+-------------------+--------+--------------------+\n",
            "only showing top 10 rows\n",
            "\n"
          ]
        }
      ]
    },
    {
      "cell_type": "code",
      "source": [
        "df_clean = df_clean.withColumn(\"_QUERY_TIME_\",to_timestamp(\"QUERYTIME\"))\n",
        "df_clean.show(10)"
      ],
      "metadata": {
        "id": "hVWxk43VVRQV",
        "colab": {
          "base_uri": "https://localhost:8080/"
        },
        "outputId": "490e0905-a5e3-45b1-b3fe-16929445a2ae"
      },
      "execution_count": 21,
      "outputs": [
        {
          "output_type": "stream",
          "name": "stdout",
          "text": [
            "+------+--------------------+-------------------+--------+--------------------+-------------------+\n",
            "|ANONID|               QUERY|          QUERYTIME|ITEMRANK|            CLICKURL|       _QUERY_TIME_|\n",
            "+------+--------------------+-------------------+--------+--------------------+-------------------+\n",
            "|   142|     westchester.gov|2006-03-20 03:55:57|       1|http://www.westch...|2006-03-20 03:55:57|\n",
            "|   142|        207 ad2d 530|2006-04-08 01:31:14|       1|http://www.courts...|2006-04-08 01:31:14|\n",
            "|   142|            vera.org|2006-04-08 08:38:42|       1| http://www.vera.org|2006-04-08 08:38:42|\n",
            "|   217|             lottery|2006-03-01 11:58:51|       1|http://www.calott...|2006-03-01 11:58:51|\n",
            "|   217|             lottery|2006-03-01 11:58:51|       1|http://www.calott...|2006-03-01 11:58:51|\n",
            "|   217|      ameriprise.com|2006-03-01 14:06:23|       1|http://www.amerip...|2006-03-01 14:06:23|\n",
            "|   217|          mizuno.com|2006-03-07 22:41:17|       1|http://www.mizuno...|2006-03-07 22:41:17|\n",
            "|   217|asiansexygoddess.com|2006-03-16 14:31:36|       1|http://www.asians...|2006-03-16 14:31:36|\n",
            "|   217|bestasiancompany.com|2006-03-20 15:15:43|       1|http://www.bestas...|2006-03-20 15:15:43|\n",
            "|   217|             lottery|2006-03-27 14:10:38|       1|http://www.calott...|2006-03-27 14:10:38|\n",
            "+------+--------------------+-------------------+--------+--------------------+-------------------+\n",
            "only showing top 10 rows\n",
            "\n"
          ]
        }
      ]
    },
    {
      "cell_type": "code",
      "source": [
        "df_clean.printSchema()"
      ],
      "metadata": {
        "id": "XNxZOmwuVd8n",
        "colab": {
          "base_uri": "https://localhost:8080/"
        },
        "outputId": "6fdc921b-74fa-46e1-b0d8-25bf3f7f8816"
      },
      "execution_count": 22,
      "outputs": [
        {
          "output_type": "stream",
          "name": "stdout",
          "text": [
            "root\n",
            " |-- ANONID: string (nullable = true)\n",
            " |-- QUERY: string (nullable = true)\n",
            " |-- QUERYTIME: string (nullable = true)\n",
            " |-- ITEMRANK: string (nullable = true)\n",
            " |-- CLICKURL: string (nullable = true)\n",
            " |-- _QUERY_TIME_: timestamp (nullable = true)\n",
            "\n"
          ]
        }
      ]
    },
    {
      "cell_type": "code",
      "source": [
        "df_clean.count()"
      ],
      "metadata": {
        "id": "pBABR_LqSMc1",
        "colab": {
          "base_uri": "https://localhost:8080/"
        },
        "outputId": "d53a90b8-0b0c-4950-98c5-d940035b9396"
      },
      "execution_count": 23,
      "outputs": [
        {
          "output_type": "execute_result",
          "data": {
            "text/plain": [
              "1890568"
            ]
          },
          "metadata": {},
          "execution_count": 23
        }
      ]
    },
    {
      "cell_type": "code",
      "source": [
        "df_grouped = df_clean.groupBy(\"ANONID\", window(\"_QUERY_TIME_\", \"10 minutes\")).count()\n",
        "df_grouped.show(5)"
      ],
      "metadata": {
        "id": "xDER3XqHPCxr",
        "colab": {
          "base_uri": "https://localhost:8080/"
        },
        "outputId": "60b29a8f-95d1-4e5c-be06-eb316dceb8c8"
      },
      "execution_count": 24,
      "outputs": [
        {
          "output_type": "stream",
          "name": "stdout",
          "text": [
            "+------+--------------------+-----+\n",
            "|ANONID|              window|count|\n",
            "+------+--------------------+-----+\n",
            "|  2722|{2006-03-23 11:50...|    1|\n",
            "|  2722|{2006-04-06 07:10...|    1|\n",
            "|  2722|{2006-05-14 22:50...|    2|\n",
            "|  2722|{2006-05-25 00:10...|    1|\n",
            "|  4781|{2006-03-10 12:00...|    1|\n",
            "+------+--------------------+-----+\n",
            "only showing top 5 rows\n",
            "\n"
          ]
        }
      ]
    },
    {
      "cell_type": "code",
      "source": [
        "df_grouped.printSchema()"
      ],
      "metadata": {
        "id": "kP9jv8yBPyvh",
        "colab": {
          "base_uri": "https://localhost:8080/"
        },
        "outputId": "0e425db9-0881-48b5-d74a-4480daf1dfc2"
      },
      "execution_count": 25,
      "outputs": [
        {
          "output_type": "stream",
          "name": "stdout",
          "text": [
            "root\n",
            " |-- ANONID: string (nullable = true)\n",
            " |-- window: struct (nullable = false)\n",
            " |    |-- start: timestamp (nullable = true)\n",
            " |    |-- end: timestamp (nullable = true)\n",
            " |-- count: long (nullable = false)\n",
            "\n"
          ]
        }
      ]
    },
    {
      "cell_type": "code",
      "source": [
        "df_grouped.count()"
      ],
      "metadata": {
        "id": "ApkG4MlZQIEE",
        "colab": {
          "base_uri": "https://localhost:8080/"
        },
        "outputId": "f105e2b0-af05-444c-f731-641aabe97347"
      },
      "execution_count": 26,
      "outputs": [
        {
          "output_type": "execute_result",
          "data": {
            "text/plain": [
              "976288"
            ]
          },
          "metadata": {},
          "execution_count": 26
        }
      ]
    },
    {
      "cell_type": "code",
      "source": [
        "df_clean.printSchema()"
      ],
      "metadata": {
        "id": "6BlMM-gC1XJM",
        "colab": {
          "base_uri": "https://localhost:8080/"
        },
        "outputId": "60886dc4-dbc7-410f-ecad-7a97d761d42b"
      },
      "execution_count": 27,
      "outputs": [
        {
          "output_type": "stream",
          "name": "stdout",
          "text": [
            "root\n",
            " |-- ANONID: string (nullable = true)\n",
            " |-- QUERY: string (nullable = true)\n",
            " |-- QUERYTIME: string (nullable = true)\n",
            " |-- ITEMRANK: string (nullable = true)\n",
            " |-- CLICKURL: string (nullable = true)\n",
            " |-- _QUERY_TIME_: timestamp (nullable = true)\n",
            "\n"
          ]
        }
      ]
    },
    {
      "cell_type": "code",
      "source": [
        "df_clean.createOrReplaceTempView(\"df_clean\")\n",
        "df_grouped.createOrReplaceTempView(\"df_grouped\")"
      ],
      "metadata": {
        "id": "BceFtpFUXwvH"
      },
      "execution_count": 28,
      "outputs": []
    },
    {
      "cell_type": "code",
      "source": [
        "spark.sql('select * from df_clean').show(10)                                     "
      ],
      "metadata": {
        "id": "3MYbf7mWVG8m",
        "colab": {
          "base_uri": "https://localhost:8080/"
        },
        "outputId": "d8316ab7-7820-478b-e181-349d4f4c669f"
      },
      "execution_count": 29,
      "outputs": [
        {
          "output_type": "stream",
          "name": "stdout",
          "text": [
            "+------+--------------------+-------------------+--------+--------------------+-------------------+\n",
            "|ANONID|               QUERY|          QUERYTIME|ITEMRANK|            CLICKURL|       _QUERY_TIME_|\n",
            "+------+--------------------+-------------------+--------+--------------------+-------------------+\n",
            "|   142|     westchester.gov|2006-03-20 03:55:57|       1|http://www.westch...|2006-03-20 03:55:57|\n",
            "|   142|        207 ad2d 530|2006-04-08 01:31:14|       1|http://www.courts...|2006-04-08 01:31:14|\n",
            "|   142|            vera.org|2006-04-08 08:38:42|       1| http://www.vera.org|2006-04-08 08:38:42|\n",
            "|   217|             lottery|2006-03-01 11:58:51|       1|http://www.calott...|2006-03-01 11:58:51|\n",
            "|   217|             lottery|2006-03-01 11:58:51|       1|http://www.calott...|2006-03-01 11:58:51|\n",
            "|   217|      ameriprise.com|2006-03-01 14:06:23|       1|http://www.amerip...|2006-03-01 14:06:23|\n",
            "|   217|          mizuno.com|2006-03-07 22:41:17|       1|http://www.mizuno...|2006-03-07 22:41:17|\n",
            "|   217|asiansexygoddess.com|2006-03-16 14:31:36|       1|http://www.asians...|2006-03-16 14:31:36|\n",
            "|   217|bestasiancompany.com|2006-03-20 15:15:43|       1|http://www.bestas...|2006-03-20 15:15:43|\n",
            "|   217|             lottery|2006-03-27 14:10:38|       1|http://www.calott...|2006-03-27 14:10:38|\n",
            "+------+--------------------+-------------------+--------+--------------------+-------------------+\n",
            "only showing top 10 rows\n",
            "\n"
          ]
        }
      ]
    },
    {
      "cell_type": "code",
      "source": [
        "spark.sql('select * from df_grouped').show(10)"
      ],
      "metadata": {
        "id": "CVjVy5bdYbrM",
        "colab": {
          "base_uri": "https://localhost:8080/"
        },
        "outputId": "45a9a392-395b-4545-9ea9-621193c3ecf6"
      },
      "execution_count": 30,
      "outputs": [
        {
          "output_type": "stream",
          "name": "stdout",
          "text": [
            "+------+--------------------+-----+\n",
            "|ANONID|              window|count|\n",
            "+------+--------------------+-----+\n",
            "|  2722|{2006-03-23 11:50...|    1|\n",
            "|  2722|{2006-04-06 07:10...|    1|\n",
            "|  2722|{2006-05-14 22:50...|    2|\n",
            "|  2722|{2006-05-25 00:10...|    1|\n",
            "|  4781|{2006-03-10 12:00...|    1|\n",
            "|  4781|{2006-04-15 09:50...|    2|\n",
            "|  4781|{2006-05-09 16:30...|    3|\n",
            "|  6497|{2006-04-06 01:50...|    1|\n",
            "|  7005|{2006-04-19 11:10...|    1|\n",
            "|  8400|{2006-03-11 14:40...|    2|\n",
            "+------+--------------------+-----+\n",
            "only showing top 10 rows\n",
            "\n"
          ]
        }
      ]
    },
    {
      "cell_type": "code",
      "source": [
        "df_joined = df_clean.join(df_grouped,((df_clean.ANONID == df_grouped.ANONID) & (df_clean._QUERY_TIME_.between(df_grouped.window.start,df_grouped.window.end))),'left_outer').drop(df_grouped.ANONID)\n",
        "df_joined.show(10)"
      ],
      "metadata": {
        "id": "aczsuO_Fb5w2",
        "colab": {
          "base_uri": "https://localhost:8080/"
        },
        "outputId": "8e2f046b-285d-4e41-bacf-a1f75acd5227"
      },
      "execution_count": 31,
      "outputs": [
        {
          "output_type": "stream",
          "name": "stdout",
          "text": [
            "+--------------------+-------------------+--------+--------------------+-------------------+------+--------------------+-----+\n",
            "|               QUERY|          QUERYTIME|ITEMRANK|            CLICKURL|       _QUERY_TIME_|ANONID|              window|count|\n",
            "+--------------------+-------------------+--------+--------------------+-------------------+------+--------------------+-----+\n",
            "|             lottery|2006-03-01 11:58:51|       1|http://www.calott...|2006-03-01 11:58:51|   217|{2006-03-01 11:50...|    2|\n",
            "|             lottery|2006-03-01 11:58:51|       1|http://www.calott...|2006-03-01 11:58:51|   217|{2006-03-01 11:50...|    2|\n",
            "|      ameriprise.com|2006-03-01 14:06:23|       1|http://www.amerip...|2006-03-01 14:06:23|   217|{2006-03-01 14:00...|    1|\n",
            "|          mizuno.com|2006-03-07 22:41:17|       1|http://www.mizuno...|2006-03-07 22:41:17|   217|{2006-03-07 22:40...|    1|\n",
            "|asiansexygoddess.com|2006-03-16 14:31:36|       1|http://www.asians...|2006-03-16 14:31:36|   217|{2006-03-16 14:30...|    1|\n",
            "|bestasiancompany.com|2006-03-20 15:15:43|       1|http://www.bestas...|2006-03-20 15:15:43|   217|{2006-03-20 15:10...|    1|\n",
            "|             lottery|2006-03-27 14:10:38|       1|http://www.calott...|2006-03-27 14:10:38|   217|{2006-03-27 14:10...|    1|\n",
            "|             lottery|2006-03-27 16:34:59|       1|http://www.calott...|2006-03-27 16:34:59|   217|{2006-03-27 16:30...|    1|\n",
            "|     westchester.gov|2006-03-20 03:55:57|       1|http://www.westch...|2006-03-20 03:55:57|   142|{2006-03-20 03:50...|    1|\n",
            "|        207 ad2d 530|2006-04-08 01:31:14|       1|http://www.courts...|2006-04-08 01:31:14|   142|{2006-04-08 01:30...|    1|\n",
            "+--------------------+-------------------+--------+--------------------+-------------------+------+--------------------+-----+\n",
            "only showing top 10 rows\n",
            "\n"
          ]
        }
      ]
    },
    {
      "cell_type": "code",
      "source": [
        "W = df_joined.select(\"ANONID\", df_joined.window.start.cast(\"string\").alias(\"start\"),\n",
        "                               df_joined.window.end.cast(\"string\").alias(\"end\"),\n",
        "                               \"CLICKURL\" )\n",
        "\n",
        "W = W.select(\"ANONID\",concat(W.start, lit(\"  \"), W.end).alias(\"Interval\"),\"CLICKURL\")\n",
        "W = W.dropDuplicates(['ANONID', 'Interval', 'CLICKURL'])\n",
        "W.show(truncate=False)"
      ],
      "metadata": {
        "id": "HwEoAmJzpIco",
        "colab": {
          "base_uri": "https://localhost:8080/"
        },
        "outputId": "e16eb07f-5efa-43b1-82c0-ed800d7f91df"
      },
      "execution_count": 32,
      "outputs": [
        {
          "output_type": "stream",
          "name": "stdout",
          "text": [
            "+--------+----------------------------------------+-------------------------------------+\n",
            "|ANONID  |Interval                                |CLICKURL                             |\n",
            "+--------+----------------------------------------+-------------------------------------+\n",
            "|10086493|2006-04-15 14:20:00  2006-04-15 14:30:00|http://www.vivalasvegas.net          |\n",
            "|10092929|2006-05-20 14:30:00  2006-05-20 14:40:00|http://tulsa.citysearch.com          |\n",
            "|10118130|2006-03-22 18:00:00  2006-03-22 18:10:00|http://www.thebridalshop.com         |\n",
            "|10379069|2006-03-14 14:20:00  2006-03-14 14:30:00|http://www.canismajor.com            |\n",
            "|1040180 |2006-05-19 18:30:00  2006-05-19 18:40:00|http://www.therealblackwallstreet.com|\n",
            "|10476622|2006-05-05 17:40:00  2006-05-05 17:50:00|http://www.tastycrockpotrecipes.net  |\n",
            "|10493820|2006-05-05 10:40:00  2006-05-05 10:50:00|http://www.geocities.com             |\n",
            "|10587982|2006-04-24 20:50:00  2006-04-24 21:00:00|http://www.classicthemes.com         |\n",
            "|10665849|2006-04-09 14:40:00  2006-04-09 14:50:00|http://dictionary.reference.com      |\n",
            "|10665849|2006-04-09 14:40:00  2006-04-09 14:50:00|http://www.stuffedark.com            |\n",
            "|1075977 |2006-03-22 21:30:00  2006-03-22 21:40:00|http://www.low-carb-diet-recipes.com |\n",
            "|10760634|2006-04-12 19:00:00  2006-04-12 19:10:00|http://www.martinaia.com             |\n",
            "|10801266|2006-04-17 10:10:00  2006-04-17 10:20:00|http://www.jocogov.org               |\n",
            "|10932392|2006-03-14 09:00:00  2006-03-14 09:10:00|http://travel.yahoo.com              |\n",
            "|10932392|2006-04-05 12:10:00  2006-04-05 12:20:00|http://www.dbkaraoke.com             |\n",
            "|10932392|2006-05-08 11:50:00  2006-05-08 12:00:00|http://www.paradisefound.com         |\n",
            "|10966627|2006-05-24 11:30:00  2006-05-24 11:40:00|http://marriott.com                  |\n",
            "|1105729 |2006-03-26 08:20:00  2006-03-26 08:30:00|http://www.asstr.org                 |\n",
            "|11094997|2006-05-09 01:40:00  2006-05-09 01:50:00|http://www.suncountry.com            |\n",
            "|11162709|2006-03-15 16:20:00  2006-03-15 16:30:00|http://www.weightlossforall.com      |\n",
            "+--------+----------------------------------------+-------------------------------------+\n",
            "only showing top 20 rows\n",
            "\n"
          ]
        }
      ]
    },
    {
      "cell_type": "code",
      "source": [
        "W.count()"
      ],
      "metadata": {
        "id": "xh8jVopCz6dm",
        "colab": {
          "base_uri": "https://localhost:8080/"
        },
        "outputId": "668c7bb7-6f61-4320-c1e1-de33f043601a"
      },
      "execution_count": 33,
      "outputs": [
        {
          "output_type": "execute_result",
          "data": {
            "text/plain": [
              "1673888"
            ]
          },
          "metadata": {},
          "execution_count": 33
        }
      ]
    },
    {
      "cell_type": "code",
      "source": [
        "# Random Sample 5% of a data, in order to make the calculations easier\n",
        "W = W.repartition(1000)\n",
        "W = W.sample(0.05)"
      ],
      "metadata": {
        "id": "cePcdM1Vn1CA"
      },
      "execution_count": 34,
      "outputs": []
    },
    {
      "cell_type": "code",
      "source": [
        "W.count()"
      ],
      "metadata": {
        "id": "v5v54iOpn72o",
        "colab": {
          "base_uri": "https://localhost:8080/"
        },
        "outputId": "9948f186-a175-46ed-b8e1-28a0cbbde985"
      },
      "execution_count": 35,
      "outputs": [
        {
          "output_type": "execute_result",
          "data": {
            "text/plain": [
              "83714"
            ]
          },
          "metadata": {},
          "execution_count": 35
        }
      ]
    },
    {
      "cell_type": "code",
      "source": [
        "grouped_sessions = W.groupBy('ANONID','Interval').agg(collect_list('CLICKURL').alias('items'))\n",
        "grouped_sessions.show(5)"
      ],
      "metadata": {
        "id": "e3_zI8CUxfja",
        "colab": {
          "base_uri": "https://localhost:8080/"
        },
        "outputId": "512be95e-e406-4380-a5c4-402d36b26cf3"
      },
      "execution_count": 36,
      "outputs": [
        {
          "output_type": "stream",
          "name": "stdout",
          "text": [
            "+--------+--------------------+--------------------+\n",
            "|  ANONID|            Interval|               items|\n",
            "+--------+--------------------+--------------------+\n",
            "|10003003|2006-03-24 12:40:...|[http://www.funbe...|\n",
            "| 1000335|2006-05-06 14:20:...|[http://www.geapp...|\n",
            "|10006516|2006-05-30 12:20:...|[http://www.dogge...|\n",
            "|10006516|2006-05-31 12:50:...|[http://www.woodf...|\n",
            "| 1002092|2006-03-02 09:20:...|[http://www.chero...|\n",
            "+--------+--------------------+--------------------+\n",
            "only showing top 5 rows\n",
            "\n"
          ]
        }
      ]
    },
    {
      "cell_type": "code",
      "source": [
        "grouped_sessions = grouped_sessions.withColumn('array_size',size(col('items')))\n",
        "grouped_sessions.show(10)"
      ],
      "metadata": {
        "id": "37LTwCr-vvYw",
        "colab": {
          "base_uri": "https://localhost:8080/"
        },
        "outputId": "c9cc9458-a393-4433-bbc8-87c1b58d23a3"
      },
      "execution_count": 37,
      "outputs": [
        {
          "output_type": "stream",
          "name": "stdout",
          "text": [
            "+--------+--------------------+--------------------+----------+\n",
            "|  ANONID|            Interval|               items|array_size|\n",
            "+--------+--------------------+--------------------+----------+\n",
            "|10003003|2006-03-24 12:40:...|[http://www.funbe...|         1|\n",
            "| 1000335|2006-05-06 14:20:...|[http://www.geapp...|         1|\n",
            "|10006516|2006-05-30 12:20:...|[http://www.dogge...|         1|\n",
            "|10006516|2006-05-31 12:50:...|[http://www.woodf...|         1|\n",
            "| 1002092|2006-03-02 09:20:...|[http://www.chero...|         1|\n",
            "| 1002092|2006-03-23 16:00:...|[http://www.2mcct...|         1|\n",
            "|  100218|2006-03-19 18:10:...|[http://www.maine...|         1|\n",
            "| 1002425|2006-03-03 21:20:...|[http://www.usna6...|         1|\n",
            "|10032487|2006-04-16 15:50:...|[http://www.smpla...|         1|\n",
            "|10041567|2006-05-09 22:00:...|[http://www.autom...|         1|\n",
            "+--------+--------------------+--------------------+----------+\n",
            "only showing top 10 rows\n",
            "\n"
          ]
        }
      ]
    },
    {
      "cell_type": "code",
      "source": [
        "grouped_sessions = grouped_sessions.select(concat(grouped_sessions.ANONID,lit(\":  \"),grouped_sessions.Interval).alias(\"Session\"),\"items\",'array_size')\n",
        "grouped_sessions.show(truncate=False)"
      ],
      "metadata": {
        "id": "tg4tSt7h2NEI",
        "colab": {
          "base_uri": "https://localhost:8080/"
        },
        "outputId": "dc9c8c52-3b40-4f99-d53b-7251ff17c547"
      },
      "execution_count": 38,
      "outputs": [
        {
          "output_type": "stream",
          "name": "stdout",
          "text": [
            "+---------------------------------------------------+---------------------------------------------------------------------------------------+----------+\n",
            "|Session                                            |items                                                                                  |array_size|\n",
            "+---------------------------------------------------+---------------------------------------------------------------------------------------+----------+\n",
            "|10003003:  2006-03-24 12:40:00  2006-03-24 12:50:00|[http://www.funbeaches.com]                                                            |1         |\n",
            "|1000335:  2006-05-06 14:20:00  2006-05-06 14:30:00 |[http://www.geappliances.com]                                                          |1         |\n",
            "|10006516:  2006-05-30 12:20:00  2006-05-30 12:30:00|[http://www.doggear.net]                                                               |1         |\n",
            "|10006516:  2006-05-31 12:50:00  2006-05-31 13:00:00|[http://www.woodfinder.com]                                                            |1         |\n",
            "|1002092:  2006-03-02 09:20:00  2006-03-02 09:30:00 |[http://www.cherokeega.com]                                                            |1         |\n",
            "|1002092:  2006-03-23 16:00:00  2006-03-23 16:10:00 |[http://www.2mcctv.com]                                                                |1         |\n",
            "|100218:  2006-03-19 18:10:00  2006-03-19 18:20:00  |[http://www.maineaccounting.com]                                                       |1         |\n",
            "|1002425:  2006-03-03 21:20:00  2006-03-03 21:30:00 |[http://www.usna66.org]                                                                |1         |\n",
            "|10032487:  2006-04-16 15:50:00  2006-04-16 16:00:00|[http://www.smplanet.com]                                                              |1         |\n",
            "|10041567:  2006-05-09 22:00:00  2006-05-09 22:10:00|[http://www.automotive.com]                                                            |1         |\n",
            "|1004776:  2006-03-22 16:10:00  2006-03-22 16:20:00 |[http://www.pussy.org]                                                                 |1         |\n",
            "|1004776:  2006-05-18 19:00:00  2006-05-18 19:10:00 |[http://www.freshteenass.com]                                                          |1         |\n",
            "|10055381:  2006-03-06 21:20:00  2006-03-06 21:30:00|[http://www.nationalgrocers.org]                                                       |1         |\n",
            "|1005803:  2006-03-03 01:00:00  2006-03-03 01:10:00 |[http://www.surpluscomputers.com]                                                      |1         |\n",
            "|1005803:  2006-03-03 03:40:00  2006-03-03 03:50:00 |[http://www.tdh.state.tx.us]                                                           |1         |\n",
            "|1006089:  2006-04-30 14:00:00  2006-04-30 14:10:00 |[http://bombshock.com]                                                                 |1         |\n",
            "|10061224:  2006-04-20 15:10:00  2006-04-20 15:20:00|[http://www.google.com]                                                                |1         |\n",
            "|100623:  2006-05-03 21:40:00  2006-05-03 21:50:00  |[http://www.poetrymagazines.org.uk, http://www.ctainc.com, http://rainbowsendpress.com]|3         |\n",
            "|10063599:  2006-03-14 17:30:00  2006-03-14 17:40:00|[http://www.rasheedrichmond.com]                                                       |1         |\n",
            "|10064552:  2006-03-07 18:10:00  2006-03-07 18:20:00|[http://wvvw.ftphost.net]                                                              |1         |\n",
            "+---------------------------------------------------+---------------------------------------------------------------------------------------+----------+\n",
            "only showing top 20 rows\n",
            "\n"
          ]
        }
      ]
    },
    {
      "cell_type": "code",
      "source": [
        "#Check partitions\n",
        "print(\"partition count before:\"+str(grouped_sessions.rdd.getNumPartitions()))\n",
        "grouped_sessions = grouped_sessions.repartition(1000)\n",
        "print(\"partition count after:\"+str(grouped_sessions.rdd.getNumPartitions()))"
      ],
      "metadata": {
        "id": "rX6ziuO0cwG1",
        "colab": {
          "base_uri": "https://localhost:8080/"
        },
        "outputId": "7f810e90-cb87-4d49-a12c-633f96120ebf"
      },
      "execution_count": 39,
      "outputs": [
        {
          "output_type": "stream",
          "name": "stdout",
          "text": [
            "partition count before:11\n",
            "partition count after:1000\n"
          ]
        }
      ]
    },
    {
      "cell_type": "code",
      "source": [
        "grouped_sessions2 = grouped_sessions.orderBy(col('array_size').desc())\n",
        "grouped_sessions2.show()"
      ],
      "metadata": {
        "id": "q9X9EuvE56-p",
        "colab": {
          "base_uri": "https://localhost:8080/"
        },
        "outputId": "42db7cf1-c646-422c-fea2-3af84e7412f9"
      },
      "execution_count": 40,
      "outputs": [
        {
          "output_type": "stream",
          "name": "stdout",
          "text": [
            "+--------------------+--------------------+----------+\n",
            "|             Session|               items|array_size|\n",
            "+--------------------+--------------------+----------+\n",
            "|231996:  2006-05-...|[http://web2.acbl...|         4|\n",
            "|2209786:  2006-04...|[http://smokinjoe...|         4|\n",
            "|2640513:  2006-03...|[http://crunch.co...|         4|\n",
            "|3571966:  2006-03...|[http://www.blog....|         4|\n",
            "|5469375:  2006-03...|[http://xt71sexto...|         4|\n",
            "|6057762:  2006-05...|[http://en.wikipe...|         4|\n",
            "|12416292:  2006-0...|[http://www.aquad...|         4|\n",
            "|576123:  2006-03-...|[http://www.theor...|         4|\n",
            "|9894316:  2006-05...|[http://www.drago...|         4|\n",
            "|3241737:  2006-04...|[http://people.ha...|         4|\n",
            "|2814361:  2006-03...|[http://www.vh1.c...|         4|\n",
            "|2745361:  2006-05...|[http://www.latex...|         4|\n",
            "|8300133:  2006-03...|[http://www.eye.n...|         4|\n",
            "|3620882:  2006-03...|[http://www.ltsa....|         4|\n",
            "|2325679:  2006-03...|[http://www.cervi...|         4|\n",
            "|1544433:  2006-04...|[http://www.nfl.c...|         4|\n",
            "|7672989:  2006-03...|[http://beauty.ab...|         4|\n",
            "|1104295:  2006-05...|[http://www.rcss....|         4|\n",
            "|1762269:  2006-04...|[http://www.codna...|         3|\n",
            "|12005825:  2006-0...|[http://www.nj.co...|         3|\n",
            "+--------------------+--------------------+----------+\n",
            "only showing top 20 rows\n",
            "\n"
          ]
        }
      ]
    },
    {
      "cell_type": "markdown",
      "source": [
        "### Association rule mining"
      ],
      "metadata": {
        "id": "PkZSXVckJq3A"
      }
    },
    {
      "cell_type": "markdown",
      "source": [
        "![Screenshot - 22_01.png](data:image/png;base64,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)"
      ],
      "metadata": {
        "id": "0nalPU03rJrg"
      }
    },
    {
      "cell_type": "code",
      "source": [
        "def create_possible_combinations(all_items, k):\n",
        "    # This functions gets a list of items and k, and returns all possible k-item combinations.\n",
        "    # all_items --> <list>\n",
        "    # k         --> <int>\n",
        "    res_tmp = set([])\n",
        "    for subset in itertools.combinations(all_items, k):       \n",
        "       res_tmp.add((subset))\n",
        "\n",
        "    res_lst = list(res_tmp)\n",
        "    result = [list(res_lst[i]) for i in range(len(res_lst))]\n",
        "\n",
        "    return result\n",
        "\n",
        "\n",
        "def build_support(sessions_data, items, min_support, max_support):\n",
        "\n",
        "    # sessions_data --> <DataFrame> Name of dataset contain sessions\n",
        "    # items         --> <ArrayType(StringType())> Column name that contain items\n",
        "    # min_support   --> <float> between 0 and 1\n",
        "    # max_support   --> <float> between 0 and 1  \n",
        "\n",
        "    # Sort item set\n",
        "    data = sessions_data.select(items,sort_array(items,asc=True).alias('array'))\n",
        "\n",
        "    # Create F1 + Filter by min support:\n",
        "    F1 = (data.withColumn(\"explode\", F.explode(\"array\"))\n",
        "          .groupBy(\"explode\")\n",
        "          .count()\n",
        "          .orderBy(F.desc(\"count\"))).filter(col('count')>=min_support).filter(col('count')<=max_support)\n",
        "\n",
        "    # Create all possible item combinations\n",
        "    lst = [str(i.explode) for i in F1.select(\"explode\").collect()]\n",
        "\n",
        "\n",
        "    # Create an empty DataFrame\n",
        "    emp_RDD = spark.sparkContext.emptyRDD()\n",
        "    columns1 = StructType([StructField('Item', ArrayType(StringType()), False),\n",
        "                          StructField('Support', LongType(), False)])\n",
        "    Support = spark.createDataFrame(data=emp_RDD,\n",
        "                                            schema=columns1)\n",
        "    \n",
        "    Support = Support.repartition(1000)\n",
        "    sessions_data = sessions_data.repartition(5000)\n",
        "\n",
        "\n",
        "    # # Create Support for 2 and 3 itemsets\n",
        "    for k in range(2,4):\n",
        "        combinations = create_possible_combinations(lst,k)\n",
        "        for j in range(len(combinations)):\n",
        "            # print(combinations[j])\n",
        "            row = sorted(combinations[j])  \n",
        "            # print(row)               \n",
        "            res = sessions_data.withColumn(\"NewColumn\", F.array([F.lit(x) for x in row]))         \n",
        "            res = res.select(items,'NewColumn', size(array_intersect(res.items, res.NewColumn)).alias('Intersect'))  #<-- res.items is not generic\n",
        "            res = res.filter(col('Intersect')>=k).count()\n",
        "            # # res.show()\n",
        "            columns = ['Item','Support']\n",
        "            newRow = spark.createDataFrame([(row, res)], columns)\n",
        "            Support = Support.union(newRow).filter(col('Support')>=min_support).filter(col('Support')<=max_support)\n",
        "\n",
        "\n",
        "    return Support\n",
        "    # return F1\n",
        "  \n",
        "\n",
        "\n",
        "def association_rule_mining(support_table, confidence):\n",
        "\n",
        "    cross = support_table.select('Item').withColumnRenamed('Item', 'Item1')\\\n",
        "          .crossJoin(support_table.select('Item').withColumnRenamed('Item', 'Item2'))\\\n",
        "          .filter(col('Item1')!=col('Item2'))\n",
        "    cross2 = cross.select('*', sort_array(array_union(col('Item1'),col('Item2'))).alias('X'))\n",
        "    cross3 = cross2.join(support_table, on=[cross2.X==support_table.Item], how = 'left').drop(col('Item')).withColumnRenamed('Support', 'Support(X)')\n",
        "    cross4 = cross3.join(support_table, on=[cross3.Item1==support_table.Item], how = 'left').drop(col('Item')).withColumnRenamed('Support', 'Support(Y)')\n",
        "    cross5 = cross4.filter(col('Support(X)').isNotNull() & col('Support(Y)').isNotNull())\n",
        "    cross6 = cross5.select('*', (col('Support(X)')/col('Support(Y)')).alias('Confidence')).orderBy(col('Confidence').desc())\n",
        "    cross7 = cross6.withColumn(\"rule1\",concat_ws(\",\",col(\"Item1\"))).withColumn(\"rule2\",concat_ws(\",\",col(\"Item2\")))\n",
        "    cross8 = cross7.select('*', concat(lit('{'), cross7.rule1, lit('} ==> {'), cross7.rule2, lit('}')).alias('Rule')).drop(col('rule1')).drop(col('rule2'))\n",
        "    cross9 = cross8.filter(col('confidence')>=confidence)\n",
        "\n",
        "    return cross9.select('Rule','Confidence')\n"
      ],
      "metadata": {
        "id": "-xrj_EncJyK2"
      },
      "execution_count": 58,
      "outputs": []
    },
    {
      "cell_type": "code",
      "source": [
        "# Support building\n",
        "support = build_support(grouped_sessions, 'items',40, 50)\n",
        "support.show()"
      ],
      "metadata": {
        "id": "wByUe9EwLh_g"
      },
      "execution_count": 64,
      "outputs": []
    },
    {
      "cell_type": "code",
      "source": [
        "# Rule mining\n",
        "rules = association_rule_mining(support, 0.0)\n",
        "rules.show()\n"
      ],
      "metadata": {
        "id": "6a-fcEzJlGfA"
      },
      "execution_count": 59,
      "outputs": []
    },
    {
      "cell_type": "code",
      "source": [],
      "metadata": {
        "id": "xQTu_Q7GiK5K"
      },
      "execution_count": null,
      "outputs": []
    }
  ]
}