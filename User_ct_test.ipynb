{
  "nbformat": 4,
  "nbformat_minor": 0,
  "metadata": {
    "colab": {
      "provenance": [],
      "collapsed_sections": [
        "uMS2WaxiWGPf",
        "Ylm_u2gzWUcH"
      ],
      "authorship_tag": "ABX9TyMsAZNmZaNhGCIh4Ak6wo3f",
      "include_colab_link": true
    },
    "kernelspec": {
      "name": "python3",
      "display_name": "Python 3"
    },
    "language_info": {
      "name": "python"
    }
  },
  "cells": [
    {
      "cell_type": "markdown",
      "metadata": {
        "id": "view-in-github",
        "colab_type": "text"
      },
      "source": [
        "<a href=\"https://colab.research.google.com/github/DimaFrank/Association_Rule_Learning/blob/logs/User_ct_test.ipynb\" target=\"_parent\"><img src=\"https://colab.research.google.com/assets/colab-badge.svg\" alt=\"Open In Colab\"/></a>"
      ]
    },
    {
      "cell_type": "code",
      "execution_count": 85,
      "metadata": {
        "colab": {
          "base_uri": "https://localhost:8080/"
        },
        "id": "bes6UXEGsD_p",
        "outputId": "c8efe623-b2c9-4d4f-b55a-dc6159392ff1"
      },
      "outputs": [
        {
          "output_type": "stream",
          "name": "stdout",
          "text": [
            "Looking in indexes: https://pypi.org/simple, https://us-python.pkg.dev/colab-wheels/public/simple/\n",
            "Requirement already satisfied: pyspark in /usr/local/lib/python3.8/dist-packages (3.3.1)\n",
            "Requirement already satisfied: py4j==0.10.9.5 in /usr/local/lib/python3.8/dist-packages (from pyspark) (0.10.9.5)\n"
          ]
        }
      ],
      "source": [
        "!pip install pyspark"
      ]
    },
    {
      "cell_type": "code",
      "source": [
        "import pyspark as spark\n",
        "from google.colab import drive\n",
        "\n",
        "from pyspark.sql import SparkSession\n",
        "from pyspark.sql.types import IntegerType\n",
        "from pyspark.sql.functions import array, col, concat_ws, udf, array_remove, size, window, to_timestamp, date_format, concat, lit"
      ],
      "metadata": {
        "id": "rfclGSnAsJla"
      },
      "execution_count": 218,
      "outputs": []
    },
    {
      "cell_type": "code",
      "source": [
        "drive.mount('/content/drive')\n",
        "!wget --quiet --show-progress https://drive.google.com/drive/u/0/folders/1zKTXVP8ncsRRXgtFxA6MvL-lWirAoc6a"
      ],
      "metadata": {
        "colab": {
          "base_uri": "https://localhost:8080/"
        },
        "id": "ERZ05k7asMvd",
        "outputId": "9df8eeec-3ac1-4c20-cc0c-33feb6d0590f"
      },
      "execution_count": null,
      "outputs": [
        {
          "output_type": "stream",
          "name": "stdout",
          "text": [
            "Mounted at /content/drive\n"
          ]
        }
      ]
    },
    {
      "cell_type": "markdown",
      "source": [
        "### Get Data:"
      ],
      "metadata": {
        "id": "uMS2WaxiWGPf"
      }
    },
    {
      "cell_type": "code",
      "source": [
        "spark = SparkSession.builder.master(\"local[*]\").appName(\"user_ct_test\").getOrCreate()\n",
        "sc = spark.sparkContext"
      ],
      "metadata": {
        "id": "yXJOe4yMsVIQ"
      },
      "execution_count": 219,
      "outputs": []
    },
    {
      "cell_type": "code",
      "source": [
        "!ls /content/drive/MyDrive/ColabDatasets/"
      ],
      "metadata": {
        "colab": {
          "base_uri": "https://localhost:8080/"
        },
        "id": "VNjSPlEfscjB",
        "outputId": "b2cb5556-df4b-40f1-d69d-dc103a654cc0"
      },
      "execution_count": 103,
      "outputs": [
        {
          "output_type": "stream",
          "name": "stdout",
          "text": [
            "Italy_Earthquakes\t\t Retail_Store_Sales_Transactions.zip\n",
            "ItalyEarthquakes.zip\t\t rts22_test.csv\n",
            "Retail_Store_Sales_Transactions  user-ct-test-collection-01.txt.gz\n"
          ]
        }
      ]
    },
    {
      "cell_type": "code",
      "source": [
        "FILE_PATH = \"/content/drive/MyDrive/ColabDatasets/user-ct-test-collection-01.txt.gz\""
      ],
      "metadata": {
        "id": "qEkKu4RhsXmu"
      },
      "execution_count": 104,
      "outputs": []
    },
    {
      "cell_type": "code",
      "source": [
        "data = spark.sparkContext.textFile(FILE_PATH)\n",
        "type(data)"
      ],
      "metadata": {
        "colab": {
          "base_uri": "https://localhost:8080/"
        },
        "id": "kELvLHqJsvFB",
        "outputId": "bb0f958e-8158-4a59-97a5-dbf4efe54bfb"
      },
      "execution_count": 105,
      "outputs": [
        {
          "output_type": "execute_result",
          "data": {
            "text/plain": [
              "pyspark.rdd.RDD"
            ]
          },
          "metadata": {},
          "execution_count": 105
        }
      ]
    },
    {
      "cell_type": "code",
      "source": [
        "print(\"initial partition count:\"+str(data.getNumPartitions()))"
      ],
      "metadata": {
        "colab": {
          "base_uri": "https://localhost:8080/"
        },
        "id": "hk5AWhYyszCx",
        "outputId": "084358ba-7f39-4fb9-877d-a6950e565e28"
      },
      "execution_count": 106,
      "outputs": [
        {
          "output_type": "stream",
          "name": "stdout",
          "text": [
            "initial partition count:1\n"
          ]
        }
      ]
    },
    {
      "cell_type": "code",
      "source": [
        "data.take(5)"
      ],
      "metadata": {
        "colab": {
          "base_uri": "https://localhost:8080/"
        },
        "id": "6MW_GZU5s1Xp",
        "outputId": "216e2274-2da4-4dc1-c7ca-12ae79a8ac09"
      },
      "execution_count": 107,
      "outputs": [
        {
          "output_type": "execute_result",
          "data": {
            "text/plain": [
              "['AnonID\\tQuery\\tQueryTime\\tItemRank\\tClickURL',\n",
              " '142\\trentdirect.com\\t2006-03-01 07:17:12\\t\\t',\n",
              " '142\\twww.prescriptionfortime.com\\t2006-03-12 12:31:06\\t\\t',\n",
              " '142\\tstaple.com\\t2006-03-17 21:19:29\\t\\t',\n",
              " '142\\tstaple.com\\t2006-03-17 21:19:45\\t\\t']"
            ]
          },
          "metadata": {},
          "execution_count": 107
        }
      ]
    },
    {
      "cell_type": "code",
      "source": [
        "data.count()"
      ],
      "metadata": {
        "colab": {
          "base_uri": "https://localhost:8080/"
        },
        "id": "e1ly1ZVFs3fh",
        "outputId": "b9de01c1-5510-4e88-9361-ef17d33914be"
      },
      "execution_count": 108,
      "outputs": [
        {
          "output_type": "execute_result",
          "data": {
            "text/plain": [
              "3558412"
            ]
          },
          "metadata": {},
          "execution_count": 108
        }
      ]
    },
    {
      "cell_type": "code",
      "source": [
        "header = data.first()\n",
        "data = data.filter(lambda row: row != header) # filter out the header"
      ],
      "metadata": {
        "id": "5lbU2eczs91R"
      },
      "execution_count": 109,
      "outputs": []
    },
    {
      "cell_type": "code",
      "source": [
        "data.take(5)"
      ],
      "metadata": {
        "colab": {
          "base_uri": "https://localhost:8080/"
        },
        "id": "H4EkKD1FtOR5",
        "outputId": "5c6532a3-fa8b-4933-b341-f201c4ff24d4"
      },
      "execution_count": null,
      "outputs": [
        {
          "output_type": "execute_result",
          "data": {
            "text/plain": [
              "['142\\trentdirect.com\\t2006-03-01 07:17:12\\t\\t',\n",
              " '142\\twww.prescriptionfortime.com\\t2006-03-12 12:31:06\\t\\t',\n",
              " '142\\tstaple.com\\t2006-03-17 21:19:29\\t\\t',\n",
              " '142\\tstaple.com\\t2006-03-17 21:19:45\\t\\t',\n",
              " '142\\twww.newyorklawyersite.com\\t2006-03-18 08:02:58\\t\\t']"
            ]
          },
          "metadata": {},
          "execution_count": 65
        }
      ]
    },
    {
      "cell_type": "code",
      "source": [
        "header.split('\\t')"
      ],
      "metadata": {
        "colab": {
          "base_uri": "https://localhost:8080/"
        },
        "id": "CD2EnSEVtLu6",
        "outputId": "cf7259f3-0c32-4455-d9ad-1cb7d805cce5"
      },
      "execution_count": 110,
      "outputs": [
        {
          "output_type": "execute_result",
          "data": {
            "text/plain": [
              "['AnonID', 'Query', 'QueryTime', 'ItemRank', 'ClickURL']"
            ]
          },
          "metadata": {},
          "execution_count": 110
        }
      ]
    },
    {
      "cell_type": "markdown",
      "source": [
        "### Generic RDD parser implementation"
      ],
      "metadata": {
        "id": "Ylm_u2gzWUcH"
      }
    },
    {
      "cell_type": "code",
      "source": [
        "from ast import Raise\n",
        "import os.path\n",
        "from os import path\n",
        "\n",
        "class GenericParser:\n",
        "  # dataset: <str> Full path to the dataset in Drive.\n",
        "\n",
        "  global col_list, header\n",
        "\n",
        "  def __init__(self, dataset, dlm='\\t'):\n",
        "    if isinstance(dataset, str):\n",
        "       if path.exists(dataset)==True:\n",
        "         self.dataset=dataset\n",
        "         self.dlm=dlm\n",
        "       else:\n",
        "         raise Exception(\"The specified path does not exist!\")       \n",
        "    else: \n",
        "      raise Exception(\"<str> variable should be provided as dataset argument!\")\n",
        "\n",
        "  def GetColNames(self):\n",
        "     rdd_temp = spark.sparkContext.textFile(self.dataset)\n",
        "     header=rdd_temp.first()\n",
        "     col_list=header.split(self.dlm)\n",
        "     col_list=[el.upper() for el in col_list]\n",
        "     return col_list\n",
        "\n",
        "  # cols: <list>/<str> Column name/s to select from the data.\n",
        "  def GetData(self, cols):\n",
        "     rdd = spark.sparkContext.textFile(self.dataset) \n",
        "     if isinstance(cols,list)==True:          \n",
        "        col_list=self.GetColNames()\n",
        "        rdd = rdd.filter(lambda row: row != header)\n",
        "        for i in range(len(col_list)):\n",
        "            if col_list[i] not in [el.upper() for el in cols]:\n",
        "                break\n",
        "            else:\n",
        "                indexes=[]\n",
        "                for i in range(len(cols)):\n",
        "                    element = col_list.index(cols[i].upper())\n",
        "                    indexes.append(element)\n",
        "\n",
        "                return rdd.map(lambda r: r.split(self.dlm)).map(lambda r: [r[i] for i in indexes])\n",
        "\n",
        "     elif isinstance(cols,str):\n",
        "         col_list=self.GetColNames()\n",
        "         index = col_list.index(cols.upper())       \n",
        "         return rdd.map(lambda r: r.split(self.dlm)).map(lambda r: r[index]) \n"
      ],
      "metadata": {
        "id": "1K-mRTJIvzWc"
      },
      "execution_count": 131,
      "outputs": []
    },
    {
      "cell_type": "markdown",
      "source": [
        "### Extracting and cleaning user sessions"
      ],
      "metadata": {
        "id": "-22SZHlqWcOz"
      }
    },
    {
      "cell_type": "code",
      "source": [
        "RDD_Column = GenericParser(FILE_PATH).GetColNames()\n",
        "RDD_Column"
      ],
      "metadata": {
        "colab": {
          "base_uri": "https://localhost:8080/"
        },
        "id": "pVc47woEuDnr",
        "outputId": "4a4983ba-48e3-41db-9804-084dff9079c9"
      },
      "execution_count": 112,
      "outputs": [
        {
          "output_type": "execute_result",
          "data": {
            "text/plain": [
              "['ANONID', 'QUERY', 'QUERYTIME', 'ITEMRANK', 'CLICKURL']"
            ]
          },
          "metadata": {},
          "execution_count": 112
        }
      ]
    },
    {
      "cell_type": "code",
      "source": [
        "df = GenericParser(FILE_PATH).GetData(['ANONID', 'QUERY', 'QUERYTIME', 'ITEMRANK', 'CLICKURL']).toDF(RDD_Column)\n",
        "type(df)"
      ],
      "metadata": {
        "colab": {
          "base_uri": "https://localhost:8080/"
        },
        "id": "g3uitTVjvzT8",
        "outputId": "11990e2f-579e-4bd0-ee88-8666186d84e2"
      },
      "execution_count": 130,
      "outputs": [
        {
          "output_type": "execute_result",
          "data": {
            "text/plain": [
              "pyspark.sql.dataframe.DataFrame"
            ]
          },
          "metadata": {},
          "execution_count": 130
        }
      ]
    },
    {
      "cell_type": "code",
      "source": [
        "df.show(15)"
      ],
      "metadata": {
        "colab": {
          "base_uri": "https://localhost:8080/"
        },
        "id": "PtZJZbu2v0G7",
        "outputId": "7ca709d0-2250-4e9b-a252-d542120308e0"
      },
      "execution_count": 116,
      "outputs": [
        {
          "output_type": "stream",
          "name": "stdout",
          "text": [
            "+------+--------------------+-------------------+--------+--------------------+\n",
            "|ANONID|               QUERY|          QUERYTIME|ITEMRANK|            CLICKURL|\n",
            "+------+--------------------+-------------------+--------+--------------------+\n",
            "|   142|      rentdirect.com|2006-03-01 07:17:12|        |                    |\n",
            "|   142|www.prescriptionf...|2006-03-12 12:31:06|        |                    |\n",
            "|   142|          staple.com|2006-03-17 21:19:29|        |                    |\n",
            "|   142|          staple.com|2006-03-17 21:19:45|        |                    |\n",
            "|   142|www.newyorklawyer...|2006-03-18 08:02:58|        |                    |\n",
            "|   142|www.newyorklawyer...|2006-03-18 08:03:09|        |                    |\n",
            "|   142|     westchester.gov|2006-03-20 03:55:57|       1|http://www.westch...|\n",
            "|   142|       space.comhttp|2006-03-24 20:51:24|        |                    |\n",
            "|   142|                dfdf|2006-03-24 22:23:07|        |                    |\n",
            "|   142|                dfdf|2006-03-24 22:23:14|        |                    |\n",
            "|   142|         vaniqa.comh|2006-03-25 23:27:12|        |                    |\n",
            "|   142| www.collegeucla.edu|2006-04-03 21:12:14|        |                    |\n",
            "|   142|          www.elaorg|2006-04-03 21:25:20|        |                    |\n",
            "|   142|        207 ad2d 530|2006-04-08 01:31:04|        |                    |\n",
            "|   142|        207 ad2d 530|2006-04-08 01:31:14|       1|http://www.courts...|\n",
            "+------+--------------------+-------------------+--------+--------------------+\n",
            "only showing top 15 rows\n",
            "\n"
          ]
        }
      ]
    },
    {
      "cell_type": "code",
      "source": [
        "df_clean = df.filter(\"CLICKURL != ''\")\n",
        "df_clean.show(10)"
      ],
      "metadata": {
        "colab": {
          "base_uri": "https://localhost:8080/"
        },
        "id": "m0kmFdYgRHTA",
        "outputId": "89112da5-4323-413e-f929-20f193e22a12"
      },
      "execution_count": 117,
      "outputs": [
        {
          "output_type": "stream",
          "name": "stdout",
          "text": [
            "+------+--------------------+-------------------+--------+--------------------+\n",
            "|ANONID|               QUERY|          QUERYTIME|ITEMRANK|            CLICKURL|\n",
            "+------+--------------------+-------------------+--------+--------------------+\n",
            "|   142|     westchester.gov|2006-03-20 03:55:57|       1|http://www.westch...|\n",
            "|   142|        207 ad2d 530|2006-04-08 01:31:14|       1|http://www.courts...|\n",
            "|   142|            vera.org|2006-04-08 08:38:42|       1| http://www.vera.org|\n",
            "|   217|             lottery|2006-03-01 11:58:51|       1|http://www.calott...|\n",
            "|   217|             lottery|2006-03-01 11:58:51|       1|http://www.calott...|\n",
            "|   217|      ameriprise.com|2006-03-01 14:06:23|       1|http://www.amerip...|\n",
            "|   217|          mizuno.com|2006-03-07 22:41:17|       1|http://www.mizuno...|\n",
            "|   217|asiansexygoddess.com|2006-03-16 14:31:36|       1|http://www.asians...|\n",
            "|   217|bestasiancompany.com|2006-03-20 15:15:43|       1|http://www.bestas...|\n",
            "|   217|             lottery|2006-03-27 14:10:38|       1|http://www.calott...|\n",
            "+------+--------------------+-------------------+--------+--------------------+\n",
            "only showing top 10 rows\n",
            "\n"
          ]
        }
      ]
    },
    {
      "cell_type": "code",
      "source": [
        "df_clean = df_clean.withColumn(\"_QUERY_TIME_\",to_timestamp(\"QUERYTIME\"))\n",
        "df_clean.show(10)"
      ],
      "metadata": {
        "colab": {
          "base_uri": "https://localhost:8080/"
        },
        "id": "hVWxk43VVRQV",
        "outputId": "22f13b37-6734-4e42-a0bc-626b1802560a"
      },
      "execution_count": 128,
      "outputs": [
        {
          "output_type": "stream",
          "name": "stdout",
          "text": [
            "+------+--------------------+-------------------+--------+--------------------+-------------------+\n",
            "|ANONID|               QUERY|          QUERYTIME|ITEMRANK|            CLICKURL|       _QUERY_TIME_|\n",
            "+------+--------------------+-------------------+--------+--------------------+-------------------+\n",
            "|   142|     westchester.gov|2006-03-20 03:55:57|       1|http://www.westch...|2006-03-20 03:55:57|\n",
            "|   142|        207 ad2d 530|2006-04-08 01:31:14|       1|http://www.courts...|2006-04-08 01:31:14|\n",
            "|   142|            vera.org|2006-04-08 08:38:42|       1| http://www.vera.org|2006-04-08 08:38:42|\n",
            "|   217|             lottery|2006-03-01 11:58:51|       1|http://www.calott...|2006-03-01 11:58:51|\n",
            "|   217|             lottery|2006-03-01 11:58:51|       1|http://www.calott...|2006-03-01 11:58:51|\n",
            "|   217|      ameriprise.com|2006-03-01 14:06:23|       1|http://www.amerip...|2006-03-01 14:06:23|\n",
            "|   217|          mizuno.com|2006-03-07 22:41:17|       1|http://www.mizuno...|2006-03-07 22:41:17|\n",
            "|   217|asiansexygoddess.com|2006-03-16 14:31:36|       1|http://www.asians...|2006-03-16 14:31:36|\n",
            "|   217|bestasiancompany.com|2006-03-20 15:15:43|       1|http://www.bestas...|2006-03-20 15:15:43|\n",
            "|   217|             lottery|2006-03-27 14:10:38|       1|http://www.calott...|2006-03-27 14:10:38|\n",
            "+------+--------------------+-------------------+--------+--------------------+-------------------+\n",
            "only showing top 10 rows\n",
            "\n"
          ]
        }
      ]
    },
    {
      "cell_type": "code",
      "source": [
        "df_clean.printSchema()"
      ],
      "metadata": {
        "colab": {
          "base_uri": "https://localhost:8080/"
        },
        "id": "XNxZOmwuVd8n",
        "outputId": "0a8b538b-d277-4479-ee83-fe674dda6dcb"
      },
      "execution_count": 129,
      "outputs": [
        {
          "output_type": "stream",
          "name": "stdout",
          "text": [
            "root\n",
            " |-- ANONID: string (nullable = true)\n",
            " |-- QUERY: string (nullable = true)\n",
            " |-- QUERYTIME: string (nullable = true)\n",
            " |-- ITEMRANK: string (nullable = true)\n",
            " |-- CLICKURL: string (nullable = true)\n",
            " |-- _QUERY_TIME_: timestamp (nullable = true)\n",
            "\n"
          ]
        }
      ]
    },
    {
      "cell_type": "code",
      "source": [
        "df_clean.count()"
      ],
      "metadata": {
        "colab": {
          "base_uri": "https://localhost:8080/"
        },
        "id": "pBABR_LqSMc1",
        "outputId": "0fdd1ed2-eb5c-419d-a793-ed27f612d451"
      },
      "execution_count": 118,
      "outputs": [
        {
          "output_type": "execute_result",
          "data": {
            "text/plain": [
              "1890568"
            ]
          },
          "metadata": {},
          "execution_count": 118
        }
      ]
    },
    {
      "cell_type": "code",
      "source": [
        "df_grouped = df_clean.groupBy(\"ANONID\", window(\"QUERYTIME\", \"10 minutes\")).count()\n",
        "df_grouped.show(5)"
      ],
      "metadata": {
        "colab": {
          "base_uri": "https://localhost:8080/"
        },
        "id": "xDER3XqHPCxr",
        "outputId": "044bdfe3-e1ab-4c49-8992-48d80b50cd96"
      },
      "execution_count": 119,
      "outputs": [
        {
          "output_type": "stream",
          "name": "stdout",
          "text": [
            "+------+--------------------+-----+\n",
            "|ANONID|              window|count|\n",
            "+------+--------------------+-----+\n",
            "|  2722|{2006-03-23 11:50...|    1|\n",
            "|  2722|{2006-04-06 07:10...|    1|\n",
            "|  2722|{2006-05-14 22:50...|    2|\n",
            "|  2722|{2006-05-25 00:10...|    1|\n",
            "|  4781|{2006-03-10 12:00...|    1|\n",
            "+------+--------------------+-----+\n",
            "only showing top 5 rows\n",
            "\n"
          ]
        }
      ]
    },
    {
      "cell_type": "code",
      "source": [
        "df_grouped.printSchema()"
      ],
      "metadata": {
        "colab": {
          "base_uri": "https://localhost:8080/"
        },
        "id": "kP9jv8yBPyvh",
        "outputId": "4b2b934d-5744-44a9-8916-9e0b708bf611"
      },
      "execution_count": 120,
      "outputs": [
        {
          "output_type": "stream",
          "name": "stdout",
          "text": [
            "root\n",
            " |-- ANONID: string (nullable = true)\n",
            " |-- window: struct (nullable = false)\n",
            " |    |-- start: timestamp (nullable = true)\n",
            " |    |-- end: timestamp (nullable = true)\n",
            " |-- count: long (nullable = false)\n",
            "\n"
          ]
        }
      ]
    },
    {
      "cell_type": "code",
      "source": [
        "df_grouped.count()"
      ],
      "metadata": {
        "colab": {
          "base_uri": "https://localhost:8080/"
        },
        "id": "ApkG4MlZQIEE",
        "outputId": "e7b2141b-ac0f-4960-931e-0deb23cc1d1d"
      },
      "execution_count": 122,
      "outputs": [
        {
          "output_type": "execute_result",
          "data": {
            "text/plain": [
              "976288"
            ]
          },
          "metadata": {},
          "execution_count": 122
        }
      ]
    },
    {
      "cell_type": "code",
      "source": [
        "df_clean.printSchema()"
      ],
      "metadata": {
        "id": "6BlMM-gC1XJM",
        "colab": {
          "base_uri": "https://localhost:8080/"
        },
        "outputId": "b6577ae9-9522-409d-86be-ed277eb9b663"
      },
      "execution_count": 123,
      "outputs": [
        {
          "output_type": "stream",
          "name": "stdout",
          "text": [
            "root\n",
            " |-- ANONID: string (nullable = true)\n",
            " |-- QUERY: string (nullable = true)\n",
            " |-- QUERYTIME: string (nullable = true)\n",
            " |-- ITEMRANK: string (nullable = true)\n",
            " |-- CLICKURL: string (nullable = true)\n",
            "\n"
          ]
        }
      ]
    },
    {
      "cell_type": "code",
      "source": [
        "df_clean.createOrReplaceTempView(\"df_clean\")\n",
        "df_grouped.createOrReplaceTempView(\"df_grouped\")"
      ],
      "metadata": {
        "id": "BceFtpFUXwvH"
      },
      "execution_count": 132,
      "outputs": []
    },
    {
      "cell_type": "code",
      "source": [
        "spark.sql('select * from df_clean').show(10)\n",
        "                                      "
      ],
      "metadata": {
        "colab": {
          "base_uri": "https://localhost:8080/"
        },
        "id": "3MYbf7mWVG8m",
        "outputId": "13c3ef06-0843-42c9-a665-f6e9c3ad5adc"
      },
      "execution_count": 135,
      "outputs": [
        {
          "output_type": "stream",
          "name": "stdout",
          "text": [
            "+------+--------------------+-------------------+--------+--------------------+-------------------+\n",
            "|ANONID|               QUERY|          QUERYTIME|ITEMRANK|            CLICKURL|       _QUERY_TIME_|\n",
            "+------+--------------------+-------------------+--------+--------------------+-------------------+\n",
            "|   142|     westchester.gov|2006-03-20 03:55:57|       1|http://www.westch...|2006-03-20 03:55:57|\n",
            "|   142|        207 ad2d 530|2006-04-08 01:31:14|       1|http://www.courts...|2006-04-08 01:31:14|\n",
            "|   142|            vera.org|2006-04-08 08:38:42|       1| http://www.vera.org|2006-04-08 08:38:42|\n",
            "|   217|             lottery|2006-03-01 11:58:51|       1|http://www.calott...|2006-03-01 11:58:51|\n",
            "|   217|             lottery|2006-03-01 11:58:51|       1|http://www.calott...|2006-03-01 11:58:51|\n",
            "|   217|      ameriprise.com|2006-03-01 14:06:23|       1|http://www.amerip...|2006-03-01 14:06:23|\n",
            "|   217|          mizuno.com|2006-03-07 22:41:17|       1|http://www.mizuno...|2006-03-07 22:41:17|\n",
            "|   217|asiansexygoddess.com|2006-03-16 14:31:36|       1|http://www.asians...|2006-03-16 14:31:36|\n",
            "|   217|bestasiancompany.com|2006-03-20 15:15:43|       1|http://www.bestas...|2006-03-20 15:15:43|\n",
            "|   217|             lottery|2006-03-27 14:10:38|       1|http://www.calott...|2006-03-27 14:10:38|\n",
            "+------+--------------------+-------------------+--------+--------------------+-------------------+\n",
            "only showing top 10 rows\n",
            "\n"
          ]
        }
      ]
    },
    {
      "cell_type": "code",
      "source": [
        "spark.sql('select * from df_grouped').show(10)"
      ],
      "metadata": {
        "colab": {
          "base_uri": "https://localhost:8080/"
        },
        "id": "CVjVy5bdYbrM",
        "outputId": "c525fd65-8038-4d25-e0b4-e0aa356ef922"
      },
      "execution_count": 136,
      "outputs": [
        {
          "output_type": "stream",
          "name": "stdout",
          "text": [
            "+------+--------------------+-----+\n",
            "|ANONID|              window|count|\n",
            "+------+--------------------+-----+\n",
            "|  2722|{2006-03-23 11:50...|    1|\n",
            "|  2722|{2006-04-06 07:10...|    1|\n",
            "|  2722|{2006-05-14 22:50...|    2|\n",
            "|  2722|{2006-05-25 00:10...|    1|\n",
            "|  4781|{2006-03-10 12:00...|    1|\n",
            "|  4781|{2006-04-15 09:50...|    2|\n",
            "|  4781|{2006-05-09 16:30...|    3|\n",
            "|  6497|{2006-04-06 01:50...|    1|\n",
            "|  7005|{2006-04-19 11:10...|    1|\n",
            "|  8400|{2006-03-11 14:40...|    2|\n",
            "+------+--------------------+-----+\n",
            "only showing top 10 rows\n",
            "\n"
          ]
        }
      ]
    },
    {
      "cell_type": "code",
      "source": [
        "df_joined = df_clean.join(df_grouped,((df_clean.ANONID == df_grouped.ANONID) & (df_clean._QUERY_TIME_.between(df_grouped.window.start,df_grouped.window.end))),'left_outer').drop(df_grouped.ANONID)\n",
        "df_joined.show(10)"
      ],
      "metadata": {
        "colab": {
          "base_uri": "https://localhost:8080/"
        },
        "id": "aczsuO_Fb5w2",
        "outputId": "faead9bb-2351-40ad-ca8a-75d1993eff79"
      },
      "execution_count": 163,
      "outputs": [
        {
          "output_type": "stream",
          "name": "stdout",
          "text": [
            "+--------------------+-------------------+--------+--------------------+-------------------+------+--------------------+-----+\n",
            "|               QUERY|          QUERYTIME|ITEMRANK|            CLICKURL|       _QUERY_TIME_|ANONID|              window|count|\n",
            "+--------------------+-------------------+--------+--------------------+-------------------+------+--------------------+-----+\n",
            "|     westchester.gov|2006-03-20 03:55:57|       1|http://www.westch...|2006-03-20 03:55:57|   142|{2006-03-20 03:50...|    1|\n",
            "|        207 ad2d 530|2006-04-08 01:31:14|       1|http://www.courts...|2006-04-08 01:31:14|   142|{2006-04-08 01:30...|    1|\n",
            "|            vera.org|2006-04-08 08:38:42|       1| http://www.vera.org|2006-04-08 08:38:42|   142|{2006-04-08 08:30...|    1|\n",
            "|             lottery|2006-03-01 11:58:51|       1|http://www.calott...|2006-03-01 11:58:51|   217|{2006-03-01 11:50...|    2|\n",
            "|             lottery|2006-03-01 11:58:51|       1|http://www.calott...|2006-03-01 11:58:51|   217|{2006-03-01 11:50...|    2|\n",
            "|      ameriprise.com|2006-03-01 14:06:23|       1|http://www.amerip...|2006-03-01 14:06:23|   217|{2006-03-01 14:00...|    1|\n",
            "|          mizuno.com|2006-03-07 22:41:17|       1|http://www.mizuno...|2006-03-07 22:41:17|   217|{2006-03-07 22:40...|    1|\n",
            "|asiansexygoddess.com|2006-03-16 14:31:36|       1|http://www.asians...|2006-03-16 14:31:36|   217|{2006-03-16 14:30...|    1|\n",
            "|bestasiancompany.com|2006-03-20 15:15:43|       1|http://www.bestas...|2006-03-20 15:15:43|   217|{2006-03-20 15:10...|    1|\n",
            "|             lottery|2006-03-27 14:10:38|       1|http://www.calott...|2006-03-27 14:10:38|   217|{2006-03-27 14:10...|    1|\n",
            "+--------------------+-------------------+--------+--------------------+-------------------+------+--------------------+-----+\n",
            "only showing top 10 rows\n",
            "\n"
          ]
        }
      ]
    },
    {
      "cell_type": "code",
      "source": [
        "df_joined.count()"
      ],
      "metadata": {
        "colab": {
          "base_uri": "https://localhost:8080/"
        },
        "id": "Mf1DZBQ1dKPh",
        "outputId": "ab3bff29-3b75-4d51-d6d5-585c92eb784c"
      },
      "execution_count": 164,
      "outputs": [
        {
          "output_type": "execute_result",
          "data": {
            "text/plain": [
              "1891306"
            ]
          },
          "metadata": {},
          "execution_count": 164
        }
      ]
    },
    {
      "cell_type": "code",
      "source": [
        "min_support = 20\n",
        "df_joined.createOrReplaceTempView('df_joined')\n",
        "query1 = spark.sql('''\n",
        "                    SELECT ANONID, window, count(*) as cnt\n",
        "                    FROM df_joined \n",
        "                    GROUP BY ANONID, window\n",
        "                    HAVING cnt > {min_supp}\n",
        "                    ORDER BY cnt DESC\n",
        "                   '''.format(min_supp=min_support))\n",
        "query1.show(15)"
      ],
      "metadata": {
        "colab": {
          "base_uri": "https://localhost:8080/"
        },
        "id": "3DhlZUOYkWJF",
        "outputId": "ca254095-f0de-4dc3-c538-1b0567698326"
      },
      "execution_count": 173,
      "outputs": [
        {
          "output_type": "stream",
          "name": "stdout",
          "text": [
            "+--------+--------------------+---+\n",
            "|  ANONID|              window|cnt|\n",
            "+--------+--------------------+---+\n",
            "| 3010310|{2006-03-28 18:40...|141|\n",
            "|15164617|{2006-04-27 11:50...| 88|\n",
            "|  607863|{2006-04-18 08:10...| 84|\n",
            "| 3362728|{2006-03-23 18:00...| 56|\n",
            "|  963132|{2006-05-21 12:50...| 56|\n",
            "| 3241737|{2006-05-06 20:10...| 51|\n",
            "| 8695017|{2006-04-02 19:50...| 51|\n",
            "|12025009|{2006-03-20 20:20...| 49|\n",
            "| 2023782|{2006-03-17 17:30...| 45|\n",
            "| 3241737|{2006-04-26 18:30...| 43|\n",
            "| 3639132|{2006-03-04 18:10...| 42|\n",
            "| 5808557|{2006-03-28 17:10...| 41|\n",
            "| 5808557|{2006-05-03 17:10...| 40|\n",
            "| 3241737|{2006-04-27 20:40...| 39|\n",
            "| 3241737|{2006-04-25 21:20...| 37|\n",
            "+--------+--------------------+---+\n",
            "only showing top 15 rows\n",
            "\n"
          ]
        }
      ]
    },
    {
      "cell_type": "code",
      "source": [
        "query1.count()"
      ],
      "metadata": {
        "colab": {
          "base_uri": "https://localhost:8080/"
        },
        "id": "CyyCaQjbnQXT",
        "outputId": "515c17a8-8f57-4e29-d172-aa6f84825ede"
      },
      "execution_count": 174,
      "outputs": [
        {
          "output_type": "execute_result",
          "data": {
            "text/plain": [
              "176"
            ]
          },
          "metadata": {},
          "execution_count": 174
        }
      ]
    },
    {
      "cell_type": "code",
      "source": [
        "W = df_joined.select(\"ANONID\", df_joined.window.start.cast(\"string\").alias(\"start\"),\n",
        "                               df_joined.window.end.cast(\"string\").alias(\"end\"),\n",
        "                               \"CLICKURL\" )\n",
        "\n",
        "W = W.select(\"ANONID\",concat(W.start, lit(\"  \"), W.end).alias(\"Interval\"),\"CLICKURL\")\n",
        "W.show(truncate=False)"
      ],
      "metadata": {
        "colab": {
          "base_uri": "https://localhost:8080/"
        },
        "id": "HwEoAmJzpIco",
        "outputId": "79c036c9-f9f5-4783-8a24-630d69f012e0"
      },
      "execution_count": 192,
      "outputs": [
        {
          "output_type": "stream",
          "name": "stdout",
          "text": [
            "+------+----------------------------------------+--------------------------------+\n",
            "|ANONID|Interval                                |CLICKURL                        |\n",
            "+------+----------------------------------------+--------------------------------+\n",
            "|1268  |2006-03-01 17:30:00  2006-03-01 17:40:00|http://www.blanketsnmore.com    |\n",
            "|1268  |2006-03-21 17:50:00  2006-03-21 18:00:00|http://www.osteen-schatzberg.com|\n",
            "|1268  |2006-03-21 17:50:00  2006-03-21 18:00:00|http://www.osteen-schatzberg.com|\n",
            "|1268  |2006-05-11 02:10:00  2006-05-11 02:20:00|http://www.niddk.nih.gov        |\n",
            "|1326  |2006-03-21 11:50:00  2006-03-21 12:00:00|http://www.wonderlandtheatre.com|\n",
            "|1326  |2006-03-29 17:10:00  2006-03-29 17:20:00|http://www.everyboat.com        |\n",
            "|1326  |2006-04-01 17:50:00  2006-04-01 18:00:00|http://www.imdb.com             |\n",
            "|142   |2006-03-20 03:50:00  2006-03-20 04:00:00|http://www.westchestergov.com   |\n",
            "|142   |2006-04-08 01:30:00  2006-04-08 01:40:00|http://www.courts.state.ny.us   |\n",
            "|142   |2006-04-08 08:30:00  2006-04-08 08:40:00|http://www.vera.org             |\n",
            "|217   |2006-03-01 11:50:00  2006-03-01 12:00:00|http://www.calottery.com        |\n",
            "|217   |2006-03-01 11:50:00  2006-03-01 12:00:00|http://www.calottery.com        |\n",
            "|217   |2006-03-01 14:00:00  2006-03-01 14:10:00|http://www.ameriprise.com       |\n",
            "|217   |2006-03-07 22:40:00  2006-03-07 22:50:00|http://www.mizuno.com           |\n",
            "|217   |2006-03-16 14:30:00  2006-03-16 14:40:00|http://www.asiansexygoddess.com |\n",
            "|217   |2006-03-20 15:10:00  2006-03-20 15:20:00|http://www.bestasiancompany.com |\n",
            "|217   |2006-03-27 14:10:00  2006-03-27 14:20:00|http://www.calottery.com        |\n",
            "|217   |2006-03-27 16:30:00  2006-03-27 16:40:00|http://www.calottery.com        |\n",
            "|217   |2006-03-31 14:30:00  2006-03-31 14:40:00|http://www.ask.com              |\n",
            "|217   |2006-05-18 18:20:00  2006-05-18 18:30:00|http://www.theonering.net       |\n",
            "+------+----------------------------------------+--------------------------------+\n",
            "only showing top 20 rows\n",
            "\n"
          ]
        }
      ]
    },
    {
      "cell_type": "code",
      "source": [
        "W.printSchema()"
      ],
      "metadata": {
        "colab": {
          "base_uri": "https://localhost:8080/"
        },
        "id": "8NbpazxwszM7",
        "outputId": "d1f51211-9813-43c7-a8c7-2ece272d2725"
      },
      "execution_count": 214,
      "outputs": [
        {
          "output_type": "stream",
          "name": "stdout",
          "text": [
            "root\n",
            " |-- ANONID: string (nullable = true)\n",
            " |-- Interval: string (nullable = true)\n",
            " |-- CLICKURL: string (nullable = true)\n",
            "\n"
          ]
        }
      ]
    },
    {
      "cell_type": "code",
      "source": [
        "W.createOrReplaceTempView('W')\n",
        "query = '''\n",
        "        WITH SOURCE as (\n",
        "                        SELECT d.*, REPLACE({ITEMS}, ' ', '_') as ITEMS                                                  \n",
        "                        FROM {data} as d\n",
        "                        ),\n",
        "\n",
        "            TOTAL as ( select count(distinct ITEMS) from SOURCE ),          \n",
        "\n",
        "            SUPPORT_ITEM_SET1 (\n",
        "                  SELECT *, CNT/ALL_CNT as SUPPORT \n",
        "                  FROM(\n",
        "                      SELECT ITEMS, count(*) as CNT, (select * from TOTAL) as ALL_CNT \n",
        "                      FROM SOURCE\n",
        "                      GROUP BY ITEMS\n",
        "                      ) as tab1\n",
        "                  WHERE (CNT/ALL_CNT) > {min_support}\n",
        "                  ORDER BY SUPPORT DESC\n",
        "                              )\n",
        "\n",
        "\n",
        "            select * from SUPPORT_ITEM_SET1\n",
        "            '''.format(data='W', ITEMS=\"CLICKURL\", min_support=0.01)\n",
        "\n",
        "      #       SELECT *\n",
        "      #       FROM SOURCE\n",
        "      #       WHERE ITEMS in (SELECT ITEMS FROM SUPPORT_ITEM_SET1)\n",
        "\n",
        "      #  '''.format(data='W', ITEMS=\"CLICKURL\", min_support=0.01)\n",
        "\n",
        "\n",
        "spark.sql(query).show(10)"
      ],
      "metadata": {
        "colab": {
          "base_uri": "https://localhost:8080/"
        },
        "id": "YPkAgPrmxGdM",
        "outputId": "14d3835a-a842-4d88-8045-a5c7a2d47992"
      },
      "execution_count": 234,
      "outputs": [
        {
          "output_type": "stream",
          "name": "stdout",
          "text": [
            "+--------------------+-----+-------+--------------------+\n",
            "|               ITEMS|  CNT|ALL_CNT|             SUPPORT|\n",
            "+--------------------+-----+-------+--------------------+\n",
            "|http://www.google...|35991| 377870|    0.09524704263371|\n",
            "|http://www.myspac...|17220| 377870| 0.04557122820017466|\n",
            "|http://www.yahoo.com|15212| 377870|0.040257231322941754|\n",
            "|http://en.wikiped...|12112| 377870| 0.03205335168179533|\n",
            "|http://www.amazon...|10746| 377870|0.028438351814115966|\n",
            "| http://www.imdb.com| 9720| 377870|0.025723132294175246|\n",
            "|http://www.mapque...| 9478| 377870|0.025082700399608332|\n",
            "| http://www.ebay.com| 6956| 377870|0.018408447349617593|\n",
            "|http://mail.yahoo...| 6197| 377870|0.016399820043930452|\n",
            "|http://www.bankof...| 4725| 377870|0.012504300420779633|\n",
            "+--------------------+-----+-------+--------------------+\n",
            "only showing top 10 rows\n",
            "\n"
          ]
        }
      ]
    },
    {
      "cell_type": "code",
      "source": [
        "# data_final = df_joined.groupBy(['ANONID','window']).pivot('CLICKURL').count().fillna(value=0)\n",
        "# data_final.show(10)"
      ],
      "metadata": {
        "id": "HC0hOgqmjwOQ"
      },
      "execution_count": 159,
      "outputs": []
    }
  ]
}